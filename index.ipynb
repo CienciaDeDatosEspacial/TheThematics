{
 "cells": [
  {
   "cell_type": "markdown",
   "metadata": {
    "id": "Rq_-jS9HtUU-"
   },
   "source": [
    "<center><img src=\"https://i.imgur.com/zRrFdsf.png\" width=\"700\"></center>"
   ]
  },
  {
   "cell_type": "markdown",
   "metadata": {
    "id": "-cCaZ1r2tUVA"
   },
   "source": [
    "# The Thematic map\n",
    "\n",
    "Last session we opened this map:"
   ]
  },
  {
   "cell_type": "code",
   "execution_count": 2,
   "metadata": {},
   "outputs": [
    {
     "data": {
      "text/html": [
       "<div>\n",
       "<style scoped>\n",
       "    .dataframe tbody tr th:only-of-type {\n",
       "        vertical-align: middle;\n",
       "    }\n",
       "\n",
       "    .dataframe tbody tr th {\n",
       "        vertical-align: top;\n",
       "    }\n",
       "\n",
       "    .dataframe thead th {\n",
       "        text-align: right;\n",
       "    }\n",
       "</style>\n",
       "<table border=\"1\" class=\"dataframe\">\n",
       "  <thead>\n",
       "    <tr style=\"text-align: right;\">\n",
       "      <th></th>\n",
       "      <th>COUNTRY</th>\n",
       "      <th>geometry</th>\n",
       "    </tr>\n",
       "  </thead>\n",
       "  <tbody>\n",
       "    <tr>\n",
       "      <th>0</th>\n",
       "      <td>Aruba (Netherlands)</td>\n",
       "      <td>POLYGON ((-69.88223 12.41111, -69.94695 12.436...</td>\n",
       "    </tr>\n",
       "    <tr>\n",
       "      <th>1</th>\n",
       "      <td>Antigua and Barbuda</td>\n",
       "      <td>MULTIPOLYGON (((-61.73889 17.54055, -61.75195 ...</td>\n",
       "    </tr>\n",
       "    <tr>\n",
       "      <th>2</th>\n",
       "      <td>Afghanistan</td>\n",
       "      <td>POLYGON ((61.27656 35.60725, 61.29638 35.62853...</td>\n",
       "    </tr>\n",
       "    <tr>\n",
       "      <th>3</th>\n",
       "      <td>Algeria</td>\n",
       "      <td>POLYGON ((-5.15213 30.18047, -5.13917 30.19236...</td>\n",
       "    </tr>\n",
       "    <tr>\n",
       "      <th>4</th>\n",
       "      <td>Azerbaijan</td>\n",
       "      <td>MULTIPOLYGON (((46.54037 38.87559, 46.49554 38...</td>\n",
       "    </tr>\n",
       "    <tr>\n",
       "      <th>...</th>\n",
       "      <td>...</td>\n",
       "      <td>...</td>\n",
       "    </tr>\n",
       "    <tr>\n",
       "      <th>247</th>\n",
       "      <td>South Sudan</td>\n",
       "      <td>POLYGON ((34.21807 9.96458, 34.20722 9.905, 34...</td>\n",
       "    </tr>\n",
       "    <tr>\n",
       "      <th>248</th>\n",
       "      <td>Indonesia</td>\n",
       "      <td>MULTIPOLYGON (((123.21846 -10.80917, 123.19832...</td>\n",
       "    </tr>\n",
       "    <tr>\n",
       "      <th>249</th>\n",
       "      <td>East Timor</td>\n",
       "      <td>MULTIPOLYGON (((124.41824 -9.3001, 124.40446 -...</td>\n",
       "    </tr>\n",
       "    <tr>\n",
       "      <th>250</th>\n",
       "      <td>Curacao (Netherlands)</td>\n",
       "      <td>POLYGON ((-68.96556 12.19889, -68.91196 12.181...</td>\n",
       "    </tr>\n",
       "    <tr>\n",
       "      <th>251</th>\n",
       "      <td>Bonaire (Netherlands)</td>\n",
       "      <td>POLYGON ((-68.19736 12.22264, -68.19292 12.207...</td>\n",
       "    </tr>\n",
       "  </tbody>\n",
       "</table>\n",
       "<p>252 rows × 2 columns</p>\n",
       "</div>"
      ],
      "text/plain": [
       "                   COUNTRY                                           geometry\n",
       "0      Aruba (Netherlands)  POLYGON ((-69.88223 12.41111, -69.94695 12.436...\n",
       "1      Antigua and Barbuda  MULTIPOLYGON (((-61.73889 17.54055, -61.75195 ...\n",
       "2              Afghanistan  POLYGON ((61.27656 35.60725, 61.29638 35.62853...\n",
       "3                  Algeria  POLYGON ((-5.15213 30.18047, -5.13917 30.19236...\n",
       "4               Azerbaijan  MULTIPOLYGON (((46.54037 38.87559, 46.49554 38...\n",
       "..                     ...                                                ...\n",
       "247            South Sudan  POLYGON ((34.21807 9.96458, 34.20722 9.905, 34...\n",
       "248              Indonesia  MULTIPOLYGON (((123.21846 -10.80917, 123.19832...\n",
       "249             East Timor  MULTIPOLYGON (((124.41824 -9.3001, 124.40446 -...\n",
       "250  Curacao (Netherlands)  POLYGON ((-68.96556 12.19889, -68.91196 12.181...\n",
       "251  Bonaire (Netherlands)  POLYGON ((-68.19736 12.22264, -68.19292 12.207...\n",
       "\n",
       "[252 rows x 2 columns]"
      ]
     },
     "execution_count": 2,
     "metadata": {},
     "output_type": "execute_result"
    }
   ],
   "source": [
    "import geopandas as gpd\n",
    "\n",
    "linkGitSession='https://github.com/CienciaDeDatosEspacial/dataSets/raw/main/'\n",
    "linkCountries='WORLD/World_Countries.zip'\n",
    "\n",
    "fullLinkCountries=linkGitSession+linkCountries\n",
    "countries=gpd.read_file(fullLinkCountries)\n",
    "countries"
   ]
  },
  {
   "cell_type": "markdown",
   "metadata": {},
   "source": [
    "As you see, the GDF above has just two colums; enough to plot a map, but no more than that.\n",
    "\n",
    "Let me open a DF:"
   ]
  },
  {
   "cell_type": "code",
   "execution_count": 3,
   "metadata": {},
   "outputs": [
    {
     "name": "stdout",
     "output_type": "stream",
     "text": [
      "<class 'pandas.core.frame.DataFrame'>\n",
      "RangeIndex: 170 entries, 0 to 169\n",
      "Data columns (total 9 columns):\n",
      " #   Column             Non-Null Count  Dtype  \n",
      "---  ------             --------------  -----  \n",
      " 0   Country            170 non-null    object \n",
      " 1   Officialstatename  170 non-null    object \n",
      " 2   InternetccTLD      170 non-null    object \n",
      " 3   iso2               169 non-null    object \n",
      " 4   iso3               170 non-null    object \n",
      " 5   fragility          170 non-null    float64\n",
      " 6   co2                170 non-null    float64\n",
      " 7   region             170 non-null    object \n",
      " 8   ForestRev_gdp      170 non-null    float64\n",
      "dtypes: float64(3), object(6)\n",
      "memory usage: 12.1+ KB\n"
     ]
    }
   ],
   "source": [
    "import pandas as pd\n",
    "\n",
    "someDataLink='WORLD/FragilityCia_isos.csv'\n",
    "\n",
    "someData=pd.read_csv(linkGitSession+someDataLink)\n",
    "\n",
    "someData.info()"
   ]
  },
  {
   "cell_type": "markdown",
   "metadata": {},
   "source": [
    "The DF has some interesting numerical data (_float64_): \n",
    "* fragility: fragility index 2023 [details here](https://fragilestatesindex.org/2023/06/14/fragile-states-index-2023-annual-report/)\n",
    "* co2: metric tonnes of CO2 emmitted [details here](https://www.cia.gov/the-world-factbook/field/carbon-dioxide-emissions/country-comparison/)\n",
    "* ForestRev_gdp: percentage of a country's GDP, from the harvesting of forests  [details here](https://www.cia.gov/the-world-factbook/about/archives/2023/field/revenue-from-forest-resources/)\n",
    "\n",
    "There are also other columns that may be of help:"
   ]
  },
  {
   "cell_type": "code",
   "execution_count": 4,
   "metadata": {},
   "outputs": [
    {
     "data": {
      "text/html": [
       "<div>\n",
       "<style scoped>\n",
       "    .dataframe tbody tr th:only-of-type {\n",
       "        vertical-align: middle;\n",
       "    }\n",
       "\n",
       "    .dataframe tbody tr th {\n",
       "        vertical-align: top;\n",
       "    }\n",
       "\n",
       "    .dataframe thead th {\n",
       "        text-align: right;\n",
       "    }\n",
       "</style>\n",
       "<table border=\"1\" class=\"dataframe\">\n",
       "  <thead>\n",
       "    <tr style=\"text-align: right;\">\n",
       "      <th></th>\n",
       "      <th>Country</th>\n",
       "      <th>Officialstatename</th>\n",
       "      <th>InternetccTLD</th>\n",
       "      <th>iso2</th>\n",
       "      <th>iso3</th>\n",
       "      <th>fragility</th>\n",
       "      <th>co2</th>\n",
       "      <th>region</th>\n",
       "      <th>ForestRev_gdp</th>\n",
       "    </tr>\n",
       "  </thead>\n",
       "  <tbody>\n",
       "    <tr>\n",
       "      <th>0</th>\n",
       "      <td>AFGHANISTAN</td>\n",
       "      <td>The Islamic Republic of Afghanistan</td>\n",
       "      <td>.af</td>\n",
       "      <td>AF</td>\n",
       "      <td>AFG</td>\n",
       "      <td>105.0</td>\n",
       "      <td>7893000.0</td>\n",
       "      <td>SOUTH ASIA</td>\n",
       "      <td>0.20</td>\n",
       "    </tr>\n",
       "    <tr>\n",
       "      <th>1</th>\n",
       "      <td>ALBANIA</td>\n",
       "      <td>The Republic of Albania</td>\n",
       "      <td>.al</td>\n",
       "      <td>AL</td>\n",
       "      <td>ALB</td>\n",
       "      <td>58.9</td>\n",
       "      <td>3794000.0</td>\n",
       "      <td>EUROPE</td>\n",
       "      <td>0.18</td>\n",
       "    </tr>\n",
       "    <tr>\n",
       "      <th>2</th>\n",
       "      <td>ALGERIA</td>\n",
       "      <td>The People's Democratic Republic of Algeria</td>\n",
       "      <td>.dz</td>\n",
       "      <td>DZ</td>\n",
       "      <td>DZA</td>\n",
       "      <td>75.4</td>\n",
       "      <td>151633000.0</td>\n",
       "      <td>AFRICA</td>\n",
       "      <td>0.10</td>\n",
       "    </tr>\n",
       "    <tr>\n",
       "      <th>3</th>\n",
       "      <td>ANGOLA</td>\n",
       "      <td>The Republic of Angola</td>\n",
       "      <td>.ao</td>\n",
       "      <td>AO</td>\n",
       "      <td>AGO</td>\n",
       "      <td>87.8</td>\n",
       "      <td>19362000.0</td>\n",
       "      <td>AFRICA</td>\n",
       "      <td>0.36</td>\n",
       "    </tr>\n",
       "    <tr>\n",
       "      <th>4</th>\n",
       "      <td>ANTIGUA AND BARBUDA</td>\n",
       "      <td>Antigua and Barbuda</td>\n",
       "      <td>.ag</td>\n",
       "      <td>AG</td>\n",
       "      <td>ATG</td>\n",
       "      <td>54.4</td>\n",
       "      <td>729000.0</td>\n",
       "      <td>CENTRAL AMERICA AND THE CARIBBEAN</td>\n",
       "      <td>0.00</td>\n",
       "    </tr>\n",
       "  </tbody>\n",
       "</table>\n",
       "</div>"
      ],
      "text/plain": [
       "               Country                            Officialstatename  \\\n",
       "0          AFGHANISTAN          The Islamic Republic of Afghanistan   \n",
       "1              ALBANIA                      The Republic of Albania   \n",
       "2              ALGERIA  The People's Democratic Republic of Algeria   \n",
       "3               ANGOLA                       The Republic of Angola   \n",
       "4  ANTIGUA AND BARBUDA                          Antigua and Barbuda   \n",
       "\n",
       "  InternetccTLD iso2 iso3  fragility          co2  \\\n",
       "0           .af   AF  AFG      105.0    7893000.0   \n",
       "1           .al   AL  ALB       58.9    3794000.0   \n",
       "2           .dz   DZ  DZA       75.4  151633000.0   \n",
       "3           .ao   AO  AGO       87.8   19362000.0   \n",
       "4           .ag   AG  ATG       54.4     729000.0   \n",
       "\n",
       "                              region  ForestRev_gdp  \n",
       "0                         SOUTH ASIA           0.20  \n",
       "1                             EUROPE           0.18  \n",
       "2                             AFRICA           0.10  \n",
       "3                             AFRICA           0.36  \n",
       "4  CENTRAL AMERICA AND THE CARIBBEAN           0.00  "
      ]
     },
     "execution_count": 4,
     "metadata": {},
     "output_type": "execute_result"
    }
   ],
   "source": [
    "someData.head()"
   ]
  },
  {
   "cell_type": "markdown",
   "metadata": {},
   "source": [
    "Preparing thematic maps requires social data about the geometry (line, polygon, point). The object **countries** has no social data, so the preprocessing requires geomerging."
   ]
  },
  {
   "cell_type": "markdown",
   "metadata": {
    "id": "cQgamTbX911A"
   },
   "source": [
    "## Geo Merging\n",
    "\n",
    "This s a critical preprocessing operation, as it is charge of combining to data sets, in this case combine a DF into a GDF. Some rules are needed:\n",
    "\n",
    "* There is at least one common column needed to serve for the matches.\n",
    "* The common column(s), or KEY(s), need contents to be written exactly in both columns.\n",
    "* It is recommended that both KEY(s) are named the same.\n",
    "\n",
    "Here we have the KEYs:"
   ]
  },
  {
   "cell_type": "code",
   "execution_count": 5,
   "metadata": {
    "id": "QkRTmDTZ911A"
   },
   "outputs": [
    {
     "data": {
      "text/plain": [
       "0    Aruba (Netherlands)\n",
       "1    Antigua and Barbuda\n",
       "2            Afghanistan\n",
       "3                Algeria\n",
       "4             Azerbaijan\n",
       "Name: COUNTRY, dtype: object"
      ]
     },
     "execution_count": 5,
     "metadata": {},
     "output_type": "execute_result"
    }
   ],
   "source": [
    "countries.COUNTRY.head()"
   ]
  },
  {
   "cell_type": "code",
   "execution_count": 7,
   "metadata": {},
   "outputs": [
    {
     "data": {
      "text/plain": [
       "0            AFGHANISTAN\n",
       "1                ALBANIA\n",
       "2                ALGERIA\n",
       "3                 ANGOLA\n",
       "4    ANTIGUA AND BARBUDA\n",
       "Name: Country, dtype: object"
      ]
     },
     "execution_count": 7,
     "metadata": {},
     "output_type": "execute_result"
    }
   ],
   "source": [
    "someData.Country.head()"
   ]
  },
  {
   "cell_type": "markdown",
   "metadata": {
    "id": "mL6Pw18r911A"
   },
   "source": [
    "Let's solve the name differences for thr KEYs:"
   ]
  },
  {
   "cell_type": "code",
   "execution_count": 9,
   "metadata": {
    "id": "97btXyge911A"
   },
   "outputs": [],
   "source": [
    "countries.rename(columns={'COUNTRY':'Country'},inplace=True)"
   ]
  },
  {
   "cell_type": "markdown",
   "metadata": {
    "id": "ucMytkM9911A"
   },
   "source": [
    "We can notice the different case in the KEYs. Let's work with uppercases:"
   ]
  },
  {
   "cell_type": "code",
   "execution_count": 10,
   "metadata": {
    "id": "_vJq-o89911B"
   },
   "outputs": [],
   "source": [
    "countries['Country']=countries.Country.str.upper()"
   ]
  },
  {
   "cell_type": "markdown",
   "metadata": {
    "id": "qQjjpN3J911B"
   },
   "source": [
    "It is very unlikely the names are written the same. Verify:"
   ]
  },
  {
   "cell_type": "code",
   "execution_count": 11,
   "metadata": {
    "id": "XQSKl9Nz911B"
   },
   "outputs": [],
   "source": [
    "onlyDF=set(someData.Country)- set(countries.Country)\n",
    "onlyGDF=set(countries.Country)- set(someData.Country)"
   ]
  },
  {
   "cell_type": "markdown",
   "metadata": {
    "id": "6HxnDC7W911B"
   },
   "source": [
    "Check here:"
   ]
  },
  {
   "cell_type": "code",
   "execution_count": 12,
   "metadata": {
    "id": "hE_aSvmQ911B"
   },
   "outputs": [
    {
     "data": {
      "text/plain": [
       "{'BAHAMAS (THE)',\n",
       " 'BOLIVIA (PLURINATIONAL STATE OF)',\n",
       " 'BRUNEI DARUSSALAM',\n",
       " 'CABO VERDE',\n",
       " 'CENTRAL AFRICAN REPUBLIC (THE)',\n",
       " 'COMOROS (THE)',\n",
       " 'CONGO (THE DEMOCRATIC REPUBLIC OF THE)',\n",
       " 'CONGO (THE)',\n",
       " \"CÔTE D'IVOIRE\",\n",
       " 'DOMINICAN REPUBLIC (THE)',\n",
       " 'ESWATINI',\n",
       " 'GAMBIA (THE)',\n",
       " 'IRAN (ISLAMIC REPUBLIC OF)',\n",
       " 'KOREA (THE REPUBLIC OF)',\n",
       " \"LAO PEOPLE'S DEMOCRATIC REPUBLIC (THE)\",\n",
       " 'MICRONESIA (FEDERATED STATES OF)',\n",
       " 'MOLDOVA (THE REPUBLIC OF)',\n",
       " 'NETHERLANDS (THE)',\n",
       " 'NIGER (THE)',\n",
       " 'NORTH MACEDONIA',\n",
       " 'NORTHERN MARIANA ISLANDS (THE)',\n",
       " 'PHILIPPINES (THE)',\n",
       " 'RUSSIAN FEDERATION (THE)',\n",
       " 'SAMOA',\n",
       " 'SUDAN (THE)',\n",
       " 'TANZANIA, THE UNITED REPUBLIC OF',\n",
       " 'TIMOR-LESTE',\n",
       " 'UNITED ARAB EMIRATES (THE)',\n",
       " 'UNITED KINGDOM OF GREAT BRITAIN AND NORTHERN IRELAND (THE)',\n",
       " 'UNITED STATES OF AMERICA (THE)',\n",
       " 'VIET NAM'}"
      ]
     },
     "execution_count": 12,
     "metadata": {},
     "output_type": "execute_result"
    }
   ],
   "source": [
    "onlyDF"
   ]
  },
  {
   "cell_type": "markdown",
   "metadata": {},
   "source": [
    "There are several countries in the DF that did not find a match in the GDF (map). Of course, most of them are in the map, let's see why they were not matched:"
   ]
  },
  {
   "cell_type": "markdown",
   "metadata": {
    "id": "6_UJQaV3911B"
   },
   "source": [
    "### Fuzzy merging"
   ]
  },
  {
   "cell_type": "markdown",
   "metadata": {
    "id": "1Ru8Wp9f911C"
   },
   "source": [
    "We use this to detect similarities between strings. You need this package **thefuzz**:"
   ]
  },
  {
   "cell_type": "code",
   "execution_count": 15,
   "metadata": {
    "id": "5kOc6YjOBuwj"
   },
   "outputs": [
    {
     "name": "stdout",
     "output_type": "stream",
     "text": [
      "Collecting thefuzz\n",
      "  Downloading thefuzz-0.22.1-py3-none-any.whl.metadata (3.9 kB)\n",
      "Collecting rapidfuzz<4.0.0,>=3.0.0 (from thefuzz)\n",
      "  Downloading rapidfuzz-3.14.0-cp311-cp311-macosx_11_0_arm64.whl.metadata (12 kB)\n",
      "Downloading thefuzz-0.22.1-py3-none-any.whl (8.2 kB)\n",
      "Downloading rapidfuzz-3.14.0-cp311-cp311-macosx_11_0_arm64.whl (1.5 MB)\n",
      "\u001b[2K   \u001b[90m━━━━━━━━━━━━━━━━━━━━━━━━━━━━━━━━━━━━━━━━\u001b[0m \u001b[32m1.5/1.5 MB\u001b[0m \u001b[31m6.6 MB/s\u001b[0m  \u001b[33m0:00:00\u001b[0m eta \u001b[36m0:00:01\u001b[0m\n",
      "\u001b[?25hInstalling collected packages: rapidfuzz, thefuzz\n",
      "\u001b[2K   \u001b[90m━━━━━━━━━━━━━━━━━━━━━━━━━━━━━━━━━━━━━━━━\u001b[0m \u001b[32m2/2\u001b[0m [thefuzz]z]\n",
      "\u001b[1A\u001b[2KSuccessfully installed rapidfuzz-3.14.0 thefuzz-0.22.1\n"
     ]
    }
   ],
   "source": [
    "# !pip install thefuzz"
   ]
  },
  {
   "cell_type": "markdown",
   "metadata": {},
   "source": [
    "This is the basic idea:"
   ]
  },
  {
   "cell_type": "code",
   "execution_count": 27,
   "metadata": {
    "id": "OGiG_W77911G"
   },
   "outputs": [
    {
     "data": {
      "text/plain": [
       "('BAHAMAS', 90)"
      ]
     },
     "execution_count": 27,
     "metadata": {},
     "output_type": "execute_result"
    }
   ],
   "source": [
    "from thefuzz.process import extractOne as best\n",
    "\n",
    "best('BAHAMAS (THE)',onlyGDF)"
   ]
  },
  {
   "cell_type": "markdown",
   "metadata": {},
   "source": [
    "As you see, you get 90% match between those strings. That may be a reliable result.\n",
    "\n",
    "Let's do the same for all the unmatched countries:"
   ]
  },
  {
   "cell_type": "code",
   "execution_count": 46,
   "metadata": {},
   "outputs": [
    {
     "data": {
      "text/plain": [
       "[('GAMBIA (THE)', ('GAMBIA', 90)),\n",
       " ('DOMINICAN REPUBLIC (THE)', ('DOMINICAN REPUBLIC', 95)),\n",
       " ('BAHAMAS (THE)', ('BAHAMAS', 90)),\n",
       " ('VIET NAM', ('VIETNAM', 93)),\n",
       " ('NORTH MACEDONIA', ('MACEDONIA', 90)),\n",
       " ('NIGER (THE)', ('NIGER', 90)),\n",
       " ('MICRONESIA (FEDERATED STATES OF)', ('FEDERATED STATES OF MICRONESIA', 95)),\n",
       " ('RUSSIAN FEDERATION (THE)', ('RUSSIA', 90)),\n",
       " ('CENTRAL AFRICAN REPUBLIC (THE)', ('CENTRAL AFRICAN REPUBLIC', 95)),\n",
       " ('TIMOR-LESTE', ('EAST TIMOR', 81)),\n",
       " ('CONGO (THE DEMOCRATIC REPUBLIC OF THE)',\n",
       "  ('DEMOCRATIC REPUBLIC OF THE CONGO', 95)),\n",
       " ('COMOROS (THE)', ('COMOROS', 90)),\n",
       " ('PHILIPPINES (THE)', ('PHILIPPINES', 95)),\n",
       " ('NETHERLANDS (THE)', ('NETHERLANDS', 95)),\n",
       " ('BOLIVIA (PLURINATIONAL STATE OF)', ('BOLIVIA', 90)),\n",
       " ('UNITED ARAB EMIRATES (THE)', ('UNITED ARAB EMIRATES', 95)),\n",
       " ('NORTHERN MARIANA ISLANDS (THE)', ('NORTHERN MARIANA ISLANDS (US)', 91)),\n",
       " ('MOLDOVA (THE REPUBLIC OF)', ('MOLDOVA', 90)),\n",
       " ('BRUNEI DARUSSALAM', ('BRUNEI', 90)),\n",
       " ('IRAN (ISLAMIC REPUBLIC OF)', ('IRAN', 90)),\n",
       " ('SUDAN (THE)', ('SUDAN', 90)),\n",
       " ('TANZANIA, THE UNITED REPUBLIC OF', ('TANZANIA', 90)),\n",
       " ('CONGO (THE)', ('CONGO', 90)),\n",
       " (\"CÔTE D'IVOIRE\", ('IVORY COAST', 58)),\n",
       " ('CABO VERDE', ('CAPE VERDE', 80)),\n",
       " ('UNITED KINGDOM OF GREAT BRITAIN AND NORTHERN IRELAND (THE)',\n",
       "  ('UNITED KINGDOM', 90)),\n",
       " ('UNITED STATES OF AMERICA (THE)', ('UNITED STATES', 90))]"
      ]
     },
     "execution_count": 46,
     "metadata": {},
     "output_type": "execute_result"
    }
   ],
   "source": [
    "[(country, best(country,onlyGDF)) for country in onlyDF]"
   ]
  },
  {
   "cell_type": "code",
   "execution_count": 47,
   "metadata": {},
   "outputs": [
    {
     "data": {
      "text/plain": [
       "[('GAMBIA (THE)', 'GAMBIA', 90),\n",
       " ('DOMINICAN REPUBLIC (THE)', 'DOMINICAN REPUBLIC', 95),\n",
       " ('BAHAMAS (THE)', 'BAHAMAS', 90),\n",
       " ('VIET NAM', 'VIETNAM', 93),\n",
       " ('NORTH MACEDONIA', 'MACEDONIA', 90),\n",
       " ('NIGER (THE)', 'NIGER', 90),\n",
       " ('MICRONESIA (FEDERATED STATES OF)', 'FEDERATED STATES OF MICRONESIA', 95),\n",
       " ('RUSSIAN FEDERATION (THE)', 'RUSSIA', 90),\n",
       " ('CENTRAL AFRICAN REPUBLIC (THE)', 'CENTRAL AFRICAN REPUBLIC', 95),\n",
       " ('TIMOR-LESTE', 'EAST TIMOR', 81),\n",
       " ('CONGO (THE DEMOCRATIC REPUBLIC OF THE)',\n",
       "  'DEMOCRATIC REPUBLIC OF THE CONGO',\n",
       "  95),\n",
       " ('COMOROS (THE)', 'COMOROS', 90),\n",
       " ('PHILIPPINES (THE)', 'PHILIPPINES', 95),\n",
       " ('NETHERLANDS (THE)', 'NETHERLANDS', 95),\n",
       " ('BOLIVIA (PLURINATIONAL STATE OF)', 'BOLIVIA', 90),\n",
       " ('UNITED ARAB EMIRATES (THE)', 'UNITED ARAB EMIRATES', 95),\n",
       " ('NORTHERN MARIANA ISLANDS (THE)', 'NORTHERN MARIANA ISLANDS (US)', 91),\n",
       " ('MOLDOVA (THE REPUBLIC OF)', 'MOLDOVA', 90),\n",
       " ('BRUNEI DARUSSALAM', 'BRUNEI', 90),\n",
       " ('IRAN (ISLAMIC REPUBLIC OF)', 'IRAN', 90),\n",
       " ('SUDAN (THE)', 'SUDAN', 90),\n",
       " ('TANZANIA, THE UNITED REPUBLIC OF', 'TANZANIA', 90),\n",
       " ('CONGO (THE)', 'CONGO', 90),\n",
       " (\"CÔTE D'IVOIRE\", 'IVORY COAST', 58),\n",
       " ('CABO VERDE', 'CAPE VERDE', 80),\n",
       " ('UNITED KINGDOM OF GREAT BRITAIN AND NORTHERN IRELAND (THE)',\n",
       "  'UNITED KINGDOM',\n",
       "  90),\n",
       " ('UNITED STATES OF AMERICA (THE)', 'UNITED STATES', 90)]"
      ]
     },
     "execution_count": 47,
     "metadata": {},
     "output_type": "execute_result"
    }
   ],
   "source": [
    "#or\n",
    "\n",
    "[(country, best(country,onlyGDF)[0],best(country,onlyGDF)[1]) for country in onlyDF]"
   ]
  },
  {
   "cell_type": "markdown",
   "metadata": {},
   "source": [
    "At this point we should make a decision. The format above makes it complex, maybe this one could help:"
   ]
  },
  {
   "cell_type": "code",
   "execution_count": 48,
   "metadata": {},
   "outputs": [
    {
     "data": {
      "text/html": [
       "<div>\n",
       "<style scoped>\n",
       "    .dataframe tbody tr th:only-of-type {\n",
       "        vertical-align: middle;\n",
       "    }\n",
       "\n",
       "    .dataframe tbody tr th {\n",
       "        vertical-align: top;\n",
       "    }\n",
       "\n",
       "    .dataframe thead th {\n",
       "        text-align: right;\n",
       "    }\n",
       "</style>\n",
       "<table border=\"1\" class=\"dataframe\">\n",
       "  <thead>\n",
       "    <tr style=\"text-align: right;\">\n",
       "      <th></th>\n",
       "      <th>0</th>\n",
       "      <th>1</th>\n",
       "      <th>2</th>\n",
       "    </tr>\n",
       "  </thead>\n",
       "  <tbody>\n",
       "    <tr>\n",
       "      <th>23</th>\n",
       "      <td>CÔTE D'IVOIRE</td>\n",
       "      <td>IVORY COAST</td>\n",
       "      <td>58</td>\n",
       "    </tr>\n",
       "    <tr>\n",
       "      <th>24</th>\n",
       "      <td>CABO VERDE</td>\n",
       "      <td>CAPE VERDE</td>\n",
       "      <td>80</td>\n",
       "    </tr>\n",
       "    <tr>\n",
       "      <th>9</th>\n",
       "      <td>TIMOR-LESTE</td>\n",
       "      <td>EAST TIMOR</td>\n",
       "      <td>81</td>\n",
       "    </tr>\n",
       "    <tr>\n",
       "      <th>0</th>\n",
       "      <td>GAMBIA (THE)</td>\n",
       "      <td>GAMBIA</td>\n",
       "      <td>90</td>\n",
       "    </tr>\n",
       "    <tr>\n",
       "      <th>22</th>\n",
       "      <td>CONGO (THE)</td>\n",
       "      <td>CONGO</td>\n",
       "      <td>90</td>\n",
       "    </tr>\n",
       "    <tr>\n",
       "      <th>21</th>\n",
       "      <td>TANZANIA, THE UNITED REPUBLIC OF</td>\n",
       "      <td>TANZANIA</td>\n",
       "      <td>90</td>\n",
       "    </tr>\n",
       "    <tr>\n",
       "      <th>20</th>\n",
       "      <td>SUDAN (THE)</td>\n",
       "      <td>SUDAN</td>\n",
       "      <td>90</td>\n",
       "    </tr>\n",
       "    <tr>\n",
       "      <th>19</th>\n",
       "      <td>IRAN (ISLAMIC REPUBLIC OF)</td>\n",
       "      <td>IRAN</td>\n",
       "      <td>90</td>\n",
       "    </tr>\n",
       "    <tr>\n",
       "      <th>18</th>\n",
       "      <td>BRUNEI DARUSSALAM</td>\n",
       "      <td>BRUNEI</td>\n",
       "      <td>90</td>\n",
       "    </tr>\n",
       "    <tr>\n",
       "      <th>17</th>\n",
       "      <td>MOLDOVA (THE REPUBLIC OF)</td>\n",
       "      <td>MOLDOVA</td>\n",
       "      <td>90</td>\n",
       "    </tr>\n",
       "    <tr>\n",
       "      <th>14</th>\n",
       "      <td>BOLIVIA (PLURINATIONAL STATE OF)</td>\n",
       "      <td>BOLIVIA</td>\n",
       "      <td>90</td>\n",
       "    </tr>\n",
       "    <tr>\n",
       "      <th>25</th>\n",
       "      <td>UNITED KINGDOM OF GREAT BRITAIN AND NORTHERN I...</td>\n",
       "      <td>UNITED KINGDOM</td>\n",
       "      <td>90</td>\n",
       "    </tr>\n",
       "    <tr>\n",
       "      <th>26</th>\n",
       "      <td>UNITED STATES OF AMERICA (THE)</td>\n",
       "      <td>UNITED STATES</td>\n",
       "      <td>90</td>\n",
       "    </tr>\n",
       "    <tr>\n",
       "      <th>11</th>\n",
       "      <td>COMOROS (THE)</td>\n",
       "      <td>COMOROS</td>\n",
       "      <td>90</td>\n",
       "    </tr>\n",
       "    <tr>\n",
       "      <th>7</th>\n",
       "      <td>RUSSIAN FEDERATION (THE)</td>\n",
       "      <td>RUSSIA</td>\n",
       "      <td>90</td>\n",
       "    </tr>\n",
       "    <tr>\n",
       "      <th>5</th>\n",
       "      <td>NIGER (THE)</td>\n",
       "      <td>NIGER</td>\n",
       "      <td>90</td>\n",
       "    </tr>\n",
       "    <tr>\n",
       "      <th>4</th>\n",
       "      <td>NORTH MACEDONIA</td>\n",
       "      <td>MACEDONIA</td>\n",
       "      <td>90</td>\n",
       "    </tr>\n",
       "    <tr>\n",
       "      <th>2</th>\n",
       "      <td>BAHAMAS (THE)</td>\n",
       "      <td>BAHAMAS</td>\n",
       "      <td>90</td>\n",
       "    </tr>\n",
       "    <tr>\n",
       "      <th>16</th>\n",
       "      <td>NORTHERN MARIANA ISLANDS (THE)</td>\n",
       "      <td>NORTHERN MARIANA ISLANDS (US)</td>\n",
       "      <td>91</td>\n",
       "    </tr>\n",
       "    <tr>\n",
       "      <th>3</th>\n",
       "      <td>VIET NAM</td>\n",
       "      <td>VIETNAM</td>\n",
       "      <td>93</td>\n",
       "    </tr>\n",
       "    <tr>\n",
       "      <th>10</th>\n",
       "      <td>CONGO (THE DEMOCRATIC REPUBLIC OF THE)</td>\n",
       "      <td>DEMOCRATIC REPUBLIC OF THE CONGO</td>\n",
       "      <td>95</td>\n",
       "    </tr>\n",
       "    <tr>\n",
       "      <th>15</th>\n",
       "      <td>UNITED ARAB EMIRATES (THE)</td>\n",
       "      <td>UNITED ARAB EMIRATES</td>\n",
       "      <td>95</td>\n",
       "    </tr>\n",
       "    <tr>\n",
       "      <th>8</th>\n",
       "      <td>CENTRAL AFRICAN REPUBLIC (THE)</td>\n",
       "      <td>CENTRAL AFRICAN REPUBLIC</td>\n",
       "      <td>95</td>\n",
       "    </tr>\n",
       "    <tr>\n",
       "      <th>6</th>\n",
       "      <td>MICRONESIA (FEDERATED STATES OF)</td>\n",
       "      <td>FEDERATED STATES OF MICRONESIA</td>\n",
       "      <td>95</td>\n",
       "    </tr>\n",
       "    <tr>\n",
       "      <th>1</th>\n",
       "      <td>DOMINICAN REPUBLIC (THE)</td>\n",
       "      <td>DOMINICAN REPUBLIC</td>\n",
       "      <td>95</td>\n",
       "    </tr>\n",
       "    <tr>\n",
       "      <th>12</th>\n",
       "      <td>PHILIPPINES (THE)</td>\n",
       "      <td>PHILIPPINES</td>\n",
       "      <td>95</td>\n",
       "    </tr>\n",
       "    <tr>\n",
       "      <th>13</th>\n",
       "      <td>NETHERLANDS (THE)</td>\n",
       "      <td>NETHERLANDS</td>\n",
       "      <td>95</td>\n",
       "    </tr>\n",
       "  </tbody>\n",
       "</table>\n",
       "</div>"
      ],
      "text/plain": [
       "                                                    0  \\\n",
       "23                                      CÔTE D'IVOIRE   \n",
       "24                                         CABO VERDE   \n",
       "9                                         TIMOR-LESTE   \n",
       "0                                        GAMBIA (THE)   \n",
       "22                                        CONGO (THE)   \n",
       "21                   TANZANIA, THE UNITED REPUBLIC OF   \n",
       "20                                        SUDAN (THE)   \n",
       "19                         IRAN (ISLAMIC REPUBLIC OF)   \n",
       "18                                  BRUNEI DARUSSALAM   \n",
       "17                          MOLDOVA (THE REPUBLIC OF)   \n",
       "14                   BOLIVIA (PLURINATIONAL STATE OF)   \n",
       "25  UNITED KINGDOM OF GREAT BRITAIN AND NORTHERN I...   \n",
       "26                     UNITED STATES OF AMERICA (THE)   \n",
       "11                                      COMOROS (THE)   \n",
       "7                            RUSSIAN FEDERATION (THE)   \n",
       "5                                         NIGER (THE)   \n",
       "4                                     NORTH MACEDONIA   \n",
       "2                                       BAHAMAS (THE)   \n",
       "16                     NORTHERN MARIANA ISLANDS (THE)   \n",
       "3                                            VIET NAM   \n",
       "10             CONGO (THE DEMOCRATIC REPUBLIC OF THE)   \n",
       "15                         UNITED ARAB EMIRATES (THE)   \n",
       "8                      CENTRAL AFRICAN REPUBLIC (THE)   \n",
       "6                    MICRONESIA (FEDERATED STATES OF)   \n",
       "1                            DOMINICAN REPUBLIC (THE)   \n",
       "12                                  PHILIPPINES (THE)   \n",
       "13                                  NETHERLANDS (THE)   \n",
       "\n",
       "                                   1   2  \n",
       "23                       IVORY COAST  58  \n",
       "24                        CAPE VERDE  80  \n",
       "9                         EAST TIMOR  81  \n",
       "0                             GAMBIA  90  \n",
       "22                             CONGO  90  \n",
       "21                          TANZANIA  90  \n",
       "20                             SUDAN  90  \n",
       "19                              IRAN  90  \n",
       "18                            BRUNEI  90  \n",
       "17                           MOLDOVA  90  \n",
       "14                           BOLIVIA  90  \n",
       "25                    UNITED KINGDOM  90  \n",
       "26                     UNITED STATES  90  \n",
       "11                           COMOROS  90  \n",
       "7                             RUSSIA  90  \n",
       "5                              NIGER  90  \n",
       "4                          MACEDONIA  90  \n",
       "2                            BAHAMAS  90  \n",
       "16     NORTHERN MARIANA ISLANDS (US)  91  \n",
       "3                            VIETNAM  93  \n",
       "10  DEMOCRATIC REPUBLIC OF THE CONGO  95  \n",
       "15              UNITED ARAB EMIRATES  95  \n",
       "8           CENTRAL AFRICAN REPUBLIC  95  \n",
       "6     FEDERATED STATES OF MICRONESIA  95  \n",
       "1                 DOMINICAN REPUBLIC  95  \n",
       "12                       PHILIPPINES  95  \n",
       "13                       NETHERLANDS  95  "
      ]
     },
     "execution_count": 48,
     "metadata": {},
     "output_type": "execute_result"
    }
   ],
   "source": [
    "pd.DataFrame([(country, best(country,onlyGDF)[0],best(country,onlyGDF)[1]) for country in onlyDF]).sort_values(2)"
   ]
  },
  {
   "cell_type": "markdown",
   "metadata": {},
   "source": [
    "The previous result helps make a plan based on these cases:\n",
    "* **ESWATINI** is always a problem, because it is also *SWAZILAND*.\n",
    "* **KOREA (THE REPUBLIC OF)** is not _NORTH KOREA_.\n",
    "* **LAO PEOPLE'S DEMOCRATIC REPUBLIC (THE)** is too long to match *LAOS* (if it exists in the map like that).\n",
    "* **SAMOA** is always a problem, because it is also *WESTERN SAMOA*.\n",
    "\n",
    "Based on this, we should see what our GDF has:"
   ]
  },
  {
   "cell_type": "code",
   "execution_count": 38,
   "metadata": {},
   "outputs": [
    {
     "data": {
      "text/plain": [
       "9      AMERICAN SAMOA (US)\n",
       "120            NORTH KOREA\n",
       "122            SOUTH KOREA\n",
       "126                   LAOS\n",
       "242          WESTERN SAMOA\n",
       "243              SWAZILAND\n",
       "Name: Country, dtype: object"
      ]
     },
     "execution_count": 38,
     "metadata": {},
     "output_type": "execute_result"
    }
   ],
   "source": [
    "countries.Country[countries.Country.str.contains('SWAZ|LAO|SAMOA|KORE')]"
   ]
  },
  {
   "cell_type": "markdown",
   "metadata": {},
   "source": [
    "Then, it makes sense to change those manually:"
   ]
  },
  {
   "cell_type": "code",
   "execution_count": 43,
   "metadata": {},
   "outputs": [],
   "source": [
    "manualChanges={'SWAZILAND':'ESWATINI',\n",
    "               'LAOS':\"LAO PEOPLE'S DEMOCRATIC REPUBLIC (THE)\",\n",
    "               'SOUTH KOREA':'KOREA (THE REPUBLIC OF)',\n",
    "               'WESTERN SAMOA':'SAMOA',\n",
    "              }\n",
    "\n",
    "countries.replace(to_replace={'Country':manualChanges},inplace=True)"
   ]
  },
  {
   "cell_type": "markdown",
   "metadata": {},
   "source": [
    "At this stage, we should recompute the differences:"
   ]
  },
  {
   "cell_type": "code",
   "execution_count": 44,
   "metadata": {},
   "outputs": [],
   "source": [
    "# updating\n",
    "onlyDF=set(someData.Country)- set(countries.Country)\n",
    "onlyGDF=set(countries.Country)- set(someData.Country)"
   ]
  },
  {
   "cell_type": "markdown",
   "metadata": {},
   "source": [
    "An re run this code:"
   ]
  },
  {
   "cell_type": "code",
   "execution_count": 49,
   "metadata": {
    "id": "X_BTyMJ6911G"
   },
   "outputs": [
    {
     "data": {
      "text/html": [
       "<div>\n",
       "<style scoped>\n",
       "    .dataframe tbody tr th:only-of-type {\n",
       "        vertical-align: middle;\n",
       "    }\n",
       "\n",
       "    .dataframe tbody tr th {\n",
       "        vertical-align: top;\n",
       "    }\n",
       "\n",
       "    .dataframe thead th {\n",
       "        text-align: right;\n",
       "    }\n",
       "</style>\n",
       "<table border=\"1\" class=\"dataframe\">\n",
       "  <thead>\n",
       "    <tr style=\"text-align: right;\">\n",
       "      <th></th>\n",
       "      <th>0</th>\n",
       "      <th>1</th>\n",
       "      <th>2</th>\n",
       "    </tr>\n",
       "  </thead>\n",
       "  <tbody>\n",
       "    <tr>\n",
       "      <th>23</th>\n",
       "      <td>CÔTE D'IVOIRE</td>\n",
       "      <td>IVORY COAST</td>\n",
       "      <td>58</td>\n",
       "    </tr>\n",
       "    <tr>\n",
       "      <th>24</th>\n",
       "      <td>CABO VERDE</td>\n",
       "      <td>CAPE VERDE</td>\n",
       "      <td>80</td>\n",
       "    </tr>\n",
       "    <tr>\n",
       "      <th>9</th>\n",
       "      <td>TIMOR-LESTE</td>\n",
       "      <td>EAST TIMOR</td>\n",
       "      <td>81</td>\n",
       "    </tr>\n",
       "    <tr>\n",
       "      <th>0</th>\n",
       "      <td>GAMBIA (THE)</td>\n",
       "      <td>GAMBIA</td>\n",
       "      <td>90</td>\n",
       "    </tr>\n",
       "    <tr>\n",
       "      <th>22</th>\n",
       "      <td>CONGO (THE)</td>\n",
       "      <td>CONGO</td>\n",
       "      <td>90</td>\n",
       "    </tr>\n",
       "    <tr>\n",
       "      <th>21</th>\n",
       "      <td>TANZANIA, THE UNITED REPUBLIC OF</td>\n",
       "      <td>TANZANIA</td>\n",
       "      <td>90</td>\n",
       "    </tr>\n",
       "    <tr>\n",
       "      <th>20</th>\n",
       "      <td>SUDAN (THE)</td>\n",
       "      <td>SUDAN</td>\n",
       "      <td>90</td>\n",
       "    </tr>\n",
       "    <tr>\n",
       "      <th>19</th>\n",
       "      <td>IRAN (ISLAMIC REPUBLIC OF)</td>\n",
       "      <td>IRAN</td>\n",
       "      <td>90</td>\n",
       "    </tr>\n",
       "    <tr>\n",
       "      <th>18</th>\n",
       "      <td>BRUNEI DARUSSALAM</td>\n",
       "      <td>BRUNEI</td>\n",
       "      <td>90</td>\n",
       "    </tr>\n",
       "    <tr>\n",
       "      <th>17</th>\n",
       "      <td>MOLDOVA (THE REPUBLIC OF)</td>\n",
       "      <td>MOLDOVA</td>\n",
       "      <td>90</td>\n",
       "    </tr>\n",
       "    <tr>\n",
       "      <th>14</th>\n",
       "      <td>BOLIVIA (PLURINATIONAL STATE OF)</td>\n",
       "      <td>BOLIVIA</td>\n",
       "      <td>90</td>\n",
       "    </tr>\n",
       "    <tr>\n",
       "      <th>25</th>\n",
       "      <td>UNITED KINGDOM OF GREAT BRITAIN AND NORTHERN I...</td>\n",
       "      <td>UNITED KINGDOM</td>\n",
       "      <td>90</td>\n",
       "    </tr>\n",
       "    <tr>\n",
       "      <th>26</th>\n",
       "      <td>UNITED STATES OF AMERICA (THE)</td>\n",
       "      <td>UNITED STATES</td>\n",
       "      <td>90</td>\n",
       "    </tr>\n",
       "    <tr>\n",
       "      <th>11</th>\n",
       "      <td>COMOROS (THE)</td>\n",
       "      <td>COMOROS</td>\n",
       "      <td>90</td>\n",
       "    </tr>\n",
       "    <tr>\n",
       "      <th>7</th>\n",
       "      <td>RUSSIAN FEDERATION (THE)</td>\n",
       "      <td>RUSSIA</td>\n",
       "      <td>90</td>\n",
       "    </tr>\n",
       "    <tr>\n",
       "      <th>5</th>\n",
       "      <td>NIGER (THE)</td>\n",
       "      <td>NIGER</td>\n",
       "      <td>90</td>\n",
       "    </tr>\n",
       "    <tr>\n",
       "      <th>4</th>\n",
       "      <td>NORTH MACEDONIA</td>\n",
       "      <td>MACEDONIA</td>\n",
       "      <td>90</td>\n",
       "    </tr>\n",
       "    <tr>\n",
       "      <th>2</th>\n",
       "      <td>BAHAMAS (THE)</td>\n",
       "      <td>BAHAMAS</td>\n",
       "      <td>90</td>\n",
       "    </tr>\n",
       "    <tr>\n",
       "      <th>16</th>\n",
       "      <td>NORTHERN MARIANA ISLANDS (THE)</td>\n",
       "      <td>NORTHERN MARIANA ISLANDS (US)</td>\n",
       "      <td>91</td>\n",
       "    </tr>\n",
       "    <tr>\n",
       "      <th>3</th>\n",
       "      <td>VIET NAM</td>\n",
       "      <td>VIETNAM</td>\n",
       "      <td>93</td>\n",
       "    </tr>\n",
       "    <tr>\n",
       "      <th>10</th>\n",
       "      <td>CONGO (THE DEMOCRATIC REPUBLIC OF THE)</td>\n",
       "      <td>DEMOCRATIC REPUBLIC OF THE CONGO</td>\n",
       "      <td>95</td>\n",
       "    </tr>\n",
       "    <tr>\n",
       "      <th>15</th>\n",
       "      <td>UNITED ARAB EMIRATES (THE)</td>\n",
       "      <td>UNITED ARAB EMIRATES</td>\n",
       "      <td>95</td>\n",
       "    </tr>\n",
       "    <tr>\n",
       "      <th>8</th>\n",
       "      <td>CENTRAL AFRICAN REPUBLIC (THE)</td>\n",
       "      <td>CENTRAL AFRICAN REPUBLIC</td>\n",
       "      <td>95</td>\n",
       "    </tr>\n",
       "    <tr>\n",
       "      <th>6</th>\n",
       "      <td>MICRONESIA (FEDERATED STATES OF)</td>\n",
       "      <td>FEDERATED STATES OF MICRONESIA</td>\n",
       "      <td>95</td>\n",
       "    </tr>\n",
       "    <tr>\n",
       "      <th>1</th>\n",
       "      <td>DOMINICAN REPUBLIC (THE)</td>\n",
       "      <td>DOMINICAN REPUBLIC</td>\n",
       "      <td>95</td>\n",
       "    </tr>\n",
       "    <tr>\n",
       "      <th>12</th>\n",
       "      <td>PHILIPPINES (THE)</td>\n",
       "      <td>PHILIPPINES</td>\n",
       "      <td>95</td>\n",
       "    </tr>\n",
       "    <tr>\n",
       "      <th>13</th>\n",
       "      <td>NETHERLANDS (THE)</td>\n",
       "      <td>NETHERLANDS</td>\n",
       "      <td>95</td>\n",
       "    </tr>\n",
       "  </tbody>\n",
       "</table>\n",
       "</div>"
      ],
      "text/plain": [
       "                                                    0  \\\n",
       "23                                      CÔTE D'IVOIRE   \n",
       "24                                         CABO VERDE   \n",
       "9                                         TIMOR-LESTE   \n",
       "0                                        GAMBIA (THE)   \n",
       "22                                        CONGO (THE)   \n",
       "21                   TANZANIA, THE UNITED REPUBLIC OF   \n",
       "20                                        SUDAN (THE)   \n",
       "19                         IRAN (ISLAMIC REPUBLIC OF)   \n",
       "18                                  BRUNEI DARUSSALAM   \n",
       "17                          MOLDOVA (THE REPUBLIC OF)   \n",
       "14                   BOLIVIA (PLURINATIONAL STATE OF)   \n",
       "25  UNITED KINGDOM OF GREAT BRITAIN AND NORTHERN I...   \n",
       "26                     UNITED STATES OF AMERICA (THE)   \n",
       "11                                      COMOROS (THE)   \n",
       "7                            RUSSIAN FEDERATION (THE)   \n",
       "5                                         NIGER (THE)   \n",
       "4                                     NORTH MACEDONIA   \n",
       "2                                       BAHAMAS (THE)   \n",
       "16                     NORTHERN MARIANA ISLANDS (THE)   \n",
       "3                                            VIET NAM   \n",
       "10             CONGO (THE DEMOCRATIC REPUBLIC OF THE)   \n",
       "15                         UNITED ARAB EMIRATES (THE)   \n",
       "8                      CENTRAL AFRICAN REPUBLIC (THE)   \n",
       "6                    MICRONESIA (FEDERATED STATES OF)   \n",
       "1                            DOMINICAN REPUBLIC (THE)   \n",
       "12                                  PHILIPPINES (THE)   \n",
       "13                                  NETHERLANDS (THE)   \n",
       "\n",
       "                                   1   2  \n",
       "23                       IVORY COAST  58  \n",
       "24                        CAPE VERDE  80  \n",
       "9                         EAST TIMOR  81  \n",
       "0                             GAMBIA  90  \n",
       "22                             CONGO  90  \n",
       "21                          TANZANIA  90  \n",
       "20                             SUDAN  90  \n",
       "19                              IRAN  90  \n",
       "18                            BRUNEI  90  \n",
       "17                           MOLDOVA  90  \n",
       "14                           BOLIVIA  90  \n",
       "25                    UNITED KINGDOM  90  \n",
       "26                     UNITED STATES  90  \n",
       "11                           COMOROS  90  \n",
       "7                             RUSSIA  90  \n",
       "5                              NIGER  90  \n",
       "4                          MACEDONIA  90  \n",
       "2                            BAHAMAS  90  \n",
       "16     NORTHERN MARIANA ISLANDS (US)  91  \n",
       "3                            VIETNAM  93  \n",
       "10  DEMOCRATIC REPUBLIC OF THE CONGO  95  \n",
       "15              UNITED ARAB EMIRATES  95  \n",
       "8           CENTRAL AFRICAN REPUBLIC  95  \n",
       "6     FEDERATED STATES OF MICRONESIA  95  \n",
       "1                 DOMINICAN REPUBLIC  95  \n",
       "12                       PHILIPPINES  95  \n",
       "13                       NETHERLANDS  95  "
      ]
     },
     "execution_count": 49,
     "metadata": {},
     "output_type": "execute_result"
    }
   ],
   "source": [
    "# keeping high scores\n",
    "\n",
    "pd.DataFrame([(country, best(country,onlyGDF)[0],best(country,onlyGDF)[1]) for country in onlyDF]).sort_values(2)"
   ]
  },
  {
   "cell_type": "markdown",
   "metadata": {
    "id": "f4HfKg5a911G"
   },
   "source": [
    "All this is correct now!\n",
    "\n",
    "Let's prepare the changes:"
   ]
  },
  {
   "cell_type": "code",
   "execution_count": 51,
   "metadata": {},
   "outputs": [
    {
     "data": {
      "text/plain": [
       "{'GAMBIA (THE)': 'GAMBIA',\n",
       " 'DOMINICAN REPUBLIC (THE)': 'DOMINICAN REPUBLIC',\n",
       " 'BAHAMAS (THE)': 'BAHAMAS',\n",
       " 'VIET NAM': 'VIETNAM',\n",
       " 'NORTH MACEDONIA': 'MACEDONIA',\n",
       " 'NIGER (THE)': 'NIGER',\n",
       " 'MICRONESIA (FEDERATED STATES OF)': 'FEDERATED STATES OF MICRONESIA',\n",
       " 'RUSSIAN FEDERATION (THE)': 'RUSSIA',\n",
       " 'CENTRAL AFRICAN REPUBLIC (THE)': 'CENTRAL AFRICAN REPUBLIC',\n",
       " 'TIMOR-LESTE': 'EAST TIMOR',\n",
       " 'CONGO (THE DEMOCRATIC REPUBLIC OF THE)': 'DEMOCRATIC REPUBLIC OF THE CONGO',\n",
       " 'COMOROS (THE)': 'COMOROS',\n",
       " 'PHILIPPINES (THE)': 'PHILIPPINES',\n",
       " 'NETHERLANDS (THE)': 'NETHERLANDS',\n",
       " 'BOLIVIA (PLURINATIONAL STATE OF)': 'BOLIVIA',\n",
       " 'UNITED ARAB EMIRATES (THE)': 'UNITED ARAB EMIRATES',\n",
       " 'NORTHERN MARIANA ISLANDS (THE)': 'NORTHERN MARIANA ISLANDS (US)',\n",
       " 'MOLDOVA (THE REPUBLIC OF)': 'MOLDOVA',\n",
       " 'BRUNEI DARUSSALAM': 'BRUNEI',\n",
       " 'IRAN (ISLAMIC REPUBLIC OF)': 'IRAN',\n",
       " 'SUDAN (THE)': 'SUDAN',\n",
       " 'TANZANIA, THE UNITED REPUBLIC OF': 'TANZANIA',\n",
       " 'CONGO (THE)': 'CONGO',\n",
       " \"CÔTE D'IVOIRE\": 'IVORY COAST',\n",
       " 'CABO VERDE': 'CAPE VERDE',\n",
       " 'UNITED KINGDOM OF GREAT BRITAIN AND NORTHERN IRELAND (THE)': 'UNITED KINGDOM',\n",
       " 'UNITED STATES OF AMERICA (THE)': 'UNITED STATES'}"
      ]
     },
     "execution_count": 51,
     "metadata": {},
     "output_type": "execute_result"
    }
   ],
   "source": [
    "changesToDF={country: best(country,onlyGDF)[0] for country in onlyDF}\n",
    "changesToDF"
   ]
  },
  {
   "cell_type": "code",
   "execution_count": 52,
   "metadata": {
    "id": "HaGAV_eE911G"
   },
   "outputs": [],
   "source": [
    "someData.replace(to_replace={'Country':changesToDF},inplace=True)"
   ]
  },
  {
   "cell_type": "markdown",
   "metadata": {},
   "source": [
    "What is left to match?"
   ]
  },
  {
   "cell_type": "code",
   "execution_count": 53,
   "metadata": {},
   "outputs": [
    {
     "data": {
      "text/plain": [
       "[]"
      ]
     },
     "execution_count": 53,
     "metadata": {},
     "output_type": "execute_result"
    }
   ],
   "source": [
    "# updating\n",
    "onlyDF=set(someData.Country)- set(countries.Country)\n",
    "onlyGDF=set(countries.Country)- set(someData.Country)\n",
    "[(country, best(country,onlyGDF)) for country in onlyDF]"
   ]
  },
  {
   "cell_type": "markdown",
   "metadata": {},
   "source": [
    "Once you are here, merging can proceed:"
   ]
  },
  {
   "cell_type": "code",
   "execution_count": 57,
   "metadata": {},
   "outputs": [
    {
     "data": {
      "text/html": [
       "<div>\n",
       "<style scoped>\n",
       "    .dataframe tbody tr th:only-of-type {\n",
       "        vertical-align: middle;\n",
       "    }\n",
       "\n",
       "    .dataframe tbody tr th {\n",
       "        vertical-align: top;\n",
       "    }\n",
       "\n",
       "    .dataframe thead th {\n",
       "        text-align: right;\n",
       "    }\n",
       "</style>\n",
       "<table border=\"1\" class=\"dataframe\">\n",
       "  <thead>\n",
       "    <tr style=\"text-align: right;\">\n",
       "      <th></th>\n",
       "      <th>Country</th>\n",
       "      <th>geometry</th>\n",
       "      <th>Officialstatename</th>\n",
       "      <th>InternetccTLD</th>\n",
       "      <th>iso2</th>\n",
       "      <th>iso3</th>\n",
       "      <th>fragility</th>\n",
       "      <th>co2</th>\n",
       "      <th>region</th>\n",
       "      <th>ForestRev_gdp</th>\n",
       "    </tr>\n",
       "  </thead>\n",
       "  <tbody>\n",
       "    <tr>\n",
       "      <th>0</th>\n",
       "      <td>ANTIGUA AND BARBUDA</td>\n",
       "      <td>MULTIPOLYGON (((-61.73889 17.54055, -61.75195 ...</td>\n",
       "      <td>Antigua and Barbuda</td>\n",
       "      <td>.ag</td>\n",
       "      <td>AG</td>\n",
       "      <td>ATG</td>\n",
       "      <td>54.4</td>\n",
       "      <td>729000.0</td>\n",
       "      <td>CENTRAL AMERICA AND THE CARIBBEAN</td>\n",
       "      <td>0.00</td>\n",
       "    </tr>\n",
       "    <tr>\n",
       "      <th>1</th>\n",
       "      <td>AFGHANISTAN</td>\n",
       "      <td>POLYGON ((61.27656 35.60725, 61.29638 35.62853...</td>\n",
       "      <td>The Islamic Republic of Afghanistan</td>\n",
       "      <td>.af</td>\n",
       "      <td>AF</td>\n",
       "      <td>AFG</td>\n",
       "      <td>105.0</td>\n",
       "      <td>7893000.0</td>\n",
       "      <td>SOUTH ASIA</td>\n",
       "      <td>0.20</td>\n",
       "    </tr>\n",
       "    <tr>\n",
       "      <th>2</th>\n",
       "      <td>ALGERIA</td>\n",
       "      <td>POLYGON ((-5.15213 30.18047, -5.13917 30.19236...</td>\n",
       "      <td>The People's Democratic Republic of Algeria</td>\n",
       "      <td>.dz</td>\n",
       "      <td>DZ</td>\n",
       "      <td>DZA</td>\n",
       "      <td>75.4</td>\n",
       "      <td>151633000.0</td>\n",
       "      <td>AFRICA</td>\n",
       "      <td>0.10</td>\n",
       "    </tr>\n",
       "    <tr>\n",
       "      <th>3</th>\n",
       "      <td>AZERBAIJAN</td>\n",
       "      <td>MULTIPOLYGON (((46.54037 38.87559, 46.49554 38...</td>\n",
       "      <td>The Republic of Azerbaijan</td>\n",
       "      <td>.az</td>\n",
       "      <td>AZ</td>\n",
       "      <td>AZE</td>\n",
       "      <td>73.2</td>\n",
       "      <td>35389000.0</td>\n",
       "      <td>MIDDLE EAST</td>\n",
       "      <td>0.02</td>\n",
       "    </tr>\n",
       "    <tr>\n",
       "      <th>4</th>\n",
       "      <td>ALBANIA</td>\n",
       "      <td>POLYGON ((20.79192 40.43154, 20.78722 40.39472...</td>\n",
       "      <td>The Republic of Albania</td>\n",
       "      <td>.al</td>\n",
       "      <td>AL</td>\n",
       "      <td>ALB</td>\n",
       "      <td>58.9</td>\n",
       "      <td>3794000.0</td>\n",
       "      <td>EUROPE</td>\n",
       "      <td>0.18</td>\n",
       "    </tr>\n",
       "    <tr>\n",
       "      <th>...</th>\n",
       "      <td>...</td>\n",
       "      <td>...</td>\n",
       "      <td>...</td>\n",
       "      <td>...</td>\n",
       "      <td>...</td>\n",
       "      <td>...</td>\n",
       "      <td>...</td>\n",
       "      <td>...</td>\n",
       "      <td>...</td>\n",
       "      <td>...</td>\n",
       "    </tr>\n",
       "    <tr>\n",
       "      <th>165</th>\n",
       "      <td>ZAMBIA</td>\n",
       "      <td>POLYGON ((30.21302 -14.98172, 30.21917 -15.096...</td>\n",
       "      <td>The Republic of Zambia</td>\n",
       "      <td>.zm</td>\n",
       "      <td>ZM</td>\n",
       "      <td>ZMB</td>\n",
       "      <td>85.7</td>\n",
       "      <td>6798000.0</td>\n",
       "      <td>AFRICA</td>\n",
       "      <td>4.45</td>\n",
       "    </tr>\n",
       "    <tr>\n",
       "      <th>166</th>\n",
       "      <td>ZIMBABWE</td>\n",
       "      <td>POLYGON ((32.48888 -21.34445, 32.46541 -21.325...</td>\n",
       "      <td>The Republic of Zimbabwe</td>\n",
       "      <td>.zw</td>\n",
       "      <td>ZW</td>\n",
       "      <td>ZWE</td>\n",
       "      <td>99.5</td>\n",
       "      <td>7902000.0</td>\n",
       "      <td>AFRICA</td>\n",
       "      <td>1.61</td>\n",
       "    </tr>\n",
       "    <tr>\n",
       "      <th>167</th>\n",
       "      <td>SOUTH SUDAN</td>\n",
       "      <td>POLYGON ((34.21807 9.96458, 34.20722 9.905, 34...</td>\n",
       "      <td>The Republic of South Sudan</td>\n",
       "      <td>.ss</td>\n",
       "      <td>SS</td>\n",
       "      <td>SSD</td>\n",
       "      <td>112.2</td>\n",
       "      <td>1778000.0</td>\n",
       "      <td>AFRICA</td>\n",
       "      <td>2.65</td>\n",
       "    </tr>\n",
       "    <tr>\n",
       "      <th>168</th>\n",
       "      <td>INDONESIA</td>\n",
       "      <td>MULTIPOLYGON (((123.21846 -10.80917, 123.19832...</td>\n",
       "      <td>The Republic of Indonesia</td>\n",
       "      <td>.id</td>\n",
       "      <td>ID</td>\n",
       "      <td>IDN</td>\n",
       "      <td>70.4</td>\n",
       "      <td>563543000.0</td>\n",
       "      <td>EAST AND SOUTHEAST ASIA</td>\n",
       "      <td>0.39</td>\n",
       "    </tr>\n",
       "    <tr>\n",
       "      <th>169</th>\n",
       "      <td>EAST TIMOR</td>\n",
       "      <td>MULTIPOLYGON (((124.41824 -9.3001, 124.40446 -...</td>\n",
       "      <td>The Democratic Republic of Timor-Leste</td>\n",
       "      <td>.tl</td>\n",
       "      <td>TL</td>\n",
       "      <td>TLS</td>\n",
       "      <td>85.5</td>\n",
       "      <td>538000.0</td>\n",
       "      <td>EAST AND SOUTHEAST ASIA</td>\n",
       "      <td>0.13</td>\n",
       "    </tr>\n",
       "  </tbody>\n",
       "</table>\n",
       "<p>170 rows × 10 columns</p>\n",
       "</div>"
      ],
      "text/plain": [
       "                 Country                                           geometry  \\\n",
       "0    ANTIGUA AND BARBUDA  MULTIPOLYGON (((-61.73889 17.54055, -61.75195 ...   \n",
       "1            AFGHANISTAN  POLYGON ((61.27656 35.60725, 61.29638 35.62853...   \n",
       "2                ALGERIA  POLYGON ((-5.15213 30.18047, -5.13917 30.19236...   \n",
       "3             AZERBAIJAN  MULTIPOLYGON (((46.54037 38.87559, 46.49554 38...   \n",
       "4                ALBANIA  POLYGON ((20.79192 40.43154, 20.78722 40.39472...   \n",
       "..                   ...                                                ...   \n",
       "165               ZAMBIA  POLYGON ((30.21302 -14.98172, 30.21917 -15.096...   \n",
       "166             ZIMBABWE  POLYGON ((32.48888 -21.34445, 32.46541 -21.325...   \n",
       "167          SOUTH SUDAN  POLYGON ((34.21807 9.96458, 34.20722 9.905, 34...   \n",
       "168            INDONESIA  MULTIPOLYGON (((123.21846 -10.80917, 123.19832...   \n",
       "169           EAST TIMOR  MULTIPOLYGON (((124.41824 -9.3001, 124.40446 -...   \n",
       "\n",
       "                               Officialstatename InternetccTLD iso2 iso3  \\\n",
       "0                            Antigua and Barbuda           .ag   AG  ATG   \n",
       "1            The Islamic Republic of Afghanistan           .af   AF  AFG   \n",
       "2    The People's Democratic Republic of Algeria           .dz   DZ  DZA   \n",
       "3                     The Republic of Azerbaijan           .az   AZ  AZE   \n",
       "4                        The Republic of Albania           .al   AL  ALB   \n",
       "..                                           ...           ...  ...  ...   \n",
       "165                       The Republic of Zambia           .zm   ZM  ZMB   \n",
       "166                     The Republic of Zimbabwe           .zw   ZW  ZWE   \n",
       "167                  The Republic of South Sudan           .ss   SS  SSD   \n",
       "168                    The Republic of Indonesia           .id   ID  IDN   \n",
       "169       The Democratic Republic of Timor-Leste           .tl   TL  TLS   \n",
       "\n",
       "     fragility          co2                             region  ForestRev_gdp  \n",
       "0         54.4     729000.0  CENTRAL AMERICA AND THE CARIBBEAN           0.00  \n",
       "1        105.0    7893000.0                         SOUTH ASIA           0.20  \n",
       "2         75.4  151633000.0                             AFRICA           0.10  \n",
       "3         73.2   35389000.0                        MIDDLE EAST           0.02  \n",
       "4         58.9    3794000.0                             EUROPE           0.18  \n",
       "..         ...          ...                                ...            ...  \n",
       "165       85.7    6798000.0                             AFRICA           4.45  \n",
       "166       99.5    7902000.0                             AFRICA           1.61  \n",
       "167      112.2    1778000.0                             AFRICA           2.65  \n",
       "168       70.4  563543000.0            EAST AND SOUTHEAST ASIA           0.39  \n",
       "169       85.5     538000.0            EAST AND SOUTHEAST ASIA           0.13  \n",
       "\n",
       "[170 rows x 10 columns]"
      ]
     },
     "execution_count": 57,
     "metadata": {},
     "output_type": "execute_result"
    }
   ],
   "source": [
    "## GDF to the 'left'\n",
    "theMapAndData=countries.merge(someData, on='Country')\n",
    "theMapAndData"
   ]
  },
  {
   "cell_type": "markdown",
   "metadata": {
    "id": "SZBdNu65911G"
   },
   "source": [
    "And our GDF has social data now!"
   ]
  },
  {
   "cell_type": "code",
   "execution_count": 59,
   "metadata": {
    "id": "2uoQ0nu-911G"
   },
   "outputs": [
    {
     "name": "stdout",
     "output_type": "stream",
     "text": [
      "<class 'geopandas.geodataframe.GeoDataFrame'>\n",
      "RangeIndex: 170 entries, 0 to 169\n",
      "Data columns (total 10 columns):\n",
      " #   Column             Non-Null Count  Dtype   \n",
      "---  ------             --------------  -----   \n",
      " 0   Country            170 non-null    object  \n",
      " 1   geometry           170 non-null    geometry\n",
      " 2   Officialstatename  170 non-null    object  \n",
      " 3   InternetccTLD      170 non-null    object  \n",
      " 4   iso2               169 non-null    object  \n",
      " 5   iso3               170 non-null    object  \n",
      " 6   fragility          170 non-null    float64 \n",
      " 7   co2                170 non-null    float64 \n",
      " 8   region             170 non-null    object  \n",
      " 9   ForestRev_gdp      170 non-null    float64 \n",
      "dtypes: float64(3), geometry(1), object(6)\n",
      "memory usage: 13.4+ KB\n"
     ]
    }
   ],
   "source": [
    "theMapAndData.info()"
   ]
  },
  {
   "cell_type": "markdown",
   "metadata": {
    "id": "mZicl2ut911H"
   },
   "source": [
    "# Choropleths\n",
    "\n",
    "## Transformation of data values\n",
    "\n",
    "### Re Scaling\n",
    "\n",
    "We should plan how to color the polygons based on some variable, let me check our variables of interest:"
   ]
  },
  {
   "cell_type": "code",
   "execution_count": null,
   "metadata": {
    "id": "4KpqfrRB911H"
   },
   "outputs": [],
   "source": [
    "DataNames=['fragility', 'co2', 'ForestRev_gdp']"
   ]
  },
  {
   "cell_type": "code",
   "execution_count": null,
   "metadata": {
    "id": "owx8zLXQ911I"
   },
   "outputs": [],
   "source": [
    "\n",
    "pd.melt(theMapAndData[DataNames])"
   ]
  },
  {
   "cell_type": "code",
   "execution_count": null,
   "metadata": {
    "id": "hCvWgr63911I"
   },
   "outputs": [],
   "source": [
    "import seaborn as sns\n",
    "import matplotlib.pyplot as plt\n",
    "\n",
    "sns.displot(pd.melt(theMapAndData[DataNames]),\n",
    "            x=\"value\", hue=\"variable\",kind=\"kde\",\n",
    "            log_scale=(False,False))"
   ]
  },
  {
   "cell_type": "markdown",
   "metadata": {
    "id": "P3hCupcF911I"
   },
   "source": [
    "The variables are in different units, we should try a data rescaling strategy:"
   ]
  },
  {
   "cell_type": "code",
   "execution_count": null,
   "metadata": {
    "id": "_Vo-RpYT911I"
   },
   "outputs": [],
   "source": [
    "# !pip install -U scikit-learn"
   ]
  },
  {
   "cell_type": "markdown",
   "metadata": {
    "id": "tftzIdbg911I"
   },
   "source": [
    "* **StandardScaler**:"
   ]
  },
  {
   "cell_type": "code",
   "execution_count": null,
   "metadata": {
    "id": "IAf2hGcY911I"
   },
   "outputs": [],
   "source": [
    "from sklearn.preprocessing import StandardScaler\n",
    "\n",
    "scaler = StandardScaler()\n",
    "normalized_data = scaler.fit_transform(theMapAndData[DataNames])\n",
    "sns.displot(pd.melt(pd.DataFrame(normalized_data,columns=DataNames)),\n",
    "            x=\"value\", hue=\"variable\",kind=\"kde\",\n",
    "            log_scale=(False,False))"
   ]
  },
  {
   "cell_type": "markdown",
   "metadata": {
    "id": "ixk2GsQ8911I"
   },
   "source": [
    "* **MinMaxScaler**:"
   ]
  },
  {
   "cell_type": "code",
   "execution_count": null,
   "metadata": {
    "id": "EycFhq7i911J"
   },
   "outputs": [],
   "source": [
    "from sklearn.preprocessing import MinMaxScaler\n",
    "\n",
    "scaler = MinMaxScaler(feature_range=(0, 1))\n",
    "scaled_data=scaler.fit_transform(theMapAndData[DataNames])\n",
    "\n",
    "sns.displot(pd.melt(pd.DataFrame(scaled_data,columns=DataNames)),\n",
    "            x=\"value\", hue=\"variable\",kind=\"kde\",\n",
    "            log_scale=(False,False))"
   ]
  },
  {
   "cell_type": "markdown",
   "metadata": {
    "id": "hdV_cuuY911J"
   },
   "source": [
    "* **RobustScaler**:"
   ]
  },
  {
   "cell_type": "code",
   "execution_count": null,
   "metadata": {
    "id": "eyVByKu4911J"
   },
   "outputs": [],
   "source": [
    "from sklearn.preprocessing import RobustScaler\n",
    "scaler = RobustScaler()\n",
    "robScaled_data = scaler.fit_transform(theMapAndData[DataNames])\n",
    "\n",
    "sns.displot(pd.melt(pd.DataFrame(robScaled_data,columns=DataNames)),\n",
    "            x=\"value\", hue=\"variable\",kind=\"kde\",\n",
    "            log_scale=(False,False))"
   ]
  },
  {
   "cell_type": "markdown",
   "metadata": {
    "id": "MlIt2ggd911J"
   },
   "source": [
    "* **QuantileTransformer**:"
   ]
  },
  {
   "cell_type": "code",
   "execution_count": null,
   "metadata": {
    "id": "0r0hi-BE911J"
   },
   "outputs": [],
   "source": [
    "from sklearn.preprocessing import QuantileTransformer\n",
    "scaler = QuantileTransformer(n_quantiles=99, random_state=0,output_distribution='normal') #or 'uniform'\n",
    "QtScaled_data = scaler.fit_transform(theMapAndData[DataNames])\n",
    "\n",
    "sns.displot(pd.melt(pd.DataFrame(QtScaled_data,columns=DataNames)),\n",
    "            x=\"value\", hue=\"variable\",kind=\"kde\",\n",
    "            log_scale=(False,False))"
   ]
  },
  {
   "cell_type": "markdown",
   "metadata": {
    "id": "la4Wko9duich"
   },
   "source": [
    "Let's keep the last one:"
   ]
  },
  {
   "cell_type": "code",
   "execution_count": null,
   "metadata": {
    "id": "bM1DZOXx911J"
   },
   "outputs": [],
   "source": [
    "theMapAndData['fragility_Qt']=QtScaled_data[:,0]"
   ]
  },
  {
   "cell_type": "markdown",
   "metadata": {
    "id": "Mvu1FQMh911J"
   },
   "source": [
    "### Discretizing"
   ]
  },
  {
   "cell_type": "markdown",
   "metadata": {
    "id": "UHh74IeT911J"
   },
   "source": [
    "I will keep the _data_Qt_ data frame. Now, I want cut the data.\n",
    "Please install [**numba**](https://numba.readthedocs.io/en/stable/user/installing.html) before runing the next code; also make sure you have **pysal**, **mapclassify** and **numpy** installed:"
   ]
  },
  {
   "cell_type": "code",
   "execution_count": null,
   "metadata": {
    "id": "pSSN_XDv911K"
   },
   "outputs": [],
   "source": [
    "! pip show numba mapclassify numpy"
   ]
  },
  {
   "cell_type": "code",
   "execution_count": null,
   "metadata": {
    "id": "nBBm8XmEuicm"
   },
   "outputs": [],
   "source": [
    "# !pip install mapclassify"
   ]
  },
  {
   "cell_type": "markdown",
   "metadata": {
    "id": "XifM5dIB911K"
   },
   "source": [
    "Let me discretize **fragility_Qt**:"
   ]
  },
  {
   "cell_type": "code",
   "execution_count": null,
   "metadata": {
    "id": "CvipvzA1911K"
   },
   "outputs": [],
   "source": [
    "import mapclassify\n",
    "import numpy as np\n",
    "\n",
    "np.random.seed(12345) # so we all get the same results!\n",
    "\n",
    "# let's try 5 intervals\n",
    "K=5\n",
    "theVar=theMapAndData.fragility_Qt\n",
    "# same interval width, easy interpretation\n",
    "ei5 = mapclassify.EqualInterval(theVar, k=K)\n",
    "# same interval width based on standard deviation, easy - but not as the previous one, poor when high skewness\n",
    "msd = mapclassify.StdMean(theVar)\n",
    "# interval width varies, counts per interval are close, not easy to grasp, repeated values complicate cuts\n",
    "q5=mapclassify.Quantiles(theVar,k=K)\n",
    "\n",
    "# based on similarity, good for multimodal data\n",
    "mb5 = mapclassify.MaximumBreaks(theVar, k=K)\n",
    "# based on similarity, good for skewed data\n",
    "ht = mapclassify.HeadTailBreaks(theVar) # no K needed\n",
    "# based on similarity, optimizer\n",
    "fj5 = mapclassify.FisherJenks(theVar, k=K)\n",
    "# based on similarity, optimizer\n",
    "jc5 = mapclassify.JenksCaspall(theVar, k=K)\n",
    "# based on similarity, optimizer\n",
    "mp5 = mapclassify.MaxP(theVar, k=K)"
   ]
  },
  {
   "cell_type": "markdown",
   "metadata": {
    "id": "jMjS1bE0911K"
   },
   "source": [
    "How can we select the right classification?\n",
    "Let me use the the Absolute deviation around class median (ADCM) to make the comparisson:"
   ]
  },
  {
   "cell_type": "code",
   "execution_count": null,
   "metadata": {
    "id": "bKvo0_cQ911K"
   },
   "outputs": [],
   "source": [
    "class5 = ei5,msd, q5,mb5,  ht, fj5, jc5, mp5\n",
    "# Collect ADCM for each classifier\n",
    "fits = np.array([ c.adcm for c in class5])\n",
    "# Convert ADCM scores to a DataFrame\n",
    "adcms = pd.DataFrame(fits)\n",
    "# Add classifier names\n",
    "adcms['classifier'] = [c.name for c in class5]\n",
    "# Add column names to the ADCM\n",
    "adcms.columns = ['ADCM', 'Classifier']"
   ]
  },
  {
   "cell_type": "markdown",
   "metadata": {
    "id": "anEyZGV6911L"
   },
   "source": [
    "Now, plot the **adcms**:"
   ]
  },
  {
   "cell_type": "code",
   "execution_count": null,
   "metadata": {
    "id": "TnYEkaJf911L"
   },
   "outputs": [],
   "source": [
    "adcms.sort_values('ADCM').plot.barh(x='Classifier')"
   ]
  },
  {
   "cell_type": "markdown",
   "metadata": {
    "id": "v22izWrv911L"
   },
   "source": [
    "Let's save the best strategy:"
   ]
  },
  {
   "cell_type": "code",
   "execution_count": null,
   "metadata": {
    "id": "QVab2hAl911L"
   },
   "outputs": [],
   "source": [
    "theMapAndData['fragility_Qt_jc5'] = jc5.yb"
   ]
  },
  {
   "cell_type": "code",
   "execution_count": null,
   "metadata": {
    "id": "NlOeXrph911L"
   },
   "outputs": [],
   "source": [
    "# there you are\n",
    "theMapAndData[['fragility_Qt','fragility_Qt_jc5']].head()"
   ]
  },
  {
   "cell_type": "markdown",
   "metadata": {
    "id": "6tBZSYFY911L"
   },
   "source": [
    "Let's check the mean of 'fragility_Qt' by the labels of the columns created (from '0' to '4')"
   ]
  },
  {
   "cell_type": "code",
   "execution_count": null,
   "metadata": {
    "id": "z0hBWL1d911L"
   },
   "outputs": [],
   "source": [
    "indexList=['fragility_Qt_jc5'] # add more?\n",
    "aggregator={'fragility_Qt': ['mean']}\n",
    "\n",
    "pd.concat([theMapAndData[['fragility_Qt',col]].groupby(col,as_index=False).agg(aggregator) for col in indexList],axis=1)"
   ]
  },
  {
   "cell_type": "markdown",
   "metadata": {
    "id": "eZdX-5M4911L"
   },
   "source": [
    "We could create a new column:"
   ]
  },
  {
   "cell_type": "code",
   "execution_count": null,
   "metadata": {
    "id": "5GT4XA4C911P"
   },
   "outputs": [],
   "source": [
    "# renaming\n",
    "newLabelsForLevels={0:\"0_Great\", 1:\"1_Good\", 2:\"2_Middle\", 3:\"3_Bad\", 4:\"4_Poor\"}\n",
    "\n",
    "theMapAndData['fragility_Qt_jc5_cat']=theMapAndData.loc[:,'fragility_Qt_jc5'].replace(newLabelsForLevels)\n",
    "\n",
    "# we have\n",
    "theMapAndData[['fragility_Qt','fragility_Qt_jc5','fragility_Qt_jc5_cat']].head(20)"
   ]
  },
  {
   "cell_type": "markdown",
   "metadata": {
    "id": "WMBgSJUw911P"
   },
   "source": [
    "We are ready for a choropleth:"
   ]
  },
  {
   "cell_type": "code",
   "execution_count": null,
   "metadata": {
    "id": "0BIR7WUe911P"
   },
   "outputs": [],
   "source": [
    "import matplotlib.pyplot as plt\n",
    "\n",
    "f, ax = plt.subplots(1, figsize=(10, 10))\n",
    "theMapAndData.plot(column='fragility_Qt_jc5_cat', # variable to plot\n",
    "                   cmap='viridis', # set of colors\n",
    "                   categorical=True, # can be interpreted as category\n",
    "                   edgecolor='white', # border color\n",
    "                   linewidth=0., # width of border\n",
    "                   alpha=1, # level of transparency (0 is invisible)\n",
    "                   legend=True, # need a legend?\n",
    "                   # location of legend: 'best', 'upper right', 'upper left', 'lower left',\n",
    "                   # 'lower right', 'right', 'center left', 'center right',\n",
    "                   # 'lower center', 'upper center', 'center'\n",
    "                   legend_kwds={'loc':\"lower left\"},\n",
    "        ax=ax\n",
    "       )\n",
    "\n",
    "ax.set_axis_off()"
   ]
  },
  {
   "cell_type": "markdown",
   "metadata": {
    "id": "x-qr4wOk911P"
   },
   "source": [
    "However, once you know the ADCM, you can request the choropleth without creating a variable:"
   ]
  },
  {
   "cell_type": "code",
   "execution_count": null,
   "metadata": {
    "id": "F_IIJHYb911Q"
   },
   "outputs": [],
   "source": [
    "import matplotlib.pyplot as plt\n",
    "\n",
    "f, ax = plt.subplots(1, figsize=(10, 10))\n",
    "theMapAndData.plot(column='fragility_Qt',\n",
    "                   cmap='OrRd',\n",
    "                   scheme=\"jenkscaspall\",k=5,\n",
    "        edgecolor='grey',\n",
    "        linewidth=0.5,\n",
    "        alpha=1,\n",
    "        legend=True,\n",
    "        legend_kwds={'loc':3},\n",
    "        ax=ax\n",
    "       )\n",
    "\n",
    "ax.set_axis_off()"
   ]
  },
  {
   "cell_type": "code",
   "execution_count": null,
   "metadata": {
    "id": "w-7bSegs911Q"
   },
   "outputs": [],
   "source": [
    "# finally\n",
    "\n",
    "theMapAndData.to_file(os.path.join(\"maps\",\"worldMaps.gpkg\"), layer='indicators', driver=\"GPKG\")"
   ]
  }
 ],
 "metadata": {
  "anaconda-cloud": {
   "attach-environment": true,
   "summary": "test"
  },
  "colab": {
   "provenance": []
  },
  "hide_input": false,
  "kernelspec": {
   "display_name": "Python 3 (ipykernel)",
   "language": "python",
   "name": "python3"
  },
  "language_info": {
   "codemirror_mode": {
    "name": "ipython",
    "version": 3
   },
   "file_extension": ".py",
   "mimetype": "text/x-python",
   "name": "python",
   "nbconvert_exporter": "python",
   "pygments_lexer": "ipython3",
   "version": "3.11.13"
  },
  "toc-autonumbering": false
 },
 "nbformat": 4,
 "nbformat_minor": 4
}
