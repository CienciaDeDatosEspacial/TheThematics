{
 "cells": [
  {
   "cell_type": "markdown",
   "metadata": {
    "id": "Rq_-jS9HtUU-"
   },
   "source": [
    "<center><img src=\"https://i.imgur.com/zRrFdsf.png\" width=\"700\"></center>"
   ]
  },
  {
   "cell_type": "markdown",
   "metadata": {
    "id": "-cCaZ1r2tUVA"
   },
   "source": [
    "# The Thematic map\n",
    "\n",
    "Last session we opened this map:"
   ]
  },
  {
   "cell_type": "code",
   "execution_count": 191,
   "metadata": {
    "colab": {
     "base_uri": "https://localhost:8080/",
     "height": 424
    },
    "id": "iWx-Vj4xEmwD",
    "outputId": "befa2e51-e1f0-4266-855e-3d9cc1afdae9"
   },
   "outputs": [
    {
     "data": {
      "text/html": [
       "<div>\n",
       "<style scoped>\n",
       "    .dataframe tbody tr th:only-of-type {\n",
       "        vertical-align: middle;\n",
       "    }\n",
       "\n",
       "    .dataframe tbody tr th {\n",
       "        vertical-align: top;\n",
       "    }\n",
       "\n",
       "    .dataframe thead th {\n",
       "        text-align: right;\n",
       "    }\n",
       "</style>\n",
       "<table border=\"1\" class=\"dataframe\">\n",
       "  <thead>\n",
       "    <tr style=\"text-align: right;\">\n",
       "      <th></th>\n",
       "      <th>COUNTRY</th>\n",
       "      <th>geometry</th>\n",
       "    </tr>\n",
       "  </thead>\n",
       "  <tbody>\n",
       "    <tr>\n",
       "      <th>0</th>\n",
       "      <td>Aruba (Netherlands)</td>\n",
       "      <td>POLYGON ((-69.88223 12.41111, -69.94695 12.436...</td>\n",
       "    </tr>\n",
       "    <tr>\n",
       "      <th>1</th>\n",
       "      <td>Antigua and Barbuda</td>\n",
       "      <td>MULTIPOLYGON (((-61.73889 17.54055, -61.75195 ...</td>\n",
       "    </tr>\n",
       "    <tr>\n",
       "      <th>2</th>\n",
       "      <td>Afghanistan</td>\n",
       "      <td>POLYGON ((61.27656 35.60725, 61.29638 35.62853...</td>\n",
       "    </tr>\n",
       "    <tr>\n",
       "      <th>3</th>\n",
       "      <td>Algeria</td>\n",
       "      <td>POLYGON ((-5.15213 30.18047, -5.13917 30.19236...</td>\n",
       "    </tr>\n",
       "    <tr>\n",
       "      <th>4</th>\n",
       "      <td>Azerbaijan</td>\n",
       "      <td>MULTIPOLYGON (((46.54037 38.87559, 46.49554 38...</td>\n",
       "    </tr>\n",
       "    <tr>\n",
       "      <th>...</th>\n",
       "      <td>...</td>\n",
       "      <td>...</td>\n",
       "    </tr>\n",
       "    <tr>\n",
       "      <th>247</th>\n",
       "      <td>South Sudan</td>\n",
       "      <td>POLYGON ((34.21807 9.96458, 34.20722 9.905, 34...</td>\n",
       "    </tr>\n",
       "    <tr>\n",
       "      <th>248</th>\n",
       "      <td>Indonesia</td>\n",
       "      <td>MULTIPOLYGON (((123.21846 -10.80917, 123.19832...</td>\n",
       "    </tr>\n",
       "    <tr>\n",
       "      <th>249</th>\n",
       "      <td>East Timor</td>\n",
       "      <td>MULTIPOLYGON (((124.41824 -9.3001, 124.40446 -...</td>\n",
       "    </tr>\n",
       "    <tr>\n",
       "      <th>250</th>\n",
       "      <td>Curacao (Netherlands)</td>\n",
       "      <td>POLYGON ((-68.96556 12.19889, -68.91196 12.181...</td>\n",
       "    </tr>\n",
       "    <tr>\n",
       "      <th>251</th>\n",
       "      <td>Bonaire (Netherlands)</td>\n",
       "      <td>POLYGON ((-68.19736 12.22264, -68.19292 12.207...</td>\n",
       "    </tr>\n",
       "  </tbody>\n",
       "</table>\n",
       "<p>252 rows × 2 columns</p>\n",
       "</div>"
      ],
      "text/plain": [
       "                   COUNTRY                                           geometry\n",
       "0      Aruba (Netherlands)  POLYGON ((-69.88223 12.41111, -69.94695 12.436...\n",
       "1      Antigua and Barbuda  MULTIPOLYGON (((-61.73889 17.54055, -61.75195 ...\n",
       "2              Afghanistan  POLYGON ((61.27656 35.60725, 61.29638 35.62853...\n",
       "3                  Algeria  POLYGON ((-5.15213 30.18047, -5.13917 30.19236...\n",
       "4               Azerbaijan  MULTIPOLYGON (((46.54037 38.87559, 46.49554 38...\n",
       "..                     ...                                                ...\n",
       "247            South Sudan  POLYGON ((34.21807 9.96458, 34.20722 9.905, 34...\n",
       "248              Indonesia  MULTIPOLYGON (((123.21846 -10.80917, 123.19832...\n",
       "249             East Timor  MULTIPOLYGON (((124.41824 -9.3001, 124.40446 -...\n",
       "250  Curacao (Netherlands)  POLYGON ((-68.96556 12.19889, -68.91196 12.181...\n",
       "251  Bonaire (Netherlands)  POLYGON ((-68.19736 12.22264, -68.19292 12.207...\n",
       "\n",
       "[252 rows x 2 columns]"
      ]
     },
     "execution_count": 191,
     "metadata": {},
     "output_type": "execute_result"
    }
   ],
   "source": [
    "import geopandas as gpd\n",
    "\n",
    "linkGitSession='https://github.com/CienciaDeDatosEspacial/dataSets/raw/main/'\n",
    "linkCountries='WORLD/World_Countries.zip'\n",
    "\n",
    "fullLinkCountries=linkGitSession+linkCountries\n",
    "countries=gpd.read_file(fullLinkCountries)\n",
    "countries"
   ]
  },
  {
   "cell_type": "markdown",
   "metadata": {
    "id": "7Tm4ECPFEmwE"
   },
   "source": [
    "As you see, the GDF above has just two colums; enough to plot a map, but no more than that.\n",
    "\n",
    "Let me open a DF:"
   ]
  },
  {
   "cell_type": "code",
   "execution_count": 192,
   "metadata": {
    "colab": {
     "base_uri": "https://localhost:8080/"
    },
    "id": "Usm5FT0hEmwE",
    "outputId": "0f4fc252-86d9-4494-bea3-16d74bf63d21"
   },
   "outputs": [
    {
     "name": "stdout",
     "output_type": "stream",
     "text": [
      "<class 'pandas.core.frame.DataFrame'>\n",
      "RangeIndex: 171 entries, 0 to 170\n",
      "Data columns (total 10 columns):\n",
      " #   Column        Non-Null Count  Dtype  \n",
      "---  ------        --------------  -----  \n",
      " 0   Country       171 non-null    object \n",
      " 1   iso2          170 non-null    object \n",
      " 2   iso3          171 non-null    object \n",
      " 3   region        171 non-null    object \n",
      " 4   fragility     171 non-null    float64\n",
      " 5   co2           171 non-null    int64  \n",
      " 6   sq_km         171 non-null    int64  \n",
      " 7   num_airports  171 non-null    int64  \n",
      " 8   population    171 non-null    int64  \n",
      " 9   mobiles       171 non-null    int64  \n",
      "dtypes: float64(1), int64(5), object(4)\n",
      "memory usage: 13.5+ KB\n"
     ]
    }
   ],
   "source": [
    "import pandas as pd\n",
    "\n",
    "someDataLink='WORLD/some_dataworld.csv'\n",
    "\n",
    "someData=pd.read_csv(linkGitSession+someDataLink)\n",
    "\n",
    "someData.info()"
   ]
  },
  {
   "cell_type": "markdown",
   "metadata": {},
   "source": [
    "# Pre Processing"
   ]
  },
  {
   "cell_type": "markdown",
   "metadata": {
    "id": "eWlO6ncUEmwE"
   },
   "source": [
    "The DF has some interesting numerical data (_float64_):\n",
    "* fragility: fragility index 2023 -[details here](https://fragilestatesindex.org/2023/06/14/fragile-states-index-2023-annual-report/)\n",
    "* co2: metric tonnes of CO2 emmitted -[details here](https://www.cia.gov/the-world-factbook/field/carbon-dioxide-emissions/country-comparison/)\n",
    "* sq_km: country area -[details here](https://www.cia.gov/the-world-factbook/field/area/country-comparison/)\n",
    "* num_airports: count of airports in the country -[details here](https://www.cia.gov/the-world-factbook/field/airports/country-comparison/)\n",
    "* population: country population  -[details here](https://www.cia.gov/the-world-factbook/field/population/country-comparison/)\n",
    "* mobiles: total number of mobile cellular telephone subscribers -[details here](https://www.cia.gov/the-world-factbook/field/telephones-mobile-cellular/country-comparison/)\n",
    "\n",
    "There are also other columns that may be of help:"
   ]
  },
  {
   "cell_type": "code",
   "execution_count": 193,
   "metadata": {
    "colab": {
     "base_uri": "https://localhost:8080/",
     "height": 206
    },
    "id": "zR7A3vxAEmwE",
    "outputId": "79a404fc-8e35-4aeb-a702-612063a3dd48"
   },
   "outputs": [
    {
     "data": {
      "text/html": [
       "<div>\n",
       "<style scoped>\n",
       "    .dataframe tbody tr th:only-of-type {\n",
       "        vertical-align: middle;\n",
       "    }\n",
       "\n",
       "    .dataframe tbody tr th {\n",
       "        vertical-align: top;\n",
       "    }\n",
       "\n",
       "    .dataframe thead th {\n",
       "        text-align: right;\n",
       "    }\n",
       "</style>\n",
       "<table border=\"1\" class=\"dataframe\">\n",
       "  <thead>\n",
       "    <tr style=\"text-align: right;\">\n",
       "      <th></th>\n",
       "      <th>Country</th>\n",
       "      <th>iso2</th>\n",
       "      <th>iso3</th>\n",
       "      <th>region</th>\n",
       "      <th>fragility</th>\n",
       "      <th>co2</th>\n",
       "      <th>sq_km</th>\n",
       "      <th>num_airports</th>\n",
       "      <th>population</th>\n",
       "      <th>mobiles</th>\n",
       "    </tr>\n",
       "  </thead>\n",
       "  <tbody>\n",
       "    <tr>\n",
       "      <th>0</th>\n",
       "      <td>AFGHANISTAN</td>\n",
       "      <td>AF</td>\n",
       "      <td>AFG</td>\n",
       "      <td>SOUTH ASIA</td>\n",
       "      <td>105.0</td>\n",
       "      <td>7893000</td>\n",
       "      <td>652230</td>\n",
       "      <td>68</td>\n",
       "      <td>40121552</td>\n",
       "      <td>23000000</td>\n",
       "    </tr>\n",
       "    <tr>\n",
       "      <th>1</th>\n",
       "      <td>ALBANIA</td>\n",
       "      <td>AL</td>\n",
       "      <td>ALB</td>\n",
       "      <td>EUROPE</td>\n",
       "      <td>58.9</td>\n",
       "      <td>3794000</td>\n",
       "      <td>28748</td>\n",
       "      <td>3</td>\n",
       "      <td>3107100</td>\n",
       "      <td>2610000</td>\n",
       "    </tr>\n",
       "    <tr>\n",
       "      <th>2</th>\n",
       "      <td>ALGERIA</td>\n",
       "      <td>DZ</td>\n",
       "      <td>DZA</td>\n",
       "      <td>AFRICA</td>\n",
       "      <td>75.4</td>\n",
       "      <td>151633000</td>\n",
       "      <td>2381740</td>\n",
       "      <td>95</td>\n",
       "      <td>47022473</td>\n",
       "      <td>51500000</td>\n",
       "    </tr>\n",
       "    <tr>\n",
       "      <th>3</th>\n",
       "      <td>ANGOLA</td>\n",
       "      <td>AO</td>\n",
       "      <td>AGO</td>\n",
       "      <td>AFRICA</td>\n",
       "      <td>87.8</td>\n",
       "      <td>19362000</td>\n",
       "      <td>1246700</td>\n",
       "      <td>107</td>\n",
       "      <td>37202061</td>\n",
       "      <td>25700000</td>\n",
       "    </tr>\n",
       "    <tr>\n",
       "      <th>4</th>\n",
       "      <td>ANTIGUA AND BARBUDA</td>\n",
       "      <td>AG</td>\n",
       "      <td>ATG</td>\n",
       "      <td>CENTRAL AMERICA AND THE CARIBBEAN</td>\n",
       "      <td>54.4</td>\n",
       "      <td>729000</td>\n",
       "      <td>443</td>\n",
       "      <td>4</td>\n",
       "      <td>102634</td>\n",
       "      <td>184000</td>\n",
       "    </tr>\n",
       "  </tbody>\n",
       "</table>\n",
       "</div>"
      ],
      "text/plain": [
       "               Country iso2 iso3                             region  \\\n",
       "0          AFGHANISTAN   AF  AFG                         SOUTH ASIA   \n",
       "1              ALBANIA   AL  ALB                             EUROPE   \n",
       "2              ALGERIA   DZ  DZA                             AFRICA   \n",
       "3               ANGOLA   AO  AGO                             AFRICA   \n",
       "4  ANTIGUA AND BARBUDA   AG  ATG  CENTRAL AMERICA AND THE CARIBBEAN   \n",
       "\n",
       "   fragility        co2    sq_km  num_airports  population   mobiles  \n",
       "0      105.0    7893000   652230            68    40121552  23000000  \n",
       "1       58.9    3794000    28748             3     3107100   2610000  \n",
       "2       75.4  151633000  2381740            95    47022473  51500000  \n",
       "3       87.8   19362000  1246700           107    37202061  25700000  \n",
       "4       54.4     729000      443             4      102634    184000  "
      ]
     },
     "execution_count": 193,
     "metadata": {},
     "output_type": "execute_result"
    }
   ],
   "source": [
    "someData.head()"
   ]
  },
  {
   "cell_type": "markdown",
   "metadata": {
    "id": "fm91BTWJEmwE"
   },
   "source": [
    "Preparing thematic maps requires social data about the geometry (line, polygon, point). The object **countries** has no social data, so the preprocessing requires geomerging."
   ]
  },
  {
   "cell_type": "markdown",
   "metadata": {
    "id": "cQgamTbX911A"
   },
   "source": [
    "## Geo Merging\n",
    "\n",
    "This is a critical preprocessing operation, as it is in charge of combining data sets, in this case combine a DF into a GDF. Some rules are needed:\n",
    "\n",
    "* There is at least one common column needed to serve for the matches.\n",
    "* The common columns, or KEYs, need contents to be written exactly in both columns.\n",
    "* It is recommended that both KEYs are named the same.\n",
    "\n",
    "Here we have the KEYs:"
   ]
  },
  {
   "cell_type": "code",
   "execution_count": 194,
   "metadata": {
    "colab": {
     "base_uri": "https://localhost:8080/",
     "height": 241
    },
    "id": "QkRTmDTZ911A",
    "outputId": "b5902cb8-120e-411c-bffa-9db7a8bd114c"
   },
   "outputs": [
    {
     "data": {
      "text/plain": [
       "0    Aruba (Netherlands)\n",
       "1    Antigua and Barbuda\n",
       "2            Afghanistan\n",
       "3                Algeria\n",
       "4             Azerbaijan\n",
       "Name: COUNTRY, dtype: object"
      ]
     },
     "execution_count": 194,
     "metadata": {},
     "output_type": "execute_result"
    }
   ],
   "source": [
    "countries.COUNTRY.head()"
   ]
  },
  {
   "cell_type": "code",
   "execution_count": 195,
   "metadata": {
    "colab": {
     "base_uri": "https://localhost:8080/",
     "height": 241
    },
    "id": "0IcIM7fZEmwE",
    "outputId": "e31804f0-4625-4b3c-9cee-6c7aa77bce50"
   },
   "outputs": [
    {
     "data": {
      "text/plain": [
       "0            AFGHANISTAN\n",
       "1                ALBANIA\n",
       "2                ALGERIA\n",
       "3                 ANGOLA\n",
       "4    ANTIGUA AND BARBUDA\n",
       "Name: Country, dtype: object"
      ]
     },
     "execution_count": 195,
     "metadata": {},
     "output_type": "execute_result"
    }
   ],
   "source": [
    "someData.Country.head()"
   ]
  },
  {
   "cell_type": "markdown",
   "metadata": {
    "id": "mL6Pw18r911A"
   },
   "source": [
    "Let's solve the name differences for the KEYs:"
   ]
  },
  {
   "cell_type": "code",
   "execution_count": 196,
   "metadata": {
    "id": "97btXyge911A"
   },
   "outputs": [],
   "source": [
    "countries.rename(columns={'COUNTRY':'Country'},inplace=True)"
   ]
  },
  {
   "cell_type": "markdown",
   "metadata": {
    "id": "ucMytkM9911A"
   },
   "source": [
    "We can notice the different *case* in the KEYs. Let's work with uppercases:"
   ]
  },
  {
   "cell_type": "code",
   "execution_count": 197,
   "metadata": {
    "id": "_vJq-o89911B"
   },
   "outputs": [],
   "source": [
    "countries['Country']=countries.Country.str.upper()"
   ]
  },
  {
   "cell_type": "markdown",
   "metadata": {
    "id": "qQjjpN3J911B"
   },
   "source": [
    "It is very unlikely the names are written the same. Let's verify:"
   ]
  },
  {
   "cell_type": "code",
   "execution_count": 198,
   "metadata": {
    "id": "XQSKl9Nz911B"
   },
   "outputs": [],
   "source": [
    "onlyDF=set(someData.Country)- set(countries.Country)\n",
    "onlyGDF=set(countries.Country)- set(someData.Country)"
   ]
  },
  {
   "cell_type": "markdown",
   "metadata": {
    "id": "6HxnDC7W911B"
   },
   "source": [
    "Check here:"
   ]
  },
  {
   "cell_type": "code",
   "execution_count": 199,
   "metadata": {
    "colab": {
     "base_uri": "https://localhost:8080/"
    },
    "id": "hE_aSvmQ911B",
    "outputId": "1207dfdd-51df-4782-caff-7df62e7ad5ff"
   },
   "outputs": [
    {
     "data": {
      "text/plain": [
       "{'BAHAMAS (THE)',\n",
       " 'BOLIVIA (PLURINATIONAL STATE OF)',\n",
       " 'BRUNEI DARUSSALAM',\n",
       " 'CABO VERDE',\n",
       " 'CENTRAL AFRICAN REPUBLIC (THE)',\n",
       " 'COMOROS (THE)',\n",
       " 'CONGO (THE DEMOCRATIC REPUBLIC OF THE)',\n",
       " 'CONGO (THE)',\n",
       " \"CÔTE D'IVOIRE\",\n",
       " 'DOMINICAN REPUBLIC (THE)',\n",
       " 'ESWATINI',\n",
       " 'GAMBIA (THE)',\n",
       " 'IRAN (ISLAMIC REPUBLIC OF)',\n",
       " 'KOREA (THE REPUBLIC OF)',\n",
       " \"LAO PEOPLE'S DEMOCRATIC REPUBLIC (THE)\",\n",
       " 'MICRONESIA (FEDERATED STATES OF)',\n",
       " 'MOLDOVA (THE REPUBLIC OF)',\n",
       " 'NETHERLANDS (THE)',\n",
       " 'NIGER (THE)',\n",
       " 'NORTH MACEDONIA',\n",
       " 'NORTHERN MARIANA ISLANDS (THE)',\n",
       " 'PHILIPPINES (THE)',\n",
       " 'RUSSIAN FEDERATION (THE)',\n",
       " 'SAMOA',\n",
       " 'SUDAN (THE)',\n",
       " 'TANZANIA, THE UNITED REPUBLIC OF',\n",
       " 'TIMOR-LESTE',\n",
       " 'UNITED ARAB EMIRATES (THE)',\n",
       " 'UNITED KINGDOM OF GREAT BRITAIN AND NORTHERN IRELAND (THE)',\n",
       " 'UNITED STATES OF AMERICA (THE)'}"
      ]
     },
     "execution_count": 199,
     "metadata": {},
     "output_type": "execute_result"
    }
   ],
   "source": [
    "onlyDF # they did not find a match in the MAP GDF!"
   ]
  },
  {
   "cell_type": "markdown",
   "metadata": {
    "id": "UwI3tGw2EmwF"
   },
   "source": [
    "There are several countries in the DF that did not find a match in the GDF (map). Of course, most of them are in the map, let's see why they were not matched."
   ]
  },
  {
   "cell_type": "markdown",
   "metadata": {
    "id": "6_UJQaV3911B"
   },
   "source": [
    "### Fuzzy merging"
   ]
  },
  {
   "cell_type": "markdown",
   "metadata": {
    "id": "1Ru8Wp9f911C"
   },
   "source": [
    "We use this technique to detect similarities between strings. You need this package **thefuzz**:"
   ]
  },
  {
   "cell_type": "code",
   "execution_count": 200,
   "metadata": {
    "colab": {
     "base_uri": "https://localhost:8080/"
    },
    "id": "5kOc6YjOBuwj",
    "outputId": "c75791f7-bc69-4c22-a15b-4ab01d88cdad"
   },
   "outputs": [],
   "source": [
    "# !pip install thefuzz"
   ]
  },
  {
   "cell_type": "markdown",
   "metadata": {
    "id": "1U-xOtG9EmwF"
   },
   "source": [
    "This is the basic idea:"
   ]
  },
  {
   "cell_type": "code",
   "execution_count": 201,
   "metadata": {
    "colab": {
     "base_uri": "https://localhost:8080/"
    },
    "id": "OGiG_W77911G",
    "outputId": "c96769e1-456d-40b4-daac-fd269a9db04c"
   },
   "outputs": [
    {
     "data": {
      "text/plain": [
       "('BAHAMAS', 90)"
      ]
     },
     "execution_count": 201,
     "metadata": {},
     "output_type": "execute_result"
    }
   ],
   "source": [
    "from thefuzz.process import extractOne as best\n",
    "\n",
    "## find the BEST match to 'BAHAMAS (THE)'\n",
    "## from all strings in 'onlyGDF'\n",
    "\n",
    "best('BAHAMAS (THE)',onlyGDF)"
   ]
  },
  {
   "cell_type": "markdown",
   "metadata": {
    "id": "c-ZO0yB2EmwF"
   },
   "source": [
    "As you see, you get 90% match between those strings. That may be a reliable result.\n",
    "\n",
    "Let's do the same for all the unmatched countries:"
   ]
  },
  {
   "cell_type": "code",
   "execution_count": 202,
   "metadata": {
    "colab": {
     "base_uri": "https://localhost:8080/"
    },
    "id": "os8OEiM8EmwF",
    "outputId": "4990cf58-ccba-48d8-dcf7-f0fc1c732f28"
   },
   "outputs": [
    {
     "data": {
      "text/plain": [
       "[('KOREA (THE REPUBLIC OF)', ('NORTH KOREA', 86)),\n",
       " ('BAHAMAS (THE)', ('BAHAMAS', 90)),\n",
       " ('UNITED KINGDOM OF GREAT BRITAIN AND NORTHERN IRELAND (THE)',\n",
       "  ('UNITED KINGDOM', 90)),\n",
       " ('UNITED STATES OF AMERICA (THE)', ('UNITED STATES', 90)),\n",
       " ('PHILIPPINES (THE)', ('PHILIPPINES', 95)),\n",
       " ('RUSSIAN FEDERATION (THE)', ('RUSSIA', 90)),\n",
       " ('MOLDOVA (THE REPUBLIC OF)', ('MOLDOVA', 90)),\n",
       " ('TIMOR-LESTE', ('EAST TIMOR', 81)),\n",
       " ('NETHERLANDS (THE)', ('NETHERLANDS', 95)),\n",
       " ('NORTH MACEDONIA', ('MACEDONIA', 90)),\n",
       " ('ESWATINI', ('LIECHTENSTEIN', 60)),\n",
       " ('CONGO (THE DEMOCRATIC REPUBLIC OF THE)',\n",
       "  ('DEMOCRATIC REPUBLIC OF THE CONGO', 95)),\n",
       " ('DOMINICAN REPUBLIC (THE)', ('DOMINICAN REPUBLIC', 95)),\n",
       " ('TANZANIA, THE UNITED REPUBLIC OF', ('TANZANIA', 90)),\n",
       " ('BOLIVIA (PLURINATIONAL STATE OF)', ('BOLIVIA', 90)),\n",
       " ('NIGER (THE)', ('NIGER', 90)),\n",
       " ('CENTRAL AFRICAN REPUBLIC (THE)', ('CENTRAL AFRICAN REPUBLIC', 95)),\n",
       " ('GAMBIA (THE)', ('GAMBIA', 90)),\n",
       " ('NORTHERN MARIANA ISLANDS (THE)', ('NORTHERN MARIANA ISLANDS (US)', 91)),\n",
       " ('UNITED ARAB EMIRATES (THE)', ('UNITED ARAB EMIRATES', 95)),\n",
       " ('MICRONESIA (FEDERATED STATES OF)', ('FEDERATED STATES OF MICRONESIA', 95)),\n",
       " (\"LAO PEOPLE'S DEMOCRATIC REPUBLIC (THE)\", ('DOMINICAN REPUBLIC', 86)),\n",
       " ('CABO VERDE', ('CAPE VERDE', 80)),\n",
       " ('COMOROS (THE)', ('COMOROS', 90)),\n",
       " ('BRUNEI DARUSSALAM', ('BRUNEI', 90)),\n",
       " ('CONGO (THE)', ('CONGO', 90)),\n",
       " ('SAMOA', ('AMERICAN SAMOA (US)', 90)),\n",
       " ('SUDAN (THE)', ('SUDAN', 90)),\n",
       " (\"CÔTE D'IVOIRE\", ('IVORY COAST', 58)),\n",
       " ('IRAN (ISLAMIC REPUBLIC OF)', ('IRAN', 90))]"
      ]
     },
     "execution_count": 202,
     "metadata": {},
     "output_type": "execute_result"
    }
   ],
   "source": [
    "## for each country in onlyDF, find the BEST match in onlyGDF\n",
    "\n",
    "[(country, best(country,onlyGDF)) for country in onlyDF]"
   ]
  },
  {
   "cell_type": "markdown",
   "metadata": {
    "id": "fNyQ15drGM1b"
   },
   "source": [
    "Each element in the *list* above in in parentheses, for instance:\n",
    "\n",
    "```\n",
    "('TIMOR-LESTE', ('EAST TIMOR', 81))\n",
    "```\n",
    "\n",
    "That element has two elements:\n",
    "\n",
    "\n",
    "*   **'TIMOR-LESTE'** from *onlyDF*, and\n",
    "*   **('EAST TIMOR', 81)** which is the result from _best(country,onlyGDF)_. This last element, as we just saw above, shows the best match and the level of similarity (the higher the more similar).\n",
    "\n",
    "We can prepare a list where each element has three elements:\n",
    "\n"
   ]
  },
  {
   "cell_type": "code",
   "execution_count": 203,
   "metadata": {
    "id": "gc6s__oIEmwF",
    "outputId": "8308d6b3-110a-476c-f2f0-833c1550807a"
   },
   "outputs": [
    {
     "data": {
      "text/plain": [
       "[('KOREA (THE REPUBLIC OF)', 'NORTH KOREA', 86),\n",
       " ('BAHAMAS (THE)', 'BAHAMAS', 90),\n",
       " ('UNITED KINGDOM OF GREAT BRITAIN AND NORTHERN IRELAND (THE)',\n",
       "  'UNITED KINGDOM',\n",
       "  90),\n",
       " ('UNITED STATES OF AMERICA (THE)', 'UNITED STATES', 90),\n",
       " ('PHILIPPINES (THE)', 'PHILIPPINES', 95),\n",
       " ('RUSSIAN FEDERATION (THE)', 'RUSSIA', 90),\n",
       " ('MOLDOVA (THE REPUBLIC OF)', 'MOLDOVA', 90),\n",
       " ('TIMOR-LESTE', 'EAST TIMOR', 81),\n",
       " ('NETHERLANDS (THE)', 'NETHERLANDS', 95),\n",
       " ('NORTH MACEDONIA', 'MACEDONIA', 90),\n",
       " ('ESWATINI', 'LIECHTENSTEIN', 60),\n",
       " ('CONGO (THE DEMOCRATIC REPUBLIC OF THE)',\n",
       "  'DEMOCRATIC REPUBLIC OF THE CONGO',\n",
       "  95),\n",
       " ('DOMINICAN REPUBLIC (THE)', 'DOMINICAN REPUBLIC', 95),\n",
       " ('TANZANIA, THE UNITED REPUBLIC OF', 'TANZANIA', 90),\n",
       " ('BOLIVIA (PLURINATIONAL STATE OF)', 'BOLIVIA', 90),\n",
       " ('NIGER (THE)', 'NIGER', 90),\n",
       " ('CENTRAL AFRICAN REPUBLIC (THE)', 'CENTRAL AFRICAN REPUBLIC', 95),\n",
       " ('GAMBIA (THE)', 'GAMBIA', 90),\n",
       " ('NORTHERN MARIANA ISLANDS (THE)', 'NORTHERN MARIANA ISLANDS (US)', 91),\n",
       " ('UNITED ARAB EMIRATES (THE)', 'UNITED ARAB EMIRATES', 95),\n",
       " ('MICRONESIA (FEDERATED STATES OF)', 'FEDERATED STATES OF MICRONESIA', 95),\n",
       " (\"LAO PEOPLE'S DEMOCRATIC REPUBLIC (THE)\", 'DOMINICAN REPUBLIC', 86),\n",
       " ('CABO VERDE', 'CAPE VERDE', 80),\n",
       " ('COMOROS (THE)', 'COMOROS', 90),\n",
       " ('BRUNEI DARUSSALAM', 'BRUNEI', 90),\n",
       " ('CONGO (THE)', 'CONGO', 90),\n",
       " ('SAMOA', 'AMERICAN SAMOA (US)', 90),\n",
       " ('SUDAN (THE)', 'SUDAN', 90),\n",
       " (\"CÔTE D'IVOIRE\", 'IVORY COAST', 58),\n",
       " ('IRAN (ISLAMIC REPUBLIC OF)', 'IRAN', 90)]"
      ]
     },
     "execution_count": 203,
     "metadata": {},
     "output_type": "execute_result"
    }
   ],
   "source": [
    "#or\n",
    "[(country, best(country,onlyGDF)[0],best(country,onlyGDF)[1]) for country in onlyDF]"
   ]
  },
  {
   "cell_type": "markdown",
   "metadata": {
    "id": "Bn-uTZVHEmwF"
   },
   "source": [
    "For instace, this element has 3 elements:\n",
    "\n",
    "```\n",
    " ('IRAN (ISLAMIC REPUBLIC OF)', 'IRAN', 90)\n",
    "```\n",
    "\n",
    "The level of similarity would guide us to make update (replace) the strings in one of the KEYs, so that the merging process works properly.\n",
    "\n",
    "Then, it would be better if we have a data frame instead of a list:"
   ]
  },
  {
   "cell_type": "code",
   "execution_count": 204,
   "metadata": {
    "colab": {
     "base_uri": "https://localhost:8080/",
     "height": 990
    },
    "id": "dEwzfwmXEmwF",
    "outputId": "dc7d06f5-f8aa-4591-ce47-281f404c6f53"
   },
   "outputs": [
    {
     "data": {
      "text/html": [
       "<div>\n",
       "<style scoped>\n",
       "    .dataframe tbody tr th:only-of-type {\n",
       "        vertical-align: middle;\n",
       "    }\n",
       "\n",
       "    .dataframe tbody tr th {\n",
       "        vertical-align: top;\n",
       "    }\n",
       "\n",
       "    .dataframe thead th {\n",
       "        text-align: right;\n",
       "    }\n",
       "</style>\n",
       "<table border=\"1\" class=\"dataframe\">\n",
       "  <thead>\n",
       "    <tr style=\"text-align: right;\">\n",
       "      <th></th>\n",
       "      <th>0</th>\n",
       "      <th>1</th>\n",
       "      <th>2</th>\n",
       "    </tr>\n",
       "  </thead>\n",
       "  <tbody>\n",
       "    <tr>\n",
       "      <th>0</th>\n",
       "      <td>KOREA (THE REPUBLIC OF)</td>\n",
       "      <td>NORTH KOREA</td>\n",
       "      <td>86</td>\n",
       "    </tr>\n",
       "    <tr>\n",
       "      <th>1</th>\n",
       "      <td>BAHAMAS (THE)</td>\n",
       "      <td>BAHAMAS</td>\n",
       "      <td>90</td>\n",
       "    </tr>\n",
       "    <tr>\n",
       "      <th>2</th>\n",
       "      <td>UNITED KINGDOM OF GREAT BRITAIN AND NORTHERN I...</td>\n",
       "      <td>UNITED KINGDOM</td>\n",
       "      <td>90</td>\n",
       "    </tr>\n",
       "    <tr>\n",
       "      <th>3</th>\n",
       "      <td>UNITED STATES OF AMERICA (THE)</td>\n",
       "      <td>UNITED STATES</td>\n",
       "      <td>90</td>\n",
       "    </tr>\n",
       "    <tr>\n",
       "      <th>4</th>\n",
       "      <td>PHILIPPINES (THE)</td>\n",
       "      <td>PHILIPPINES</td>\n",
       "      <td>95</td>\n",
       "    </tr>\n",
       "    <tr>\n",
       "      <th>5</th>\n",
       "      <td>RUSSIAN FEDERATION (THE)</td>\n",
       "      <td>RUSSIA</td>\n",
       "      <td>90</td>\n",
       "    </tr>\n",
       "    <tr>\n",
       "      <th>6</th>\n",
       "      <td>MOLDOVA (THE REPUBLIC OF)</td>\n",
       "      <td>MOLDOVA</td>\n",
       "      <td>90</td>\n",
       "    </tr>\n",
       "    <tr>\n",
       "      <th>7</th>\n",
       "      <td>TIMOR-LESTE</td>\n",
       "      <td>EAST TIMOR</td>\n",
       "      <td>81</td>\n",
       "    </tr>\n",
       "    <tr>\n",
       "      <th>8</th>\n",
       "      <td>NETHERLANDS (THE)</td>\n",
       "      <td>NETHERLANDS</td>\n",
       "      <td>95</td>\n",
       "    </tr>\n",
       "    <tr>\n",
       "      <th>9</th>\n",
       "      <td>NORTH MACEDONIA</td>\n",
       "      <td>MACEDONIA</td>\n",
       "      <td>90</td>\n",
       "    </tr>\n",
       "    <tr>\n",
       "      <th>10</th>\n",
       "      <td>ESWATINI</td>\n",
       "      <td>LIECHTENSTEIN</td>\n",
       "      <td>60</td>\n",
       "    </tr>\n",
       "    <tr>\n",
       "      <th>11</th>\n",
       "      <td>CONGO (THE DEMOCRATIC REPUBLIC OF THE)</td>\n",
       "      <td>DEMOCRATIC REPUBLIC OF THE CONGO</td>\n",
       "      <td>95</td>\n",
       "    </tr>\n",
       "    <tr>\n",
       "      <th>12</th>\n",
       "      <td>DOMINICAN REPUBLIC (THE)</td>\n",
       "      <td>DOMINICAN REPUBLIC</td>\n",
       "      <td>95</td>\n",
       "    </tr>\n",
       "    <tr>\n",
       "      <th>13</th>\n",
       "      <td>TANZANIA, THE UNITED REPUBLIC OF</td>\n",
       "      <td>TANZANIA</td>\n",
       "      <td>90</td>\n",
       "    </tr>\n",
       "    <tr>\n",
       "      <th>14</th>\n",
       "      <td>BOLIVIA (PLURINATIONAL STATE OF)</td>\n",
       "      <td>BOLIVIA</td>\n",
       "      <td>90</td>\n",
       "    </tr>\n",
       "    <tr>\n",
       "      <th>15</th>\n",
       "      <td>NIGER (THE)</td>\n",
       "      <td>NIGER</td>\n",
       "      <td>90</td>\n",
       "    </tr>\n",
       "    <tr>\n",
       "      <th>16</th>\n",
       "      <td>CENTRAL AFRICAN REPUBLIC (THE)</td>\n",
       "      <td>CENTRAL AFRICAN REPUBLIC</td>\n",
       "      <td>95</td>\n",
       "    </tr>\n",
       "    <tr>\n",
       "      <th>17</th>\n",
       "      <td>GAMBIA (THE)</td>\n",
       "      <td>GAMBIA</td>\n",
       "      <td>90</td>\n",
       "    </tr>\n",
       "    <tr>\n",
       "      <th>18</th>\n",
       "      <td>NORTHERN MARIANA ISLANDS (THE)</td>\n",
       "      <td>NORTHERN MARIANA ISLANDS (US)</td>\n",
       "      <td>91</td>\n",
       "    </tr>\n",
       "    <tr>\n",
       "      <th>19</th>\n",
       "      <td>UNITED ARAB EMIRATES (THE)</td>\n",
       "      <td>UNITED ARAB EMIRATES</td>\n",
       "      <td>95</td>\n",
       "    </tr>\n",
       "    <tr>\n",
       "      <th>20</th>\n",
       "      <td>MICRONESIA (FEDERATED STATES OF)</td>\n",
       "      <td>FEDERATED STATES OF MICRONESIA</td>\n",
       "      <td>95</td>\n",
       "    </tr>\n",
       "    <tr>\n",
       "      <th>21</th>\n",
       "      <td>LAO PEOPLE'S DEMOCRATIC REPUBLIC (THE)</td>\n",
       "      <td>DOMINICAN REPUBLIC</td>\n",
       "      <td>86</td>\n",
       "    </tr>\n",
       "    <tr>\n",
       "      <th>22</th>\n",
       "      <td>CABO VERDE</td>\n",
       "      <td>CAPE VERDE</td>\n",
       "      <td>80</td>\n",
       "    </tr>\n",
       "    <tr>\n",
       "      <th>23</th>\n",
       "      <td>COMOROS (THE)</td>\n",
       "      <td>COMOROS</td>\n",
       "      <td>90</td>\n",
       "    </tr>\n",
       "    <tr>\n",
       "      <th>24</th>\n",
       "      <td>BRUNEI DARUSSALAM</td>\n",
       "      <td>BRUNEI</td>\n",
       "      <td>90</td>\n",
       "    </tr>\n",
       "    <tr>\n",
       "      <th>25</th>\n",
       "      <td>CONGO (THE)</td>\n",
       "      <td>CONGO</td>\n",
       "      <td>90</td>\n",
       "    </tr>\n",
       "    <tr>\n",
       "      <th>26</th>\n",
       "      <td>SAMOA</td>\n",
       "      <td>AMERICAN SAMOA (US)</td>\n",
       "      <td>90</td>\n",
       "    </tr>\n",
       "    <tr>\n",
       "      <th>27</th>\n",
       "      <td>SUDAN (THE)</td>\n",
       "      <td>SUDAN</td>\n",
       "      <td>90</td>\n",
       "    </tr>\n",
       "    <tr>\n",
       "      <th>28</th>\n",
       "      <td>CÔTE D'IVOIRE</td>\n",
       "      <td>IVORY COAST</td>\n",
       "      <td>58</td>\n",
       "    </tr>\n",
       "    <tr>\n",
       "      <th>29</th>\n",
       "      <td>IRAN (ISLAMIC REPUBLIC OF)</td>\n",
       "      <td>IRAN</td>\n",
       "      <td>90</td>\n",
       "    </tr>\n",
       "  </tbody>\n",
       "</table>\n",
       "</div>"
      ],
      "text/plain": [
       "                                                    0  \\\n",
       "0                             KOREA (THE REPUBLIC OF)   \n",
       "1                                       BAHAMAS (THE)   \n",
       "2   UNITED KINGDOM OF GREAT BRITAIN AND NORTHERN I...   \n",
       "3                      UNITED STATES OF AMERICA (THE)   \n",
       "4                                   PHILIPPINES (THE)   \n",
       "5                            RUSSIAN FEDERATION (THE)   \n",
       "6                           MOLDOVA (THE REPUBLIC OF)   \n",
       "7                                         TIMOR-LESTE   \n",
       "8                                   NETHERLANDS (THE)   \n",
       "9                                     NORTH MACEDONIA   \n",
       "10                                           ESWATINI   \n",
       "11             CONGO (THE DEMOCRATIC REPUBLIC OF THE)   \n",
       "12                           DOMINICAN REPUBLIC (THE)   \n",
       "13                   TANZANIA, THE UNITED REPUBLIC OF   \n",
       "14                   BOLIVIA (PLURINATIONAL STATE OF)   \n",
       "15                                        NIGER (THE)   \n",
       "16                     CENTRAL AFRICAN REPUBLIC (THE)   \n",
       "17                                       GAMBIA (THE)   \n",
       "18                     NORTHERN MARIANA ISLANDS (THE)   \n",
       "19                         UNITED ARAB EMIRATES (THE)   \n",
       "20                   MICRONESIA (FEDERATED STATES OF)   \n",
       "21             LAO PEOPLE'S DEMOCRATIC REPUBLIC (THE)   \n",
       "22                                         CABO VERDE   \n",
       "23                                      COMOROS (THE)   \n",
       "24                                  BRUNEI DARUSSALAM   \n",
       "25                                        CONGO (THE)   \n",
       "26                                              SAMOA   \n",
       "27                                        SUDAN (THE)   \n",
       "28                                      CÔTE D'IVOIRE   \n",
       "29                         IRAN (ISLAMIC REPUBLIC OF)   \n",
       "\n",
       "                                   1   2  \n",
       "0                        NORTH KOREA  86  \n",
       "1                            BAHAMAS  90  \n",
       "2                     UNITED KINGDOM  90  \n",
       "3                      UNITED STATES  90  \n",
       "4                        PHILIPPINES  95  \n",
       "5                             RUSSIA  90  \n",
       "6                            MOLDOVA  90  \n",
       "7                         EAST TIMOR  81  \n",
       "8                        NETHERLANDS  95  \n",
       "9                          MACEDONIA  90  \n",
       "10                     LIECHTENSTEIN  60  \n",
       "11  DEMOCRATIC REPUBLIC OF THE CONGO  95  \n",
       "12                DOMINICAN REPUBLIC  95  \n",
       "13                          TANZANIA  90  \n",
       "14                           BOLIVIA  90  \n",
       "15                             NIGER  90  \n",
       "16          CENTRAL AFRICAN REPUBLIC  95  \n",
       "17                            GAMBIA  90  \n",
       "18     NORTHERN MARIANA ISLANDS (US)  91  \n",
       "19              UNITED ARAB EMIRATES  95  \n",
       "20    FEDERATED STATES OF MICRONESIA  95  \n",
       "21                DOMINICAN REPUBLIC  86  \n",
       "22                        CAPE VERDE  80  \n",
       "23                           COMOROS  90  \n",
       "24                            BRUNEI  90  \n",
       "25                             CONGO  90  \n",
       "26               AMERICAN SAMOA (US)  90  \n",
       "27                             SUDAN  90  \n",
       "28                       IVORY COAST  58  \n",
       "29                              IRAN  90  "
      ]
     },
     "execution_count": 204,
     "metadata": {},
     "output_type": "execute_result"
    }
   ],
   "source": [
    "pd.DataFrame([(country, best(country,onlyGDF)[0],best(country,onlyGDF)[1]) for country in onlyDF])"
   ]
  },
  {
   "cell_type": "markdown",
   "metadata": {
    "id": "Ny-xTkM2IcOZ"
   },
   "source": [
    "Let's sort by the column '2' (the third):"
   ]
  },
  {
   "cell_type": "code",
   "execution_count": 205,
   "metadata": {
    "colab": {
     "base_uri": "https://localhost:8080/",
     "height": 990
    },
    "id": "jYicQroqIg4L",
    "outputId": "1d1baff1-d12f-4bb1-be2c-ae9de6ee81fc"
   },
   "outputs": [
    {
     "data": {
      "text/html": [
       "<div>\n",
       "<style scoped>\n",
       "    .dataframe tbody tr th:only-of-type {\n",
       "        vertical-align: middle;\n",
       "    }\n",
       "\n",
       "    .dataframe tbody tr th {\n",
       "        vertical-align: top;\n",
       "    }\n",
       "\n",
       "    .dataframe thead th {\n",
       "        text-align: right;\n",
       "    }\n",
       "</style>\n",
       "<table border=\"1\" class=\"dataframe\">\n",
       "  <thead>\n",
       "    <tr style=\"text-align: right;\">\n",
       "      <th></th>\n",
       "      <th>0</th>\n",
       "      <th>1</th>\n",
       "      <th>2</th>\n",
       "    </tr>\n",
       "  </thead>\n",
       "  <tbody>\n",
       "    <tr>\n",
       "      <th>28</th>\n",
       "      <td>CÔTE D'IVOIRE</td>\n",
       "      <td>IVORY COAST</td>\n",
       "      <td>58</td>\n",
       "    </tr>\n",
       "    <tr>\n",
       "      <th>10</th>\n",
       "      <td>ESWATINI</td>\n",
       "      <td>LIECHTENSTEIN</td>\n",
       "      <td>60</td>\n",
       "    </tr>\n",
       "    <tr>\n",
       "      <th>22</th>\n",
       "      <td>CABO VERDE</td>\n",
       "      <td>CAPE VERDE</td>\n",
       "      <td>80</td>\n",
       "    </tr>\n",
       "    <tr>\n",
       "      <th>7</th>\n",
       "      <td>TIMOR-LESTE</td>\n",
       "      <td>EAST TIMOR</td>\n",
       "      <td>81</td>\n",
       "    </tr>\n",
       "    <tr>\n",
       "      <th>0</th>\n",
       "      <td>KOREA (THE REPUBLIC OF)</td>\n",
       "      <td>NORTH KOREA</td>\n",
       "      <td>86</td>\n",
       "    </tr>\n",
       "    <tr>\n",
       "      <th>21</th>\n",
       "      <td>LAO PEOPLE'S DEMOCRATIC REPUBLIC (THE)</td>\n",
       "      <td>DOMINICAN REPUBLIC</td>\n",
       "      <td>86</td>\n",
       "    </tr>\n",
       "    <tr>\n",
       "      <th>27</th>\n",
       "      <td>SUDAN (THE)</td>\n",
       "      <td>SUDAN</td>\n",
       "      <td>90</td>\n",
       "    </tr>\n",
       "    <tr>\n",
       "      <th>26</th>\n",
       "      <td>SAMOA</td>\n",
       "      <td>AMERICAN SAMOA (US)</td>\n",
       "      <td>90</td>\n",
       "    </tr>\n",
       "    <tr>\n",
       "      <th>25</th>\n",
       "      <td>CONGO (THE)</td>\n",
       "      <td>CONGO</td>\n",
       "      <td>90</td>\n",
       "    </tr>\n",
       "    <tr>\n",
       "      <th>24</th>\n",
       "      <td>BRUNEI DARUSSALAM</td>\n",
       "      <td>BRUNEI</td>\n",
       "      <td>90</td>\n",
       "    </tr>\n",
       "    <tr>\n",
       "      <th>23</th>\n",
       "      <td>COMOROS (THE)</td>\n",
       "      <td>COMOROS</td>\n",
       "      <td>90</td>\n",
       "    </tr>\n",
       "    <tr>\n",
       "      <th>17</th>\n",
       "      <td>GAMBIA (THE)</td>\n",
       "      <td>GAMBIA</td>\n",
       "      <td>90</td>\n",
       "    </tr>\n",
       "    <tr>\n",
       "      <th>15</th>\n",
       "      <td>NIGER (THE)</td>\n",
       "      <td>NIGER</td>\n",
       "      <td>90</td>\n",
       "    </tr>\n",
       "    <tr>\n",
       "      <th>14</th>\n",
       "      <td>BOLIVIA (PLURINATIONAL STATE OF)</td>\n",
       "      <td>BOLIVIA</td>\n",
       "      <td>90</td>\n",
       "    </tr>\n",
       "    <tr>\n",
       "      <th>9</th>\n",
       "      <td>NORTH MACEDONIA</td>\n",
       "      <td>MACEDONIA</td>\n",
       "      <td>90</td>\n",
       "    </tr>\n",
       "    <tr>\n",
       "      <th>6</th>\n",
       "      <td>MOLDOVA (THE REPUBLIC OF)</td>\n",
       "      <td>MOLDOVA</td>\n",
       "      <td>90</td>\n",
       "    </tr>\n",
       "    <tr>\n",
       "      <th>5</th>\n",
       "      <td>RUSSIAN FEDERATION (THE)</td>\n",
       "      <td>RUSSIA</td>\n",
       "      <td>90</td>\n",
       "    </tr>\n",
       "    <tr>\n",
       "      <th>3</th>\n",
       "      <td>UNITED STATES OF AMERICA (THE)</td>\n",
       "      <td>UNITED STATES</td>\n",
       "      <td>90</td>\n",
       "    </tr>\n",
       "    <tr>\n",
       "      <th>2</th>\n",
       "      <td>UNITED KINGDOM OF GREAT BRITAIN AND NORTHERN I...</td>\n",
       "      <td>UNITED KINGDOM</td>\n",
       "      <td>90</td>\n",
       "    </tr>\n",
       "    <tr>\n",
       "      <th>1</th>\n",
       "      <td>BAHAMAS (THE)</td>\n",
       "      <td>BAHAMAS</td>\n",
       "      <td>90</td>\n",
       "    </tr>\n",
       "    <tr>\n",
       "      <th>13</th>\n",
       "      <td>TANZANIA, THE UNITED REPUBLIC OF</td>\n",
       "      <td>TANZANIA</td>\n",
       "      <td>90</td>\n",
       "    </tr>\n",
       "    <tr>\n",
       "      <th>29</th>\n",
       "      <td>IRAN (ISLAMIC REPUBLIC OF)</td>\n",
       "      <td>IRAN</td>\n",
       "      <td>90</td>\n",
       "    </tr>\n",
       "    <tr>\n",
       "      <th>18</th>\n",
       "      <td>NORTHERN MARIANA ISLANDS (THE)</td>\n",
       "      <td>NORTHERN MARIANA ISLANDS (US)</td>\n",
       "      <td>91</td>\n",
       "    </tr>\n",
       "    <tr>\n",
       "      <th>12</th>\n",
       "      <td>DOMINICAN REPUBLIC (THE)</td>\n",
       "      <td>DOMINICAN REPUBLIC</td>\n",
       "      <td>95</td>\n",
       "    </tr>\n",
       "    <tr>\n",
       "      <th>11</th>\n",
       "      <td>CONGO (THE DEMOCRATIC REPUBLIC OF THE)</td>\n",
       "      <td>DEMOCRATIC REPUBLIC OF THE CONGO</td>\n",
       "      <td>95</td>\n",
       "    </tr>\n",
       "    <tr>\n",
       "      <th>16</th>\n",
       "      <td>CENTRAL AFRICAN REPUBLIC (THE)</td>\n",
       "      <td>CENTRAL AFRICAN REPUBLIC</td>\n",
       "      <td>95</td>\n",
       "    </tr>\n",
       "    <tr>\n",
       "      <th>19</th>\n",
       "      <td>UNITED ARAB EMIRATES (THE)</td>\n",
       "      <td>UNITED ARAB EMIRATES</td>\n",
       "      <td>95</td>\n",
       "    </tr>\n",
       "    <tr>\n",
       "      <th>20</th>\n",
       "      <td>MICRONESIA (FEDERATED STATES OF)</td>\n",
       "      <td>FEDERATED STATES OF MICRONESIA</td>\n",
       "      <td>95</td>\n",
       "    </tr>\n",
       "    <tr>\n",
       "      <th>8</th>\n",
       "      <td>NETHERLANDS (THE)</td>\n",
       "      <td>NETHERLANDS</td>\n",
       "      <td>95</td>\n",
       "    </tr>\n",
       "    <tr>\n",
       "      <th>4</th>\n",
       "      <td>PHILIPPINES (THE)</td>\n",
       "      <td>PHILIPPINES</td>\n",
       "      <td>95</td>\n",
       "    </tr>\n",
       "  </tbody>\n",
       "</table>\n",
       "</div>"
      ],
      "text/plain": [
       "                                                    0  \\\n",
       "28                                      CÔTE D'IVOIRE   \n",
       "10                                           ESWATINI   \n",
       "22                                         CABO VERDE   \n",
       "7                                         TIMOR-LESTE   \n",
       "0                             KOREA (THE REPUBLIC OF)   \n",
       "21             LAO PEOPLE'S DEMOCRATIC REPUBLIC (THE)   \n",
       "27                                        SUDAN (THE)   \n",
       "26                                              SAMOA   \n",
       "25                                        CONGO (THE)   \n",
       "24                                  BRUNEI DARUSSALAM   \n",
       "23                                      COMOROS (THE)   \n",
       "17                                       GAMBIA (THE)   \n",
       "15                                        NIGER (THE)   \n",
       "14                   BOLIVIA (PLURINATIONAL STATE OF)   \n",
       "9                                     NORTH MACEDONIA   \n",
       "6                           MOLDOVA (THE REPUBLIC OF)   \n",
       "5                            RUSSIAN FEDERATION (THE)   \n",
       "3                      UNITED STATES OF AMERICA (THE)   \n",
       "2   UNITED KINGDOM OF GREAT BRITAIN AND NORTHERN I...   \n",
       "1                                       BAHAMAS (THE)   \n",
       "13                   TANZANIA, THE UNITED REPUBLIC OF   \n",
       "29                         IRAN (ISLAMIC REPUBLIC OF)   \n",
       "18                     NORTHERN MARIANA ISLANDS (THE)   \n",
       "12                           DOMINICAN REPUBLIC (THE)   \n",
       "11             CONGO (THE DEMOCRATIC REPUBLIC OF THE)   \n",
       "16                     CENTRAL AFRICAN REPUBLIC (THE)   \n",
       "19                         UNITED ARAB EMIRATES (THE)   \n",
       "20                   MICRONESIA (FEDERATED STATES OF)   \n",
       "8                                   NETHERLANDS (THE)   \n",
       "4                                   PHILIPPINES (THE)   \n",
       "\n",
       "                                   1   2  \n",
       "28                       IVORY COAST  58  \n",
       "10                     LIECHTENSTEIN  60  \n",
       "22                        CAPE VERDE  80  \n",
       "7                         EAST TIMOR  81  \n",
       "0                        NORTH KOREA  86  \n",
       "21                DOMINICAN REPUBLIC  86  \n",
       "27                             SUDAN  90  \n",
       "26               AMERICAN SAMOA (US)  90  \n",
       "25                             CONGO  90  \n",
       "24                            BRUNEI  90  \n",
       "23                           COMOROS  90  \n",
       "17                            GAMBIA  90  \n",
       "15                             NIGER  90  \n",
       "14                           BOLIVIA  90  \n",
       "9                          MACEDONIA  90  \n",
       "6                            MOLDOVA  90  \n",
       "5                             RUSSIA  90  \n",
       "3                      UNITED STATES  90  \n",
       "2                     UNITED KINGDOM  90  \n",
       "1                            BAHAMAS  90  \n",
       "13                          TANZANIA  90  \n",
       "29                              IRAN  90  \n",
       "18     NORTHERN MARIANA ISLANDS (US)  91  \n",
       "12                DOMINICAN REPUBLIC  95  \n",
       "11  DEMOCRATIC REPUBLIC OF THE CONGO  95  \n",
       "16          CENTRAL AFRICAN REPUBLIC  95  \n",
       "19              UNITED ARAB EMIRATES  95  \n",
       "20    FEDERATED STATES OF MICRONESIA  95  \n",
       "8                        NETHERLANDS  95  \n",
       "4                        PHILIPPINES  95  "
      ]
     },
     "execution_count": 205,
     "metadata": {},
     "output_type": "execute_result"
    }
   ],
   "source": [
    "pd.DataFrame([(country, best(country,onlyGDF)[0],best(country,onlyGDF)[1]) for country in onlyDF]).sort_values(by=2)"
   ]
  },
  {
   "cell_type": "markdown",
   "metadata": {
    "id": "TAty9HrWEmwG"
   },
   "source": [
    "The previous result helps make a plan based on these cases:\n",
    "* **ESWATINI** is always a problem, because it is also *SWAZILAND*.\n",
    "* **KOREA (THE REPUBLIC OF)** is not _NORTH KOREA_.\n",
    "* **LAO PEOPLE'S DEMOCRATIC REPUBLIC (THE)** is too long to match *LAOS* (if it exists in the map like that).\n",
    "* **SAMOA** is always a problem, because it is also *WESTERN SAMOA*.\n",
    "\n",
    "Based on this, we should see what our GDF has:"
   ]
  },
  {
   "cell_type": "code",
   "execution_count": 206,
   "metadata": {
    "id": "qDvddxH1EmwG",
    "outputId": "1a51a69c-8473-4745-c736-96f8272940fa"
   },
   "outputs": [
    {
     "data": {
      "text/plain": [
       "9      AMERICAN SAMOA (US)\n",
       "120            NORTH KOREA\n",
       "122            SOUTH KOREA\n",
       "126                   LAOS\n",
       "242          WESTERN SAMOA\n",
       "243              SWAZILAND\n",
       "Name: Country, dtype: object"
      ]
     },
     "execution_count": 206,
     "metadata": {},
     "output_type": "execute_result"
    }
   ],
   "source": [
    "countries.Country[countries.Country.str.contains('SWAZ|LAO|SAMOA|KORE')]"
   ]
  },
  {
   "cell_type": "markdown",
   "metadata": {
    "id": "T6KT4jlOEmwG"
   },
   "source": [
    "Then, it makes sense to change those manually (notice the 'replace' uses Python dictionaries):"
   ]
  },
  {
   "cell_type": "code",
   "execution_count": 207,
   "metadata": {
    "id": "ru9XfAN0EmwG"
   },
   "outputs": [],
   "source": [
    "# this is a {dictionary}\n",
    "\n",
    "manualChanges={'SWAZILAND':'ESWATINI',\n",
    "               'LAOS':\"LAO PEOPLE'S DEMOCRATIC REPUBLIC (THE)\",\n",
    "               'SOUTH KOREA':'KOREA (THE REPUBLIC OF)',\n",
    "               'WESTERN SAMOA':'SAMOA',\n",
    "              }\n",
    "\n",
    "countries.replace(to_replace={'Country':manualChanges},inplace=True)"
   ]
  },
  {
   "cell_type": "markdown",
   "metadata": {
    "id": "mly8JslcEmwG"
   },
   "source": [
    "At this stage, we should recompute the differences:"
   ]
  },
  {
   "cell_type": "code",
   "execution_count": 208,
   "metadata": {
    "id": "JQBXlB-KEmwG"
   },
   "outputs": [],
   "source": [
    "# updating\n",
    "onlyDF=set(someData.Country)- set(countries.Country)\n",
    "onlyGDF=set(countries.Country)- set(someData.Country)"
   ]
  },
  {
   "cell_type": "markdown",
   "metadata": {
    "id": "Q-soIkXiEmwG"
   },
   "source": [
    "An re run this code:"
   ]
  },
  {
   "cell_type": "code",
   "execution_count": 209,
   "metadata": {
    "id": "X_BTyMJ6911G",
    "outputId": "f8c5222e-3424-427a-dabc-e80ebef43676"
   },
   "outputs": [
    {
     "data": {
      "text/html": [
       "<div>\n",
       "<style scoped>\n",
       "    .dataframe tbody tr th:only-of-type {\n",
       "        vertical-align: middle;\n",
       "    }\n",
       "\n",
       "    .dataframe tbody tr th {\n",
       "        vertical-align: top;\n",
       "    }\n",
       "\n",
       "    .dataframe thead th {\n",
       "        text-align: right;\n",
       "    }\n",
       "</style>\n",
       "<table border=\"1\" class=\"dataframe\">\n",
       "  <thead>\n",
       "    <tr style=\"text-align: right;\">\n",
       "      <th></th>\n",
       "      <th>0</th>\n",
       "      <th>1</th>\n",
       "      <th>2</th>\n",
       "    </tr>\n",
       "  </thead>\n",
       "  <tbody>\n",
       "    <tr>\n",
       "      <th>24</th>\n",
       "      <td>CÔTE D'IVOIRE</td>\n",
       "      <td>IVORY COAST</td>\n",
       "      <td>58</td>\n",
       "    </tr>\n",
       "    <tr>\n",
       "      <th>19</th>\n",
       "      <td>CABO VERDE</td>\n",
       "      <td>CAPE VERDE</td>\n",
       "      <td>80</td>\n",
       "    </tr>\n",
       "    <tr>\n",
       "      <th>6</th>\n",
       "      <td>TIMOR-LESTE</td>\n",
       "      <td>EAST TIMOR</td>\n",
       "      <td>81</td>\n",
       "    </tr>\n",
       "    <tr>\n",
       "      <th>0</th>\n",
       "      <td>BAHAMAS (THE)</td>\n",
       "      <td>BAHAMAS</td>\n",
       "      <td>90</td>\n",
       "    </tr>\n",
       "    <tr>\n",
       "      <th>23</th>\n",
       "      <td>SUDAN (THE)</td>\n",
       "      <td>SUDAN</td>\n",
       "      <td>90</td>\n",
       "    </tr>\n",
       "    <tr>\n",
       "      <th>22</th>\n",
       "      <td>CONGO (THE)</td>\n",
       "      <td>CONGO</td>\n",
       "      <td>90</td>\n",
       "    </tr>\n",
       "    <tr>\n",
       "      <th>21</th>\n",
       "      <td>BRUNEI DARUSSALAM</td>\n",
       "      <td>BRUNEI</td>\n",
       "      <td>90</td>\n",
       "    </tr>\n",
       "    <tr>\n",
       "      <th>20</th>\n",
       "      <td>COMOROS (THE)</td>\n",
       "      <td>COMOROS</td>\n",
       "      <td>90</td>\n",
       "    </tr>\n",
       "    <tr>\n",
       "      <th>15</th>\n",
       "      <td>GAMBIA (THE)</td>\n",
       "      <td>GAMBIA</td>\n",
       "      <td>90</td>\n",
       "    </tr>\n",
       "    <tr>\n",
       "      <th>13</th>\n",
       "      <td>NIGER (THE)</td>\n",
       "      <td>NIGER</td>\n",
       "      <td>90</td>\n",
       "    </tr>\n",
       "    <tr>\n",
       "      <th>11</th>\n",
       "      <td>TANZANIA, THE UNITED REPUBLIC OF</td>\n",
       "      <td>TANZANIA</td>\n",
       "      <td>90</td>\n",
       "    </tr>\n",
       "    <tr>\n",
       "      <th>12</th>\n",
       "      <td>BOLIVIA (PLURINATIONAL STATE OF)</td>\n",
       "      <td>BOLIVIA</td>\n",
       "      <td>90</td>\n",
       "    </tr>\n",
       "    <tr>\n",
       "      <th>8</th>\n",
       "      <td>NORTH MACEDONIA</td>\n",
       "      <td>MACEDONIA</td>\n",
       "      <td>90</td>\n",
       "    </tr>\n",
       "    <tr>\n",
       "      <th>5</th>\n",
       "      <td>MOLDOVA (THE REPUBLIC OF)</td>\n",
       "      <td>MOLDOVA</td>\n",
       "      <td>90</td>\n",
       "    </tr>\n",
       "    <tr>\n",
       "      <th>4</th>\n",
       "      <td>RUSSIAN FEDERATION (THE)</td>\n",
       "      <td>RUSSIA</td>\n",
       "      <td>90</td>\n",
       "    </tr>\n",
       "    <tr>\n",
       "      <th>2</th>\n",
       "      <td>UNITED STATES OF AMERICA (THE)</td>\n",
       "      <td>UNITED STATES</td>\n",
       "      <td>90</td>\n",
       "    </tr>\n",
       "    <tr>\n",
       "      <th>1</th>\n",
       "      <td>UNITED KINGDOM OF GREAT BRITAIN AND NORTHERN I...</td>\n",
       "      <td>UNITED KINGDOM</td>\n",
       "      <td>90</td>\n",
       "    </tr>\n",
       "    <tr>\n",
       "      <th>25</th>\n",
       "      <td>IRAN (ISLAMIC REPUBLIC OF)</td>\n",
       "      <td>IRAN</td>\n",
       "      <td>90</td>\n",
       "    </tr>\n",
       "    <tr>\n",
       "      <th>16</th>\n",
       "      <td>NORTHERN MARIANA ISLANDS (THE)</td>\n",
       "      <td>NORTHERN MARIANA ISLANDS (US)</td>\n",
       "      <td>91</td>\n",
       "    </tr>\n",
       "    <tr>\n",
       "      <th>9</th>\n",
       "      <td>CONGO (THE DEMOCRATIC REPUBLIC OF THE)</td>\n",
       "      <td>DEMOCRATIC REPUBLIC OF THE CONGO</td>\n",
       "      <td>95</td>\n",
       "    </tr>\n",
       "    <tr>\n",
       "      <th>14</th>\n",
       "      <td>CENTRAL AFRICAN REPUBLIC (THE)</td>\n",
       "      <td>CENTRAL AFRICAN REPUBLIC</td>\n",
       "      <td>95</td>\n",
       "    </tr>\n",
       "    <tr>\n",
       "      <th>7</th>\n",
       "      <td>NETHERLANDS (THE)</td>\n",
       "      <td>NETHERLANDS</td>\n",
       "      <td>95</td>\n",
       "    </tr>\n",
       "    <tr>\n",
       "      <th>17</th>\n",
       "      <td>UNITED ARAB EMIRATES (THE)</td>\n",
       "      <td>UNITED ARAB EMIRATES</td>\n",
       "      <td>95</td>\n",
       "    </tr>\n",
       "    <tr>\n",
       "      <th>18</th>\n",
       "      <td>MICRONESIA (FEDERATED STATES OF)</td>\n",
       "      <td>FEDERATED STATES OF MICRONESIA</td>\n",
       "      <td>95</td>\n",
       "    </tr>\n",
       "    <tr>\n",
       "      <th>3</th>\n",
       "      <td>PHILIPPINES (THE)</td>\n",
       "      <td>PHILIPPINES</td>\n",
       "      <td>95</td>\n",
       "    </tr>\n",
       "    <tr>\n",
       "      <th>10</th>\n",
       "      <td>DOMINICAN REPUBLIC (THE)</td>\n",
       "      <td>DOMINICAN REPUBLIC</td>\n",
       "      <td>95</td>\n",
       "    </tr>\n",
       "  </tbody>\n",
       "</table>\n",
       "</div>"
      ],
      "text/plain": [
       "                                                    0  \\\n",
       "24                                      CÔTE D'IVOIRE   \n",
       "19                                         CABO VERDE   \n",
       "6                                         TIMOR-LESTE   \n",
       "0                                       BAHAMAS (THE)   \n",
       "23                                        SUDAN (THE)   \n",
       "22                                        CONGO (THE)   \n",
       "21                                  BRUNEI DARUSSALAM   \n",
       "20                                      COMOROS (THE)   \n",
       "15                                       GAMBIA (THE)   \n",
       "13                                        NIGER (THE)   \n",
       "11                   TANZANIA, THE UNITED REPUBLIC OF   \n",
       "12                   BOLIVIA (PLURINATIONAL STATE OF)   \n",
       "8                                     NORTH MACEDONIA   \n",
       "5                           MOLDOVA (THE REPUBLIC OF)   \n",
       "4                            RUSSIAN FEDERATION (THE)   \n",
       "2                      UNITED STATES OF AMERICA (THE)   \n",
       "1   UNITED KINGDOM OF GREAT BRITAIN AND NORTHERN I...   \n",
       "25                         IRAN (ISLAMIC REPUBLIC OF)   \n",
       "16                     NORTHERN MARIANA ISLANDS (THE)   \n",
       "9              CONGO (THE DEMOCRATIC REPUBLIC OF THE)   \n",
       "14                     CENTRAL AFRICAN REPUBLIC (THE)   \n",
       "7                                   NETHERLANDS (THE)   \n",
       "17                         UNITED ARAB EMIRATES (THE)   \n",
       "18                   MICRONESIA (FEDERATED STATES OF)   \n",
       "3                                   PHILIPPINES (THE)   \n",
       "10                           DOMINICAN REPUBLIC (THE)   \n",
       "\n",
       "                                   1   2  \n",
       "24                       IVORY COAST  58  \n",
       "19                        CAPE VERDE  80  \n",
       "6                         EAST TIMOR  81  \n",
       "0                            BAHAMAS  90  \n",
       "23                             SUDAN  90  \n",
       "22                             CONGO  90  \n",
       "21                            BRUNEI  90  \n",
       "20                           COMOROS  90  \n",
       "15                            GAMBIA  90  \n",
       "13                             NIGER  90  \n",
       "11                          TANZANIA  90  \n",
       "12                           BOLIVIA  90  \n",
       "8                          MACEDONIA  90  \n",
       "5                            MOLDOVA  90  \n",
       "4                             RUSSIA  90  \n",
       "2                      UNITED STATES  90  \n",
       "1                     UNITED KINGDOM  90  \n",
       "25                              IRAN  90  \n",
       "16     NORTHERN MARIANA ISLANDS (US)  91  \n",
       "9   DEMOCRATIC REPUBLIC OF THE CONGO  95  \n",
       "14          CENTRAL AFRICAN REPUBLIC  95  \n",
       "7                        NETHERLANDS  95  \n",
       "17              UNITED ARAB EMIRATES  95  \n",
       "18    FEDERATED STATES OF MICRONESIA  95  \n",
       "3                        PHILIPPINES  95  \n",
       "10                DOMINICAN REPUBLIC  95  "
      ]
     },
     "execution_count": 209,
     "metadata": {},
     "output_type": "execute_result"
    }
   ],
   "source": [
    "# keeping high scores\n",
    "\n",
    "pd.DataFrame([(country, best(country,onlyGDF)[0],best(country,onlyGDF)[1]) for country in onlyDF]).sort_values(2)"
   ]
  },
  {
   "cell_type": "markdown",
   "metadata": {
    "id": "f4HfKg5a911G"
   },
   "source": [
    "All this is correct now!\n",
    "\n",
    "Let's prepare the changes:"
   ]
  },
  {
   "cell_type": "code",
   "execution_count": 210,
   "metadata": {
    "id": "XQmFAeIhEmwK",
    "outputId": "76947b86-c2d4-42e4-d499-27bdb89ef3b5"
   },
   "outputs": [
    {
     "data": {
      "text/plain": [
       "{'BAHAMAS (THE)': 'BAHAMAS',\n",
       " 'UNITED KINGDOM OF GREAT BRITAIN AND NORTHERN IRELAND (THE)': 'UNITED KINGDOM',\n",
       " 'UNITED STATES OF AMERICA (THE)': 'UNITED STATES',\n",
       " 'PHILIPPINES (THE)': 'PHILIPPINES',\n",
       " 'RUSSIAN FEDERATION (THE)': 'RUSSIA',\n",
       " 'MOLDOVA (THE REPUBLIC OF)': 'MOLDOVA',\n",
       " 'TIMOR-LESTE': 'EAST TIMOR',\n",
       " 'NETHERLANDS (THE)': 'NETHERLANDS',\n",
       " 'NORTH MACEDONIA': 'MACEDONIA',\n",
       " 'CONGO (THE DEMOCRATIC REPUBLIC OF THE)': 'DEMOCRATIC REPUBLIC OF THE CONGO',\n",
       " 'DOMINICAN REPUBLIC (THE)': 'DOMINICAN REPUBLIC',\n",
       " 'TANZANIA, THE UNITED REPUBLIC OF': 'TANZANIA',\n",
       " 'BOLIVIA (PLURINATIONAL STATE OF)': 'BOLIVIA',\n",
       " 'NIGER (THE)': 'NIGER',\n",
       " 'CENTRAL AFRICAN REPUBLIC (THE)': 'CENTRAL AFRICAN REPUBLIC',\n",
       " 'GAMBIA (THE)': 'GAMBIA',\n",
       " 'NORTHERN MARIANA ISLANDS (THE)': 'NORTHERN MARIANA ISLANDS (US)',\n",
       " 'UNITED ARAB EMIRATES (THE)': 'UNITED ARAB EMIRATES',\n",
       " 'MICRONESIA (FEDERATED STATES OF)': 'FEDERATED STATES OF MICRONESIA',\n",
       " 'CABO VERDE': 'CAPE VERDE',\n",
       " 'COMOROS (THE)': 'COMOROS',\n",
       " 'BRUNEI DARUSSALAM': 'BRUNEI',\n",
       " 'CONGO (THE)': 'CONGO',\n",
       " 'SUDAN (THE)': 'SUDAN',\n",
       " \"CÔTE D'IVOIRE\": 'IVORY COAST',\n",
       " 'IRAN (ISLAMIC REPUBLIC OF)': 'IRAN'}"
      ]
     },
     "execution_count": 210,
     "metadata": {},
     "output_type": "execute_result"
    }
   ],
   "source": [
    "# new {dictionary}\n",
    "changesToDF={country: best(country,onlyGDF)[0] for country in onlyDF}\n",
    "changesToDF"
   ]
  },
  {
   "cell_type": "code",
   "execution_count": 211,
   "metadata": {
    "id": "HaGAV_eE911G"
   },
   "outputs": [],
   "source": [
    "someData.replace(to_replace={'Country':changesToDF},inplace=True)"
   ]
  },
  {
   "cell_type": "markdown",
   "metadata": {
    "id": "oS24qOxKEmwL"
   },
   "source": [
    "What is left to match?"
   ]
  },
  {
   "cell_type": "code",
   "execution_count": 212,
   "metadata": {
    "id": "jZTvbnY7EmwL",
    "outputId": "de069317-f38f-4d5e-9d50-7782ddf07576"
   },
   "outputs": [
    {
     "data": {
      "text/plain": [
       "[]"
      ]
     },
     "execution_count": 212,
     "metadata": {},
     "output_type": "execute_result"
    }
   ],
   "source": [
    "# updating\n",
    "onlyDF=set(someData.Country)- set(countries.Country)\n",
    "onlyGDF=set(countries.Country)- set(someData.Country)\n",
    "[(country, best(country,onlyGDF)) for country in onlyDF]"
   ]
  },
  {
   "cell_type": "markdown",
   "metadata": {
    "id": "bxxGO8JJEmwL"
   },
   "source": [
    "Once you are here, merging can proceed:"
   ]
  },
  {
   "cell_type": "code",
   "execution_count": 213,
   "metadata": {
    "id": "sRWmaebuEmwL",
    "outputId": "251477ef-3967-45f7-f9d3-611bf2a7ed4d"
   },
   "outputs": [
    {
     "data": {
      "text/html": [
       "<div>\n",
       "<style scoped>\n",
       "    .dataframe tbody tr th:only-of-type {\n",
       "        vertical-align: middle;\n",
       "    }\n",
       "\n",
       "    .dataframe tbody tr th {\n",
       "        vertical-align: top;\n",
       "    }\n",
       "\n",
       "    .dataframe thead th {\n",
       "        text-align: right;\n",
       "    }\n",
       "</style>\n",
       "<table border=\"1\" class=\"dataframe\">\n",
       "  <thead>\n",
       "    <tr style=\"text-align: right;\">\n",
       "      <th></th>\n",
       "      <th>Country</th>\n",
       "      <th>geometry</th>\n",
       "      <th>iso2</th>\n",
       "      <th>iso3</th>\n",
       "      <th>region</th>\n",
       "      <th>fragility</th>\n",
       "      <th>co2</th>\n",
       "      <th>sq_km</th>\n",
       "      <th>num_airports</th>\n",
       "      <th>population</th>\n",
       "      <th>mobiles</th>\n",
       "    </tr>\n",
       "  </thead>\n",
       "  <tbody>\n",
       "    <tr>\n",
       "      <th>0</th>\n",
       "      <td>ANTIGUA AND BARBUDA</td>\n",
       "      <td>MULTIPOLYGON (((-61.73889 17.54055, -61.75195 ...</td>\n",
       "      <td>AG</td>\n",
       "      <td>ATG</td>\n",
       "      <td>CENTRAL AMERICA AND THE CARIBBEAN</td>\n",
       "      <td>54.4</td>\n",
       "      <td>729000</td>\n",
       "      <td>443</td>\n",
       "      <td>4</td>\n",
       "      <td>102634</td>\n",
       "      <td>184000</td>\n",
       "    </tr>\n",
       "    <tr>\n",
       "      <th>1</th>\n",
       "      <td>AFGHANISTAN</td>\n",
       "      <td>POLYGON ((61.27656 35.60725, 61.29638 35.62853...</td>\n",
       "      <td>AF</td>\n",
       "      <td>AFG</td>\n",
       "      <td>SOUTH ASIA</td>\n",
       "      <td>105.0</td>\n",
       "      <td>7893000</td>\n",
       "      <td>652230</td>\n",
       "      <td>68</td>\n",
       "      <td>40121552</td>\n",
       "      <td>23000000</td>\n",
       "    </tr>\n",
       "    <tr>\n",
       "      <th>2</th>\n",
       "      <td>ALGERIA</td>\n",
       "      <td>POLYGON ((-5.15213 30.18047, -5.13917 30.19236...</td>\n",
       "      <td>DZ</td>\n",
       "      <td>DZA</td>\n",
       "      <td>AFRICA</td>\n",
       "      <td>75.4</td>\n",
       "      <td>151633000</td>\n",
       "      <td>2381740</td>\n",
       "      <td>95</td>\n",
       "      <td>47022473</td>\n",
       "      <td>51500000</td>\n",
       "    </tr>\n",
       "    <tr>\n",
       "      <th>3</th>\n",
       "      <td>AZERBAIJAN</td>\n",
       "      <td>MULTIPOLYGON (((46.54037 38.87559, 46.49554 38...</td>\n",
       "      <td>AZ</td>\n",
       "      <td>AZE</td>\n",
       "      <td>MIDDLE EAST</td>\n",
       "      <td>73.2</td>\n",
       "      <td>35389000</td>\n",
       "      <td>86600</td>\n",
       "      <td>32</td>\n",
       "      <td>10650239</td>\n",
       "      <td>11000000</td>\n",
       "    </tr>\n",
       "    <tr>\n",
       "      <th>4</th>\n",
       "      <td>ALBANIA</td>\n",
       "      <td>POLYGON ((20.79192 40.43154, 20.78722 40.39472...</td>\n",
       "      <td>AL</td>\n",
       "      <td>ALB</td>\n",
       "      <td>EUROPE</td>\n",
       "      <td>58.9</td>\n",
       "      <td>3794000</td>\n",
       "      <td>28748</td>\n",
       "      <td>3</td>\n",
       "      <td>3107100</td>\n",
       "      <td>2610000</td>\n",
       "    </tr>\n",
       "    <tr>\n",
       "      <th>...</th>\n",
       "      <td>...</td>\n",
       "      <td>...</td>\n",
       "      <td>...</td>\n",
       "      <td>...</td>\n",
       "      <td>...</td>\n",
       "      <td>...</td>\n",
       "      <td>...</td>\n",
       "      <td>...</td>\n",
       "      <td>...</td>\n",
       "      <td>...</td>\n",
       "      <td>...</td>\n",
       "    </tr>\n",
       "    <tr>\n",
       "      <th>166</th>\n",
       "      <td>ZAMBIA</td>\n",
       "      <td>POLYGON ((30.21302 -14.98172, 30.21917 -15.096...</td>\n",
       "      <td>ZM</td>\n",
       "      <td>ZMB</td>\n",
       "      <td>AFRICA</td>\n",
       "      <td>85.7</td>\n",
       "      <td>6798000</td>\n",
       "      <td>752618</td>\n",
       "      <td>120</td>\n",
       "      <td>20799116</td>\n",
       "      <td>21200000</td>\n",
       "    </tr>\n",
       "    <tr>\n",
       "      <th>167</th>\n",
       "      <td>ZIMBABWE</td>\n",
       "      <td>POLYGON ((32.48888 -21.34445, 32.46541 -21.325...</td>\n",
       "      <td>ZW</td>\n",
       "      <td>ZWE</td>\n",
       "      <td>AFRICA</td>\n",
       "      <td>99.5</td>\n",
       "      <td>7902000</td>\n",
       "      <td>390757</td>\n",
       "      <td>144</td>\n",
       "      <td>17150352</td>\n",
       "      <td>15000000</td>\n",
       "    </tr>\n",
       "    <tr>\n",
       "      <th>168</th>\n",
       "      <td>SOUTH SUDAN</td>\n",
       "      <td>POLYGON ((34.21807 9.96458, 34.20722 9.905, 34...</td>\n",
       "      <td>SS</td>\n",
       "      <td>SSD</td>\n",
       "      <td>AFRICA</td>\n",
       "      <td>112.2</td>\n",
       "      <td>1778000</td>\n",
       "      <td>644329</td>\n",
       "      <td>89</td>\n",
       "      <td>12703714</td>\n",
       "      <td>6170000</td>\n",
       "    </tr>\n",
       "    <tr>\n",
       "      <th>169</th>\n",
       "      <td>INDONESIA</td>\n",
       "      <td>MULTIPOLYGON (((123.21846 -10.80917, 123.19832...</td>\n",
       "      <td>ID</td>\n",
       "      <td>IDN</td>\n",
       "      <td>EAST AND SOUTHEAST ASIA</td>\n",
       "      <td>70.4</td>\n",
       "      <td>563543000</td>\n",
       "      <td>1904569</td>\n",
       "      <td>556</td>\n",
       "      <td>281562465</td>\n",
       "      <td>352000000</td>\n",
       "    </tr>\n",
       "    <tr>\n",
       "      <th>170</th>\n",
       "      <td>EAST TIMOR</td>\n",
       "      <td>MULTIPOLYGON (((124.41824 -9.3001, 124.40446 -...</td>\n",
       "      <td>TL</td>\n",
       "      <td>TLS</td>\n",
       "      <td>EAST AND SOUTHEAST ASIA</td>\n",
       "      <td>85.5</td>\n",
       "      <td>538000</td>\n",
       "      <td>14874</td>\n",
       "      <td>11</td>\n",
       "      <td>1506909</td>\n",
       "      <td>1560000</td>\n",
       "    </tr>\n",
       "  </tbody>\n",
       "</table>\n",
       "<p>171 rows × 11 columns</p>\n",
       "</div>"
      ],
      "text/plain": [
       "                 Country                                           geometry  \\\n",
       "0    ANTIGUA AND BARBUDA  MULTIPOLYGON (((-61.73889 17.54055, -61.75195 ...   \n",
       "1            AFGHANISTAN  POLYGON ((61.27656 35.60725, 61.29638 35.62853...   \n",
       "2                ALGERIA  POLYGON ((-5.15213 30.18047, -5.13917 30.19236...   \n",
       "3             AZERBAIJAN  MULTIPOLYGON (((46.54037 38.87559, 46.49554 38...   \n",
       "4                ALBANIA  POLYGON ((20.79192 40.43154, 20.78722 40.39472...   \n",
       "..                   ...                                                ...   \n",
       "166               ZAMBIA  POLYGON ((30.21302 -14.98172, 30.21917 -15.096...   \n",
       "167             ZIMBABWE  POLYGON ((32.48888 -21.34445, 32.46541 -21.325...   \n",
       "168          SOUTH SUDAN  POLYGON ((34.21807 9.96458, 34.20722 9.905, 34...   \n",
       "169            INDONESIA  MULTIPOLYGON (((123.21846 -10.80917, 123.19832...   \n",
       "170           EAST TIMOR  MULTIPOLYGON (((124.41824 -9.3001, 124.40446 -...   \n",
       "\n",
       "    iso2 iso3                             region  fragility        co2  \\\n",
       "0     AG  ATG  CENTRAL AMERICA AND THE CARIBBEAN       54.4     729000   \n",
       "1     AF  AFG                         SOUTH ASIA      105.0    7893000   \n",
       "2     DZ  DZA                             AFRICA       75.4  151633000   \n",
       "3     AZ  AZE                        MIDDLE EAST       73.2   35389000   \n",
       "4     AL  ALB                             EUROPE       58.9    3794000   \n",
       "..   ...  ...                                ...        ...        ...   \n",
       "166   ZM  ZMB                             AFRICA       85.7    6798000   \n",
       "167   ZW  ZWE                             AFRICA       99.5    7902000   \n",
       "168   SS  SSD                             AFRICA      112.2    1778000   \n",
       "169   ID  IDN            EAST AND SOUTHEAST ASIA       70.4  563543000   \n",
       "170   TL  TLS            EAST AND SOUTHEAST ASIA       85.5     538000   \n",
       "\n",
       "       sq_km  num_airports  population    mobiles  \n",
       "0        443             4      102634     184000  \n",
       "1     652230            68    40121552   23000000  \n",
       "2    2381740            95    47022473   51500000  \n",
       "3      86600            32    10650239   11000000  \n",
       "4      28748             3     3107100    2610000  \n",
       "..       ...           ...         ...        ...  \n",
       "166   752618           120    20799116   21200000  \n",
       "167   390757           144    17150352   15000000  \n",
       "168   644329            89    12703714    6170000  \n",
       "169  1904569           556   281562465  352000000  \n",
       "170    14874            11     1506909    1560000  \n",
       "\n",
       "[171 rows x 11 columns]"
      ]
     },
     "execution_count": 213,
     "metadata": {},
     "output_type": "execute_result"
    }
   ],
   "source": [
    "## GDF to the 'left'\n",
    "theMapAndData=countries.merge(someData, on='Country')\n",
    "theMapAndData"
   ]
  },
  {
   "cell_type": "markdown",
   "metadata": {
    "id": "SZBdNu65911G"
   },
   "source": [
    "And our GDF has social data now!"
   ]
  },
  {
   "cell_type": "code",
   "execution_count": 214,
   "metadata": {
    "id": "2uoQ0nu-911G",
    "outputId": "34025310-f935-4036-fac7-0195d1d1dcfd"
   },
   "outputs": [
    {
     "name": "stdout",
     "output_type": "stream",
     "text": [
      "<class 'geopandas.geodataframe.GeoDataFrame'>\n",
      "RangeIndex: 171 entries, 0 to 170\n",
      "Data columns (total 11 columns):\n",
      " #   Column        Non-Null Count  Dtype   \n",
      "---  ------        --------------  -----   \n",
      " 0   Country       171 non-null    object  \n",
      " 1   geometry      171 non-null    geometry\n",
      " 2   iso2          170 non-null    object  \n",
      " 3   iso3          171 non-null    object  \n",
      " 4   region        171 non-null    object  \n",
      " 5   fragility     171 non-null    float64 \n",
      " 6   co2           171 non-null    int64   \n",
      " 7   sq_km         171 non-null    int64   \n",
      " 8   num_airports  171 non-null    int64   \n",
      " 9   population    171 non-null    int64   \n",
      " 10  mobiles       171 non-null    int64   \n",
      "dtypes: float64(1), geometry(1), int64(5), object(4)\n",
      "memory usage: 14.8+ KB\n"
     ]
    }
   ],
   "source": [
    "theMapAndData.info()"
   ]
  },
  {
   "cell_type": "markdown",
   "metadata": {},
   "source": [
    "# Thematics: the DDM (Dot Density Map)\n",
    "\n",
    "You have a DDM if you use dot to show comparatively which polygon of a map has 'more' (or 'less') of some countable phenomenon of interest. \n",
    "A dot is an aggregated value, but it is constant for each dot.\n",
    "\n",
    "We have the world map, let's keep Africa:"
   ]
  },
  {
   "cell_type": "code",
   "execution_count": 215,
   "metadata": {},
   "outputs": [
    {
     "data": {
      "text/plain": [
       "region\n",
       "AFRICA                               51\n",
       "EUROPE                               37\n",
       "CENTRAL AMERICA AND THE CARIBBEAN    16\n",
       "MIDDLE EAST                          16\n",
       "EAST AND SOUTHEAST ASIA              15\n",
       "SOUTH AMERICA                        12\n",
       "SOUTH ASIA                            8\n",
       "AUSTRALIA AND OCEANIA                 7\n",
       "CENTRAL ASIA                          6\n",
       "NORTH AMERICA                         3\n",
       "Name: count, dtype: int64"
      ]
     },
     "execution_count": 215,
     "metadata": {},
     "output_type": "execute_result"
    }
   ],
   "source": [
    "theMapAndData.region.value_counts()"
   ]
  },
  {
   "cell_type": "code",
   "execution_count": 216,
   "metadata": {},
   "outputs": [
    {
     "data": {
      "text/plain": [
       "<Axes: >"
      ]
     },
     "execution_count": 216,
     "metadata": {},
     "output_type": "execute_result"
    },
    {
     "data": {
      "image/png": "[encoded data removed]",
      "text/plain": [
       "<Figure size 640x480 with 1 Axes>"
      ]
     },
     "metadata": {},
     "output_type": "display_data"
    }
   ],
   "source": [
    "# then\n",
    "\n",
    "Africa=theMapAndData[theMapAndData.region=='AFRICA']\n",
    "Africa.plot()"
   ]
  },
  {
   "cell_type": "markdown",
   "metadata": {},
   "source": [
    "A DDM can serve as an effective way to show the distribution of people. The most critical tasks are:\n",
    "\n",
    "* Dot Placement: The dots should be randomly distributed within each polygon to avoid misrepresenting the data.\n",
    "\n",
    "* Dot Unit: Deciding how many people each dot should represent is key for visual clarity. This value should be chosen carefully to avoid oversaturation or sparsity.\n",
    "\n",
    "The size of all dots on the map must be the same to ensure a consistent visual comparison.\n",
    "\n",
    "This is a DOT UNIT proposal:"
   ]
  },
  {
   "cell_type": "code",
   "execution_count": 217,
   "metadata": {
    "id": "iay2CMzvEmwL"
   },
   "outputs": [],
   "source": [
    "justDots=Africa.copy()\n",
    "dot_value = 100000\n",
    "justDots['num_dots'] = (justDots['population'] / dot_value).astype(int)"
   ]
  },
  {
   "cell_type": "markdown",
   "metadata": {},
   "source": [
    "And here, we get a location for the dots:"
   ]
  },
  {
   "cell_type": "code",
   "execution_count": 218,
   "metadata": {},
   "outputs": [],
   "source": [
    "# 2. Generate the random dot locations using .sample_points()\n",
    "# The 'size' parameter can take a Series of integers, which is exactly what 'num_dots' is.\n",
    "justDots = justDots.sample_points(size=justDots['num_dots']).explode(index_parts=True)"
   ]
  },
  {
   "cell_type": "markdown",
   "metadata": {
    "id": "7cFJhKo0EmwL"
   },
   "source": [
    "You get this:"
   ]
  },
  {
   "cell_type": "code",
   "execution_count": 219,
   "metadata": {
    "id": "qE9aVnrqEmwL",
    "outputId": "4d554b96-a3fa-4e85-96a0-a3446921d47d"
   },
   "outputs": [
    {
     "data": {
      "text/plain": [
       "2    0      POINT (-8.56301 27.71513)\n",
       "     1      POINT (-8.49875 27.43895)\n",
       "     2      POINT (-8.38804 27.93169)\n",
       "     3      POINT (-8.14322 28.53386)\n",
       "     4      POINT (-7.69166 28.84238)\n",
       "                      ...            \n",
       "168  122      POINT (33.98478 4.7585)\n",
       "     123     POINT (34.40789 5.99844)\n",
       "     124     POINT (34.79429 6.44152)\n",
       "     125     POINT (34.92525 5.86658)\n",
       "     126      POINT (35.5994 5.16866)\n",
       "Name: sampled_points, Length: 14030, dtype: geometry"
      ]
     },
     "execution_count": 219,
     "metadata": {},
     "output_type": "execute_result"
    }
   ],
   "source": [
    "justDots"
   ]
  },
  {
   "cell_type": "code",
   "execution_count": 220,
   "metadata": {
    "id": "PNwx4JbaEmwL",
    "outputId": "f84ef2da-32b8-4665-9d9e-f083da1ab126"
   },
   "outputs": [
    {
     "data": {
      "text/plain": [
       "geopandas.geoseries.GeoSeries"
      ]
     },
     "execution_count": 220,
     "metadata": {},
     "output_type": "execute_result"
    }
   ],
   "source": [
    "# what is it?\n",
    "type(justDots)"
   ]
  },
  {
   "cell_type": "markdown",
   "metadata": {
    "id": "9eBnrmsbEmwL"
   },
   "source": [
    "Notice the multi index (MI), one for a country and for a dot. As we are planing to send these points to R, we avoid MI:"
   ]
  },
  {
   "cell_type": "code",
   "execution_count": 221,
   "metadata": {
    "id": "2NDwWKB1EmwL",
    "outputId": "8107ce4b-c95c-4d40-f22b-507e104ad238"
   },
   "outputs": [
    {
     "data": {
      "text/html": [
       "<div>\n",
       "<style scoped>\n",
       "    .dataframe tbody tr th:only-of-type {\n",
       "        vertical-align: middle;\n",
       "    }\n",
       "\n",
       "    .dataframe tbody tr th {\n",
       "        vertical-align: top;\n",
       "    }\n",
       "\n",
       "    .dataframe thead th {\n",
       "        text-align: right;\n",
       "    }\n",
       "</style>\n",
       "<table border=\"1\" class=\"dataframe\">\n",
       "  <thead>\n",
       "    <tr style=\"text-align: right;\">\n",
       "      <th></th>\n",
       "      <th>geometry</th>\n",
       "    </tr>\n",
       "  </thead>\n",
       "  <tbody>\n",
       "    <tr>\n",
       "      <th>0</th>\n",
       "      <td>POINT (-8.56301 27.71513)</td>\n",
       "    </tr>\n",
       "    <tr>\n",
       "      <th>1</th>\n",
       "      <td>POINT (-8.49875 27.43895)</td>\n",
       "    </tr>\n",
       "    <tr>\n",
       "      <th>2</th>\n",
       "      <td>POINT (-8.38804 27.93169)</td>\n",
       "    </tr>\n",
       "    <tr>\n",
       "      <th>3</th>\n",
       "      <td>POINT (-8.14322 28.53386)</td>\n",
       "    </tr>\n",
       "    <tr>\n",
       "      <th>4</th>\n",
       "      <td>POINT (-7.69166 28.84238)</td>\n",
       "    </tr>\n",
       "    <tr>\n",
       "      <th>...</th>\n",
       "      <td>...</td>\n",
       "    </tr>\n",
       "    <tr>\n",
       "      <th>14025</th>\n",
       "      <td>POINT (33.98478 4.7585)</td>\n",
       "    </tr>\n",
       "    <tr>\n",
       "      <th>14026</th>\n",
       "      <td>POINT (34.40789 5.99844)</td>\n",
       "    </tr>\n",
       "    <tr>\n",
       "      <th>14027</th>\n",
       "      <td>POINT (34.79429 6.44152)</td>\n",
       "    </tr>\n",
       "    <tr>\n",
       "      <th>14028</th>\n",
       "      <td>POINT (34.92525 5.86658)</td>\n",
       "    </tr>\n",
       "    <tr>\n",
       "      <th>14029</th>\n",
       "      <td>POINT (35.5994 5.16866)</td>\n",
       "    </tr>\n",
       "  </tbody>\n",
       "</table>\n",
       "<p>14030 rows × 1 columns</p>\n",
       "</div>"
      ],
      "text/plain": [
       "                        geometry\n",
       "0      POINT (-8.56301 27.71513)\n",
       "1      POINT (-8.49875 27.43895)\n",
       "2      POINT (-8.38804 27.93169)\n",
       "3      POINT (-8.14322 28.53386)\n",
       "4      POINT (-7.69166 28.84238)\n",
       "...                          ...\n",
       "14025    POINT (33.98478 4.7585)\n",
       "14026   POINT (34.40789 5.99844)\n",
       "14027   POINT (34.79429 6.44152)\n",
       "14028   POINT (34.92525 5.86658)\n",
       "14029    POINT (35.5994 5.16866)\n",
       "\n",
       "[14030 rows x 1 columns]"
      ]
     },
     "execution_count": 221,
     "metadata": {},
     "output_type": "execute_result"
    }
   ],
   "source": [
    "justDots.reset_index(drop=True, inplace=True)\n",
    "Africa_dots=gpd.GeoDataFrame(geometry=justDots)\n",
    "Africa_dots"
   ]
  },
  {
   "cell_type": "markdown",
   "metadata": {},
   "source": [
    "Now you have a GDF:"
   ]
  },
  {
   "cell_type": "code",
   "execution_count": 222,
   "metadata": {
    "id": "UKRcvavZEmwL",
    "outputId": "7b0fb7e1-ee3d-4c19-a693-f7ba081fdcc1"
   },
   "outputs": [
    {
     "name": "stdout",
     "output_type": "stream",
     "text": [
      "<class 'geopandas.geodataframe.GeoDataFrame'>\n",
      "RangeIndex: 14030 entries, 0 to 14029\n",
      "Data columns (total 1 columns):\n",
      " #   Column    Non-Null Count  Dtype   \n",
      "---  ------    --------------  -----   \n",
      " 0   geometry  14030 non-null  geometry\n",
      "dtypes: geometry(1)\n",
      "memory usage: 109.7 KB\n"
     ]
    }
   ],
   "source": [
    "Africa_dots.info()"
   ]
  },
  {
   "cell_type": "markdown",
   "metadata": {},
   "source": [
    "Juts plot the polygons as the base, and the points as the layer on top!"
   ]
  },
  {
   "cell_type": "code",
   "execution_count": 223,
   "metadata": {
    "id": "fVM-tkhDEmwM",
    "outputId": "7e2c444f-574f-4211-ab2b-a0d3eb1a43f2"
   },
   "outputs": [
    {
     "data": {
      "text/plain": [
       "<Axes: >"
      ]
     },
     "execution_count": 223,
     "metadata": {},
     "output_type": "execute_result"
    },
    {
     "data": {
      "image/png": "[encoded data removed]",
      "text/plain": [
       "<Figure size 640x480 with 1 Axes>"
      ]
     },
     "metadata": {},
     "output_type": "display_data"
    }
   ],
   "source": [
    "base=Africa.plot(facecolor=\"white\",#color of polygon fill\n",
    "               edgecolor='grey') #color of border                \n",
    "Africa_dots.plot(markersize=0.05, color='red',ax=base)"
   ]
  },
  {
   "cell_type": "markdown",
   "metadata": {},
   "source": [
    "It is generally recommended that DDMs use an **equal-area projection**, which benefits density and limits area distortion."
   ]
  },
  {
   "cell_type": "code",
   "execution_count": 224,
   "metadata": {},
   "outputs": [
    {
     "data": {
      "text/plain": [
       "<Axes: >"
      ]
     },
     "execution_count": 224,
     "metadata": {},
     "output_type": "execute_result"
    },
    {
     "data": {
      "image/png": "[encoded data removed]",
      "text/plain": [
       "<Figure size 640x480 with 1 Axes>"
      ]
     },
     "metadata": {},
     "output_type": "display_data"
    }
   ],
   "source": [
    "base=Africa.to_crs(8857).plot(facecolor=\"white\",\n",
    "                              edgecolor='grey')\n",
    "Africa_dots.to_crs(8857).plot(markersize=0.05, color='red',ax=base)"
   ]
  },
  {
   "cell_type": "markdown",
   "metadata": {},
   "source": [
    "Let's keep the continent countries with that crs:"
   ]
  },
  {
   "cell_type": "code",
   "execution_count": 225,
   "metadata": {},
   "outputs": [],
   "source": [
    "Africa_8857=Africa.to_crs(8857)\n",
    "\n",
    "# Africa.to_crs(8857).to_file(\"africa_8857.gpkg\",driver='GPKG',layer='countries')\n",
    "# Africa_dots.to_crs(8857).to_file(\"africa_8857.gpkg\",driver='GPKG',layer='dotdensity')"
   ]
  },
  {
   "cell_type": "markdown",
   "metadata": {},
   "source": [
    "# Thematics: the PSM (Proportional Symbol Map)\n",
    "\n",
    "You have a PSM if you use a symbol (generally a circle) to show the distribution of a variable per location.\n",
    "The symbol is an aggregated raw value, and its size varies according to those values. So now we need:\n",
    "\n",
    "1. A location for a symbol, generally the polygon centroid."
   ]
  },
  {
   "cell_type": "code",
   "execution_count": 226,
   "metadata": {},
   "outputs": [],
   "source": [
    "Africa_8857_centroids = Africa_8857.copy()\n",
    "\n",
    "# Africa_8857_centroids will have a new geometry:\n",
    "Africa_8857_centroids['geometry'] = Africa_8857_centroids['geometry'].centroid"
   ]
  },
  {
   "cell_type": "markdown",
   "metadata": {},
   "source": [
    "2. A size of varying values (not constant as in DDMs). Let's use population again."
   ]
  },
  {
   "cell_type": "code",
   "execution_count": 227,
   "metadata": {},
   "outputs": [],
   "source": [
    "Africa_8857_centroids['size'] = Africa_8857_centroids['population'].apply(lambda x: x**0.5/100)\n",
    "\n",
    "## or\n",
    "# import numpy as np\n",
    "# Africa_8857_centroids['size'] = Africa_8857_centroids['population'].apply(lambda x: np.log10(x))"
   ]
  },
  {
   "cell_type": "markdown",
   "metadata": {},
   "source": [
    "We got the basics, then:"
   ]
  },
  {
   "cell_type": "code",
   "execution_count": 228,
   "metadata": {},
   "outputs": [
    {
     "data": {
      "text/plain": [
       "<Axes: >"
      ]
     },
     "execution_count": 228,
     "metadata": {},
     "output_type": "execute_result"
    },
    {
     "data": {
      "image/png": "[encoded data removed]",
      "text/plain": [
       "<Figure size 640x480 with 1 Axes>"
      ]
     },
     "metadata": {},
     "output_type": "display_data"
    }
   ],
   "source": [
    "base=Africa_8857.plot(facecolor=\"white\",\n",
    "                      edgecolor='grey')\n",
    "# Plot the centroids on top\n",
    "Africa_8857_centroids.plot(\n",
    "    ax=base,\n",
    "    markersize=Africa_8857_centroids['size'],\n",
    "    color='grey'\n",
    ")"
   ]
  },
  {
   "cell_type": "markdown",
   "metadata": {},
   "source": [
    "PPMs are not thematic maps to see precise values, but to reveal clear differences on the variable distribution used. As, human eyes are very limited to detect area differences, we may need to use some other tactics to help uncover some patterns.\n",
    "\n",
    "For example, let's confirm if we have outliers:"
   ]
  },
  {
   "cell_type": "code",
   "execution_count": 229,
   "metadata": {},
   "outputs": [
    {
     "data": {
      "image/png": "[encoded data removed]",
      "text/plain": [
       "<Figure size 640x480 with 1 Axes>"
      ]
     },
     "metadata": {},
     "output_type": "display_data"
    }
   ],
   "source": [
    "boxplotInfo=Africa_8857_centroids.boxplot(column='population',return_type=\"dict\")"
   ]
  },
  {
   "cell_type": "markdown",
   "metadata": {},
   "source": [
    "The object **boxplotInfo** showed the boxplot, and we confirm there are outliers. We can recover them like this:"
   ]
  },
  {
   "cell_type": "code",
   "execution_count": 230,
   "metadata": {},
   "outputs": [
    {
     "data": {
      "text/plain": [
       "array([115403027, 111247248, 118550298, 236747130], dtype=object)"
      ]
     },
     "execution_count": 230,
     "metadata": {},
     "output_type": "execute_result"
    }
   ],
   "source": [
    "outliers=boxplotInfo['fliers'][0].get_ydata()\n",
    "## see\n",
    "outliers"
   ]
  },
  {
   "cell_type": "markdown",
   "metadata": {},
   "source": [
    "Then, these are the outlying countries:"
   ]
  },
  {
   "cell_type": "code",
   "execution_count": 231,
   "metadata": {},
   "outputs": [
    {
     "data": {
      "text/html": [
       "<div>\n",
       "<style scoped>\n",
       "    .dataframe tbody tr th:only-of-type {\n",
       "        vertical-align: middle;\n",
       "    }\n",
       "\n",
       "    .dataframe tbody tr th {\n",
       "        vertical-align: top;\n",
       "    }\n",
       "\n",
       "    .dataframe thead th {\n",
       "        text-align: right;\n",
       "    }\n",
       "</style>\n",
       "<table border=\"1\" class=\"dataframe\">\n",
       "  <thead>\n",
       "    <tr style=\"text-align: right;\">\n",
       "      <th></th>\n",
       "      <th>Country</th>\n",
       "      <th>geometry</th>\n",
       "      <th>iso2</th>\n",
       "      <th>iso3</th>\n",
       "      <th>region</th>\n",
       "      <th>fragility</th>\n",
       "      <th>co2</th>\n",
       "      <th>sq_km</th>\n",
       "      <th>num_airports</th>\n",
       "      <th>population</th>\n",
       "      <th>mobiles</th>\n",
       "      <th>size</th>\n",
       "    </tr>\n",
       "  </thead>\n",
       "  <tbody>\n",
       "    <tr>\n",
       "      <th>32</th>\n",
       "      <td>DEMOCRATIC REPUBLIC OF THE CONGO</td>\n",
       "      <td>POINT (2261167.581 -366628.064)</td>\n",
       "      <td>CD</td>\n",
       "      <td>COD</td>\n",
       "      <td>AFRICA</td>\n",
       "      <td>110.2</td>\n",
       "      <td>2653000</td>\n",
       "      <td>2344858</td>\n",
       "      <td>273</td>\n",
       "      <td>115403027</td>\n",
       "      <td>49800000</td>\n",
       "      <td>107.425801</td>\n",
       "    </tr>\n",
       "    <tr>\n",
       "      <th>48</th>\n",
       "      <td>EGYPT</td>\n",
       "      <td>POINT (2718439.633 3332479.727)</td>\n",
       "      <td>EG</td>\n",
       "      <td>EGY</td>\n",
       "      <td>AFRICA</td>\n",
       "      <td>88.4</td>\n",
       "      <td>235137000</td>\n",
       "      <td>1001450</td>\n",
       "      <td>73</td>\n",
       "      <td>111247248</td>\n",
       "      <td>106000000</td>\n",
       "      <td>105.473811</td>\n",
       "    </tr>\n",
       "    <tr>\n",
       "      <th>53</th>\n",
       "      <td>ETHIOPIA</td>\n",
       "      <td>POINT (3773637.19 1103137.24)</td>\n",
       "      <td>ET</td>\n",
       "      <td>ETH</td>\n",
       "      <td>AFRICA</td>\n",
       "      <td>94.2</td>\n",
       "      <td>16798000</td>\n",
       "      <td>1104300</td>\n",
       "      <td>58</td>\n",
       "      <td>118550298</td>\n",
       "      <td>71400000</td>\n",
       "      <td>108.880805</td>\n",
       "    </tr>\n",
       "    <tr>\n",
       "      <th>112</th>\n",
       "      <td>NIGERIA</td>\n",
       "      <td>POINT (770395.209 1227428.411)</td>\n",
       "      <td>NG</td>\n",
       "      <td>NGA</td>\n",
       "      <td>AFRICA</td>\n",
       "      <td>98.5</td>\n",
       "      <td>104494000</td>\n",
       "      <td>923768</td>\n",
       "      <td>50</td>\n",
       "      <td>236747130</td>\n",
       "      <td>224000000</td>\n",
       "      <td>153.865893</td>\n",
       "    </tr>\n",
       "  </tbody>\n",
       "</table>\n",
       "</div>"
      ],
      "text/plain": [
       "                              Country                         geometry iso2  \\\n",
       "32   DEMOCRATIC REPUBLIC OF THE CONGO  POINT (2261167.581 -366628.064)   CD   \n",
       "48                              EGYPT  POINT (2718439.633 3332479.727)   EG   \n",
       "53                           ETHIOPIA    POINT (3773637.19 1103137.24)   ET   \n",
       "112                           NIGERIA   POINT (770395.209 1227428.411)   NG   \n",
       "\n",
       "    iso3  region  fragility        co2    sq_km  num_airports  population  \\\n",
       "32   COD  AFRICA      110.2    2653000  2344858           273   115403027   \n",
       "48   EGY  AFRICA       88.4  235137000  1001450            73   111247248   \n",
       "53   ETH  AFRICA       94.2   16798000  1104300            58   118550298   \n",
       "112  NGA  AFRICA       98.5  104494000   923768            50   236747130   \n",
       "\n",
       "       mobiles        size  \n",
       "32    49800000  107.425801  \n",
       "48   106000000  105.473811  \n",
       "53    71400000  108.880805  \n",
       "112  224000000  153.865893  "
      ]
     },
     "execution_count": 231,
     "metadata": {},
     "output_type": "execute_result"
    }
   ],
   "source": [
    "Africa_8857_centroids[Africa_8857_centroids.population.isin(outliers)]"
   ]
  },
  {
   "cell_type": "markdown",
   "metadata": {},
   "source": [
    "Knowing this information, we can create a column as outlier flag:"
   ]
  },
  {
   "cell_type": "code",
   "execution_count": 232,
   "metadata": {},
   "outputs": [
    {
     "data": {
      "text/html": [
       "<div>\n",
       "<style scoped>\n",
       "    .dataframe tbody tr th:only-of-type {\n",
       "        vertical-align: middle;\n",
       "    }\n",
       "\n",
       "    .dataframe tbody tr th {\n",
       "        vertical-align: top;\n",
       "    }\n",
       "\n",
       "    .dataframe thead th {\n",
       "        text-align: right;\n",
       "    }\n",
       "</style>\n",
       "<table border=\"1\" class=\"dataframe\">\n",
       "  <thead>\n",
       "    <tr style=\"text-align: right;\">\n",
       "      <th></th>\n",
       "      <th>Country</th>\n",
       "      <th>geometry</th>\n",
       "      <th>iso2</th>\n",
       "      <th>iso3</th>\n",
       "      <th>region</th>\n",
       "      <th>fragility</th>\n",
       "      <th>co2</th>\n",
       "      <th>sq_km</th>\n",
       "      <th>num_airports</th>\n",
       "      <th>population</th>\n",
       "      <th>mobiles</th>\n",
       "      <th>size</th>\n",
       "      <th>population_outlier</th>\n",
       "    </tr>\n",
       "  </thead>\n",
       "  <tbody>\n",
       "    <tr>\n",
       "      <th>2</th>\n",
       "      <td>ALGERIA</td>\n",
       "      <td>POINT (238502.141 3518510.55)</td>\n",
       "      <td>DZ</td>\n",
       "      <td>DZA</td>\n",
       "      <td>AFRICA</td>\n",
       "      <td>75.4</td>\n",
       "      <td>151633000</td>\n",
       "      <td>2381740</td>\n",
       "      <td>95</td>\n",
       "      <td>47022473</td>\n",
       "      <td>51500000</td>\n",
       "      <td>68.572934</td>\n",
       "      <td>0</td>\n",
       "    </tr>\n",
       "    <tr>\n",
       "      <th>6</th>\n",
       "      <td>ANGOLA</td>\n",
       "      <td>POINT (1660973.947 -1567698.855)</td>\n",
       "      <td>AO</td>\n",
       "      <td>AGO</td>\n",
       "      <td>AFRICA</td>\n",
       "      <td>87.8</td>\n",
       "      <td>19362000</td>\n",
       "      <td>1246700</td>\n",
       "      <td>107</td>\n",
       "      <td>37202061</td>\n",
       "      <td>25700000</td>\n",
       "      <td>60.993492</td>\n",
       "      <td>0</td>\n",
       "    </tr>\n",
       "    <tr>\n",
       "      <th>12</th>\n",
       "      <td>BOTSWANA</td>\n",
       "      <td>POINT (2201221.267 -2809166.362)</td>\n",
       "      <td>BW</td>\n",
       "      <td>BWA</td>\n",
       "      <td>AFRICA</td>\n",
       "      <td>59.5</td>\n",
       "      <td>5965000</td>\n",
       "      <td>581730</td>\n",
       "      <td>122</td>\n",
       "      <td>2450668</td>\n",
       "      <td>4440000</td>\n",
       "      <td>15.654610</td>\n",
       "      <td>0</td>\n",
       "    </tr>\n",
       "    <tr>\n",
       "      <th>19</th>\n",
       "      <td>BENIN</td>\n",
       "      <td>POINT (222846.461 1235558.191)</td>\n",
       "      <td>BJ</td>\n",
       "      <td>BEN</td>\n",
       "      <td>AFRICA</td>\n",
       "      <td>73.6</td>\n",
       "      <td>6903000</td>\n",
       "      <td>112622</td>\n",
       "      <td>10</td>\n",
       "      <td>14697052</td>\n",
       "      <td>16400000</td>\n",
       "      <td>38.336734</td>\n",
       "      <td>0</td>\n",
       "    </tr>\n",
       "    <tr>\n",
       "      <th>26</th>\n",
       "      <td>BURUNDI</td>\n",
       "      <td>POINT (2860810.304 -431061.403)</td>\n",
       "      <td>BI</td>\n",
       "      <td>BDI</td>\n",
       "      <td>AFRICA</td>\n",
       "      <td>98.2</td>\n",
       "      <td>715000</td>\n",
       "      <td>27830</td>\n",
       "      <td>6</td>\n",
       "      <td>13590102</td>\n",
       "      <td>8650000</td>\n",
       "      <td>36.864756</td>\n",
       "      <td>0</td>\n",
       "    </tr>\n",
       "    <tr>\n",
       "      <th>29</th>\n",
       "      <td>CHAD</td>\n",
       "      <td>POINT (1755417.429 1950748.319)</td>\n",
       "      <td>TD</td>\n",
       "      <td>TCD</td>\n",
       "      <td>AFRICA</td>\n",
       "      <td>108.5</td>\n",
       "      <td>1771000</td>\n",
       "      <td>1284000</td>\n",
       "      <td>44</td>\n",
       "      <td>19093595</td>\n",
       "      <td>12100000</td>\n",
       "      <td>43.696218</td>\n",
       "      <td>0</td>\n",
       "    </tr>\n",
       "    <tr>\n",
       "      <th>31</th>\n",
       "      <td>CONGO</td>\n",
       "      <td>POINT (1457936.98 -107754.095)</td>\n",
       "      <td>CG</td>\n",
       "      <td>COG</td>\n",
       "      <td>AFRICA</td>\n",
       "      <td>92.5</td>\n",
       "      <td>4523000</td>\n",
       "      <td>342000</td>\n",
       "      <td>56</td>\n",
       "      <td>6097665</td>\n",
       "      <td>5870000</td>\n",
       "      <td>24.693451</td>\n",
       "      <td>0</td>\n",
       "    </tr>\n",
       "    <tr>\n",
       "      <th>32</th>\n",
       "      <td>DEMOCRATIC REPUBLIC OF THE CONGO</td>\n",
       "      <td>POINT (2261167.581 -366628.064)</td>\n",
       "      <td>CD</td>\n",
       "      <td>COD</td>\n",
       "      <td>AFRICA</td>\n",
       "      <td>110.2</td>\n",
       "      <td>2653000</td>\n",
       "      <td>2344858</td>\n",
       "      <td>273</td>\n",
       "      <td>115403027</td>\n",
       "      <td>49800000</td>\n",
       "      <td>107.425801</td>\n",
       "      <td>1</td>\n",
       "    </tr>\n",
       "    <tr>\n",
       "      <th>35</th>\n",
       "      <td>CAMEROON</td>\n",
       "      <td>POINT (1217073.791 728109.574)</td>\n",
       "      <td>CM</td>\n",
       "      <td>CMR</td>\n",
       "      <td>AFRICA</td>\n",
       "      <td>97.0</td>\n",
       "      <td>7105000</td>\n",
       "      <td>475440</td>\n",
       "      <td>37</td>\n",
       "      <td>30966105</td>\n",
       "      <td>26200000</td>\n",
       "      <td>55.647197</td>\n",
       "      <td>0</td>\n",
       "    </tr>\n",
       "    <tr>\n",
       "      <th>36</th>\n",
       "      <td>COMOROS</td>\n",
       "      <td>POINT (4141456.507 -1522508.183)</td>\n",
       "      <td>KM</td>\n",
       "      <td>COM</td>\n",
       "      <td>AFRICA</td>\n",
       "      <td>81.7</td>\n",
       "      <td>326000</td>\n",
       "      <td>2235</td>\n",
       "      <td>3</td>\n",
       "      <td>900141</td>\n",
       "      <td>934000</td>\n",
       "      <td>9.487576</td>\n",
       "      <td>0</td>\n",
       "    </tr>\n",
       "    <tr>\n",
       "      <th>40</th>\n",
       "      <td>CENTRAL AFRICAN REPUBLIC</td>\n",
       "      <td>POINT (1955334.566 842556.246)</td>\n",
       "      <td>CF</td>\n",
       "      <td>CAF</td>\n",
       "      <td>AFRICA</td>\n",
       "      <td>108.9</td>\n",
       "      <td>285000</td>\n",
       "      <td>622984</td>\n",
       "      <td>43</td>\n",
       "      <td>5650957</td>\n",
       "      <td>1830000</td>\n",
       "      <td>23.771742</td>\n",
       "      <td>0</td>\n",
       "    </tr>\n",
       "    <tr>\n",
       "      <th>42</th>\n",
       "      <td>CAPE VERDE</td>\n",
       "      <td>POINT (-2253645.032 2039142.15)</td>\n",
       "      <td>CV</td>\n",
       "      <td>CPV</td>\n",
       "      <td>AFRICA</td>\n",
       "      <td>66.6</td>\n",
       "      <td>1002000</td>\n",
       "      <td>4033</td>\n",
       "      <td>10</td>\n",
       "      <td>611014</td>\n",
       "      <td>590000</td>\n",
       "      <td>7.816738</td>\n",
       "      <td>0</td>\n",
       "    </tr>\n",
       "    <tr>\n",
       "      <th>45</th>\n",
       "      <td>DJIBOUTI</td>\n",
       "      <td>POINT (4038310.824 1504267.133)</td>\n",
       "      <td>DJ</td>\n",
       "      <td>DJI</td>\n",
       "      <td>AFRICA</td>\n",
       "      <td>85.1</td>\n",
       "      <td>610000</td>\n",
       "      <td>23200</td>\n",
       "      <td>10</td>\n",
       "      <td>994974</td>\n",
       "      <td>574000</td>\n",
       "      <td>9.974838</td>\n",
       "      <td>0</td>\n",
       "    </tr>\n",
       "    <tr>\n",
       "      <th>48</th>\n",
       "      <td>EGYPT</td>\n",
       "      <td>POINT (2718439.633 3332479.727)</td>\n",
       "      <td>EG</td>\n",
       "      <td>EGY</td>\n",
       "      <td>AFRICA</td>\n",
       "      <td>88.4</td>\n",
       "      <td>235137000</td>\n",
       "      <td>1001450</td>\n",
       "      <td>73</td>\n",
       "      <td>111247248</td>\n",
       "      <td>106000000</td>\n",
       "      <td>105.473811</td>\n",
       "      <td>1</td>\n",
       "    </tr>\n",
       "    <tr>\n",
       "      <th>50</th>\n",
       "      <td>EQUATORIAL GUINEA</td>\n",
       "      <td>POINT (990547.829 219959.765)</td>\n",
       "      <td>GQ</td>\n",
       "      <td>GNQ</td>\n",
       "      <td>AFRICA</td>\n",
       "      <td>82.6</td>\n",
       "      <td>4528000</td>\n",
       "      <td>28051</td>\n",
       "      <td>7</td>\n",
       "      <td>1795834</td>\n",
       "      <td>893000</td>\n",
       "      <td>13.400873</td>\n",
       "      <td>0</td>\n",
       "    </tr>\n",
       "    <tr>\n",
       "      <th>53</th>\n",
       "      <td>ETHIOPIA</td>\n",
       "      <td>POINT (3773637.19 1103137.24)</td>\n",
       "      <td>ET</td>\n",
       "      <td>ETH</td>\n",
       "      <td>AFRICA</td>\n",
       "      <td>94.2</td>\n",
       "      <td>16798000</td>\n",
       "      <td>1104300</td>\n",
       "      <td>58</td>\n",
       "      <td>118550298</td>\n",
       "      <td>71400000</td>\n",
       "      <td>108.880805</td>\n",
       "      <td>1</td>\n",
       "    </tr>\n",
       "    <tr>\n",
       "      <th>58</th>\n",
       "      <td>GAMBIA</td>\n",
       "      <td>POINT (-1454854.032 1720505.309)</td>\n",
       "      <td>GM</td>\n",
       "      <td>GMB</td>\n",
       "      <td>AFRICA</td>\n",
       "      <td>83.9</td>\n",
       "      <td>606000</td>\n",
       "      <td>11300</td>\n",
       "      <td>1</td>\n",
       "      <td>2523327</td>\n",
       "      <td>2680000</td>\n",
       "      <td>15.884983</td>\n",
       "      <td>0</td>\n",
       "    </tr>\n",
       "    <tr>\n",
       "      <th>59</th>\n",
       "      <td>GABON</td>\n",
       "      <td>POINT (1130001.189 -75876.847)</td>\n",
       "      <td>GA</td>\n",
       "      <td>GAB</td>\n",
       "      <td>AFRICA</td>\n",
       "      <td>70.5</td>\n",
       "      <td>2651000</td>\n",
       "      <td>267667</td>\n",
       "      <td>42</td>\n",
       "      <td>2455105</td>\n",
       "      <td>3000000</td>\n",
       "      <td>15.668775</td>\n",
       "      <td>0</td>\n",
       "    </tr>\n",
       "    <tr>\n",
       "      <th>61</th>\n",
       "      <td>GHANA</td>\n",
       "      <td>POINT (-115119.235 1020017.928)</td>\n",
       "      <td>GH</td>\n",
       "      <td>GHA</td>\n",
       "      <td>AFRICA</td>\n",
       "      <td>65.9</td>\n",
       "      <td>18093000</td>\n",
       "      <td>238533</td>\n",
       "      <td>11</td>\n",
       "      <td>34589092</td>\n",
       "      <td>33400000</td>\n",
       "      <td>58.812492</td>\n",
       "      <td>0</td>\n",
       "    </tr>\n",
       "    <tr>\n",
       "      <th>66</th>\n",
       "      <td>GUINEA</td>\n",
       "      <td>POINT (-1039447.767 1336788.107)</td>\n",
       "      <td>GN</td>\n",
       "      <td>GIN</td>\n",
       "      <td>AFRICA</td>\n",
       "      <td>99.4</td>\n",
       "      <td>2981000</td>\n",
       "      <td>245857</td>\n",
       "      <td>16</td>\n",
       "      <td>13986179</td>\n",
       "      <td>13800000</td>\n",
       "      <td>37.398100</td>\n",
       "      <td>0</td>\n",
       "    </tr>\n",
       "    <tr>\n",
       "      <th>77</th>\n",
       "      <td>IVORY COAST</td>\n",
       "      <td>POINT (-529901.069 978299.389)</td>\n",
       "      <td>CI</td>\n",
       "      <td>CIV</td>\n",
       "      <td>AFRICA</td>\n",
       "      <td>92.1</td>\n",
       "      <td>11880000</td>\n",
       "      <td>322463</td>\n",
       "      <td>29</td>\n",
       "      <td>29981758</td>\n",
       "      <td>53600000</td>\n",
       "      <td>54.755601</td>\n",
       "      <td>0</td>\n",
       "    </tr>\n",
       "    <tr>\n",
       "      <th>82</th>\n",
       "      <td>KENYA</td>\n",
       "      <td>POINT (3625433.652 67979.349)</td>\n",
       "      <td>KE</td>\n",
       "      <td>KEN</td>\n",
       "      <td>AFRICA</td>\n",
       "      <td>93.5</td>\n",
       "      <td>17709000</td>\n",
       "      <td>580367</td>\n",
       "      <td>368</td>\n",
       "      <td>58246378</td>\n",
       "      <td>66700000</td>\n",
       "      <td>76.319315</td>\n",
       "      <td>0</td>\n",
       "    </tr>\n",
       "    <tr>\n",
       "      <th>91</th>\n",
       "      <td>LIBERIA</td>\n",
       "      <td>POINT (-888812.255 827345.635)</td>\n",
       "      <td>LR</td>\n",
       "      <td>LBR</td>\n",
       "      <td>AFRICA</td>\n",
       "      <td>90.2</td>\n",
       "      <td>1346000</td>\n",
       "      <td>111369</td>\n",
       "      <td>19</td>\n",
       "      <td>5437249</td>\n",
       "      <td>1650000</td>\n",
       "      <td>23.317909</td>\n",
       "      <td>0</td>\n",
       "    </tr>\n",
       "    <tr>\n",
       "      <th>92</th>\n",
       "      <td>LESOTHO</td>\n",
       "      <td>POINT (2536936.865 -3713971.261)</td>\n",
       "      <td>LS</td>\n",
       "      <td>LSO</td>\n",
       "      <td>AFRICA</td>\n",
       "      <td>79.7</td>\n",
       "      <td>736000</td>\n",
       "      <td>30355</td>\n",
       "      <td>34</td>\n",
       "      <td>2227548</td>\n",
       "      <td>1600000</td>\n",
       "      <td>14.924972</td>\n",
       "      <td>0</td>\n",
       "    </tr>\n",
       "    <tr>\n",
       "      <th>94</th>\n",
       "      <td>LIBYA</td>\n",
       "      <td>POINT (1639509.421 3396552.514)</td>\n",
       "      <td>LY</td>\n",
       "      <td>LBY</td>\n",
       "      <td>AFRICA</td>\n",
       "      <td>92.2</td>\n",
       "      <td>38297000</td>\n",
       "      <td>1759540</td>\n",
       "      <td>75</td>\n",
       "      <td>7361263</td>\n",
       "      <td>13900000</td>\n",
       "      <td>27.131648</td>\n",
       "      <td>0</td>\n",
       "    </tr>\n",
       "    <tr>\n",
       "      <th>95</th>\n",
       "      <td>MADAGASCAR</td>\n",
       "      <td>POINT (4353978.836 -2455573.483)</td>\n",
       "      <td>MG</td>\n",
       "      <td>MDG</td>\n",
       "      <td>AFRICA</td>\n",
       "      <td>80.9</td>\n",
       "      <td>4218000</td>\n",
       "      <td>587041</td>\n",
       "      <td>93</td>\n",
       "      <td>29452714</td>\n",
       "      <td>25400000</td>\n",
       "      <td>54.270355</td>\n",
       "      <td>0</td>\n",
       "    </tr>\n",
       "    <tr>\n",
       "      <th>98</th>\n",
       "      <td>MALAWI</td>\n",
       "      <td>POINT (3244109.685 -1688214.547)</td>\n",
       "      <td>MW</td>\n",
       "      <td>MWI</td>\n",
       "      <td>AFRICA</td>\n",
       "      <td>83.3</td>\n",
       "      <td>1542000</td>\n",
       "      <td>118484</td>\n",
       "      <td>27</td>\n",
       "      <td>21763309</td>\n",
       "      <td>12900000</td>\n",
       "      <td>46.651162</td>\n",
       "      <td>0</td>\n",
       "    </tr>\n",
       "    <tr>\n",
       "      <th>100</th>\n",
       "      <td>MALI</td>\n",
       "      <td>POINT (-333325.798 2202010.698)</td>\n",
       "      <td>ML</td>\n",
       "      <td>MLI</td>\n",
       "      <td>AFRICA</td>\n",
       "      <td>94.5</td>\n",
       "      <td>5679000</td>\n",
       "      <td>1240192</td>\n",
       "      <td>30</td>\n",
       "      <td>21990607</td>\n",
       "      <td>25900000</td>\n",
       "      <td>46.894144</td>\n",
       "      <td>0</td>\n",
       "    </tr>\n",
       "    <tr>\n",
       "      <th>101</th>\n",
       "      <td>MOROCCO</td>\n",
       "      <td>POINT (-566301.085 3981611.079)</td>\n",
       "      <td>MA</td>\n",
       "      <td>MAR</td>\n",
       "      <td>AFRICA</td>\n",
       "      <td>73.0</td>\n",
       "      <td>60200000</td>\n",
       "      <td>716550</td>\n",
       "      <td>48</td>\n",
       "      <td>37387585</td>\n",
       "      <td>55900000</td>\n",
       "      <td>61.145388</td>\n",
       "      <td>0</td>\n",
       "    </tr>\n",
       "    <tr>\n",
       "      <th>102</th>\n",
       "      <td>MAURITIUS</td>\n",
       "      <td>POINT (5381009.514 -2574687.655)</td>\n",
       "      <td>MU</td>\n",
       "      <td>MUS</td>\n",
       "      <td>AFRICA</td>\n",
       "      <td>38.9</td>\n",
       "      <td>7191000</td>\n",
       "      <td>2040</td>\n",
       "      <td>5</td>\n",
       "      <td>1310504</td>\n",
       "      <td>2100000</td>\n",
       "      <td>11.447725</td>\n",
       "      <td>0</td>\n",
       "    </tr>\n",
       "    <tr>\n",
       "      <th>103</th>\n",
       "      <td>MAURITANIA</td>\n",
       "      <td>POINT (-961769.628 2566844.341)</td>\n",
       "      <td>MR</td>\n",
       "      <td>MRT</td>\n",
       "      <td>AFRICA</td>\n",
       "      <td>90.1</td>\n",
       "      <td>4041000</td>\n",
       "      <td>1030700</td>\n",
       "      <td>25</td>\n",
       "      <td>4328040</td>\n",
       "      <td>5360000</td>\n",
       "      <td>20.803942</td>\n",
       "      <td>0</td>\n",
       "    </tr>\n",
       "    <tr>\n",
       "      <th>110</th>\n",
       "      <td>MOZAMBIQUE</td>\n",
       "      <td>POINT (3334644.699 -2186645.366)</td>\n",
       "      <td>MZ</td>\n",
       "      <td>MOZ</td>\n",
       "      <td>AFRICA</td>\n",
       "      <td>88.7</td>\n",
       "      <td>7753000</td>\n",
       "      <td>799380</td>\n",
       "      <td>92</td>\n",
       "      <td>33350954</td>\n",
       "      <td>15000000</td>\n",
       "      <td>57.750285</td>\n",
       "      <td>0</td>\n",
       "    </tr>\n",
       "    <tr>\n",
       "      <th>111</th>\n",
       "      <td>NIGER</td>\n",
       "      <td>POINT (876563.601 2215267.673)</td>\n",
       "      <td>NE</td>\n",
       "      <td>NER</td>\n",
       "      <td>AFRICA</td>\n",
       "      <td>96.2</td>\n",
       "      <td>2374000</td>\n",
       "      <td>1267000</td>\n",
       "      <td>26</td>\n",
       "      <td>26342784</td>\n",
       "      <td>14200000</td>\n",
       "      <td>51.325222</td>\n",
       "      <td>0</td>\n",
       "    </tr>\n",
       "    <tr>\n",
       "      <th>112</th>\n",
       "      <td>NIGERIA</td>\n",
       "      <td>POINT (770395.209 1227428.411)</td>\n",
       "      <td>NG</td>\n",
       "      <td>NGA</td>\n",
       "      <td>AFRICA</td>\n",
       "      <td>98.5</td>\n",
       "      <td>104494000</td>\n",
       "      <td>923768</td>\n",
       "      <td>50</td>\n",
       "      <td>236747130</td>\n",
       "      <td>224000000</td>\n",
       "      <td>153.865893</td>\n",
       "      <td>1</td>\n",
       "    </tr>\n",
       "    <tr>\n",
       "      <th>126</th>\n",
       "      <td>GUINEA-BISSAU</td>\n",
       "      <td>POINT (-1418565.086 1540132.491)</td>\n",
       "      <td>GW</td>\n",
       "      <td>GNB</td>\n",
       "      <td>AFRICA</td>\n",
       "      <td>95.5</td>\n",
       "      <td>342000</td>\n",
       "      <td>36125</td>\n",
       "      <td>7</td>\n",
       "      <td>2132325</td>\n",
       "      <td>2760000</td>\n",
       "      <td>14.602483</td>\n",
       "      <td>0</td>\n",
       "    </tr>\n",
       "    <tr>\n",
       "      <th>131</th>\n",
       "      <td>RWANDA</td>\n",
       "      <td>POINT (2865254.985 -256663.893)</td>\n",
       "      <td>RW</td>\n",
       "      <td>RWA</td>\n",
       "      <td>AFRICA</td>\n",
       "      <td>87.5</td>\n",
       "      <td>1189000</td>\n",
       "      <td>26338</td>\n",
       "      <td>8</td>\n",
       "      <td>13623302</td>\n",
       "      <td>12800000</td>\n",
       "      <td>36.909758</td>\n",
       "      <td>0</td>\n",
       "    </tr>\n",
       "    <tr>\n",
       "      <th>133</th>\n",
       "      <td>SEYCHELLES</td>\n",
       "      <td>POINT (4990182.932 -813886.324)</td>\n",
       "      <td>SC</td>\n",
       "      <td>SYC</td>\n",
       "      <td>AFRICA</td>\n",
       "      <td>55.2</td>\n",
       "      <td>1156000</td>\n",
       "      <td>455</td>\n",
       "      <td>16</td>\n",
       "      <td>98187</td>\n",
       "      <td>165000</td>\n",
       "      <td>3.133480</td>\n",
       "      <td>0</td>\n",
       "    </tr>\n",
       "    <tr>\n",
       "      <th>134</th>\n",
       "      <td>SENEGAL</td>\n",
       "      <td>POINT (-1365032.305 1835384.009)</td>\n",
       "      <td>SN</td>\n",
       "      <td>SEN</td>\n",
       "      <td>AFRICA</td>\n",
       "      <td>77.2</td>\n",
       "      <td>10696000</td>\n",
       "      <td>196722</td>\n",
       "      <td>20</td>\n",
       "      <td>18847519</td>\n",
       "      <td>22400000</td>\n",
       "      <td>43.413729</td>\n",
       "      <td>0</td>\n",
       "    </tr>\n",
       "    <tr>\n",
       "      <th>136</th>\n",
       "      <td>SIERRA LEONE</td>\n",
       "      <td>POINT (-1123653.411 1097624.236)</td>\n",
       "      <td>SL</td>\n",
       "      <td>SLE</td>\n",
       "      <td>AFRICA</td>\n",
       "      <td>86.8</td>\n",
       "      <td>899000</td>\n",
       "      <td>71740</td>\n",
       "      <td>8</td>\n",
       "      <td>9121049</td>\n",
       "      <td>8230000</td>\n",
       "      <td>30.201074</td>\n",
       "      <td>0</td>\n",
       "    </tr>\n",
       "    <tr>\n",
       "      <th>140</th>\n",
       "      <td>SUDAN</td>\n",
       "      <td>POINT (2813680.083 2035116.459)</td>\n",
       "      <td>SD</td>\n",
       "      <td>SDN</td>\n",
       "      <td>AFRICA</td>\n",
       "      <td>108.0</td>\n",
       "      <td>17319000</td>\n",
       "      <td>1861484</td>\n",
       "      <td>45</td>\n",
       "      <td>50467278</td>\n",
       "      <td>34700000</td>\n",
       "      <td>71.040325</td>\n",
       "      <td>0</td>\n",
       "    </tr>\n",
       "    <tr>\n",
       "      <th>147</th>\n",
       "      <td>TOGO</td>\n",
       "      <td>POINT (93079.159 1093863.123)</td>\n",
       "      <td>TG</td>\n",
       "      <td>TGO</td>\n",
       "      <td>AFRICA</td>\n",
       "      <td>87.4</td>\n",
       "      <td>2244000</td>\n",
       "      <td>56785</td>\n",
       "      <td>7</td>\n",
       "      <td>8917994</td>\n",
       "      <td>7050000</td>\n",
       "      <td>29.863011</td>\n",
       "      <td>0</td>\n",
       "    </tr>\n",
       "    <tr>\n",
       "      <th>148</th>\n",
       "      <td>SAO TOME AND PRINCIPE</td>\n",
       "      <td>POINT (645335.055 58704.829)</td>\n",
       "      <td>ST</td>\n",
       "      <td>STP</td>\n",
       "      <td>AFRICA</td>\n",
       "      <td>71.1</td>\n",
       "      <td>173000</td>\n",
       "      <td>964</td>\n",
       "      <td>2</td>\n",
       "      <td>223561</td>\n",
       "      <td>152000</td>\n",
       "      <td>4.728224</td>\n",
       "      <td>0</td>\n",
       "    </tr>\n",
       "    <tr>\n",
       "      <th>149</th>\n",
       "      <td>TUNISIA</td>\n",
       "      <td>POINT (840436.781 4244177.598)</td>\n",
       "      <td>TN</td>\n",
       "      <td>TUN</td>\n",
       "      <td>AFRICA</td>\n",
       "      <td>70.1</td>\n",
       "      <td>23692000</td>\n",
       "      <td>163610</td>\n",
       "      <td>14</td>\n",
       "      <td>12048847</td>\n",
       "      <td>16400000</td>\n",
       "      <td>34.711449</td>\n",
       "      <td>0</td>\n",
       "    </tr>\n",
       "    <tr>\n",
       "      <th>152</th>\n",
       "      <td>TANZANIA</td>\n",
       "      <td>POINT (3324178.466 -802705.339)</td>\n",
       "      <td>TZ</td>\n",
       "      <td>TZA</td>\n",
       "      <td>AFRICA</td>\n",
       "      <td>80.1</td>\n",
       "      <td>11491000</td>\n",
       "      <td>947300</td>\n",
       "      <td>206</td>\n",
       "      <td>67462121</td>\n",
       "      <td>70200000</td>\n",
       "      <td>82.135328</td>\n",
       "      <td>0</td>\n",
       "    </tr>\n",
       "    <tr>\n",
       "      <th>153</th>\n",
       "      <td>UGANDA</td>\n",
       "      <td>POINT (3101762.705 164331.143)</td>\n",
       "      <td>UG</td>\n",
       "      <td>UGA</td>\n",
       "      <td>AFRICA</td>\n",
       "      <td>95.3</td>\n",
       "      <td>5841000</td>\n",
       "      <td>241038</td>\n",
       "      <td>39</td>\n",
       "      <td>49283041</td>\n",
       "      <td>42100000</td>\n",
       "      <td>70.201881</td>\n",
       "      <td>0</td>\n",
       "    </tr>\n",
       "    <tr>\n",
       "      <th>157</th>\n",
       "      <td>BURKINA FASO</td>\n",
       "      <td>POINT (-165329.439 1570663.435)</td>\n",
       "      <td>BF</td>\n",
       "      <td>BFA</td>\n",
       "      <td>AFRICA</td>\n",
       "      <td>83.9</td>\n",
       "      <td>4444000</td>\n",
       "      <td>274200</td>\n",
       "      <td>49</td>\n",
       "      <td>23042199</td>\n",
       "      <td>24700000</td>\n",
       "      <td>48.002291</td>\n",
       "      <td>0</td>\n",
       "    </tr>\n",
       "    <tr>\n",
       "      <th>162</th>\n",
       "      <td>NAMIBIA</td>\n",
       "      <td>POINT (1590170.751 -2796299.12)</td>\n",
       "      <td>NaN</td>\n",
       "      <td>NAM</td>\n",
       "      <td>AFRICA</td>\n",
       "      <td>66.4</td>\n",
       "      <td>3831000</td>\n",
       "      <td>824292</td>\n",
       "      <td>259</td>\n",
       "      <td>2803660</td>\n",
       "      <td>2600000</td>\n",
       "      <td>16.744133</td>\n",
       "      <td>0</td>\n",
       "    </tr>\n",
       "    <tr>\n",
       "      <th>164</th>\n",
       "      <td>ESWATINI</td>\n",
       "      <td>POINT (2865273.36 -3350438.621)</td>\n",
       "      <td>SZ</td>\n",
       "      <td>SWZ</td>\n",
       "      <td>AFRICA</td>\n",
       "      <td>85.3</td>\n",
       "      <td>1224000</td>\n",
       "      <td>17364</td>\n",
       "      <td>16</td>\n",
       "      <td>1138089</td>\n",
       "      <td>1520000</td>\n",
       "      <td>10.668125</td>\n",
       "      <td>0</td>\n",
       "    </tr>\n",
       "    <tr>\n",
       "      <th>166</th>\n",
       "      <td>ZAMBIA</td>\n",
       "      <td>POINT (2629786.953 -1717186.669)</td>\n",
       "      <td>ZM</td>\n",
       "      <td>ZMB</td>\n",
       "      <td>AFRICA</td>\n",
       "      <td>85.7</td>\n",
       "      <td>6798000</td>\n",
       "      <td>752618</td>\n",
       "      <td>120</td>\n",
       "      <td>20799116</td>\n",
       "      <td>21200000</td>\n",
       "      <td>45.606048</td>\n",
       "      <td>0</td>\n",
       "    </tr>\n",
       "    <tr>\n",
       "      <th>167</th>\n",
       "      <td>ZIMBABWE</td>\n",
       "      <td>POINT (2787117.299 -2416308.277)</td>\n",
       "      <td>ZW</td>\n",
       "      <td>ZWE</td>\n",
       "      <td>AFRICA</td>\n",
       "      <td>99.5</td>\n",
       "      <td>7902000</td>\n",
       "      <td>390757</td>\n",
       "      <td>144</td>\n",
       "      <td>17150352</td>\n",
       "      <td>15000000</td>\n",
       "      <td>41.412983</td>\n",
       "      <td>0</td>\n",
       "    </tr>\n",
       "    <tr>\n",
       "      <th>168</th>\n",
       "      <td>SOUTH SUDAN</td>\n",
       "      <td>POINT (2891304.613 934969.388)</td>\n",
       "      <td>SS</td>\n",
       "      <td>SSD</td>\n",
       "      <td>AFRICA</td>\n",
       "      <td>112.2</td>\n",
       "      <td>1778000</td>\n",
       "      <td>644329</td>\n",
       "      <td>89</td>\n",
       "      <td>12703714</td>\n",
       "      <td>6170000</td>\n",
       "      <td>35.642270</td>\n",
       "      <td>0</td>\n",
       "    </tr>\n",
       "  </tbody>\n",
       "</table>\n",
       "</div>"
      ],
      "text/plain": [
       "                              Country                          geometry iso2  \\\n",
       "2                             ALGERIA     POINT (238502.141 3518510.55)   DZ   \n",
       "6                              ANGOLA  POINT (1660973.947 -1567698.855)   AO   \n",
       "12                           BOTSWANA  POINT (2201221.267 -2809166.362)   BW   \n",
       "19                              BENIN    POINT (222846.461 1235558.191)   BJ   \n",
       "26                            BURUNDI   POINT (2860810.304 -431061.403)   BI   \n",
       "29                               CHAD   POINT (1755417.429 1950748.319)   TD   \n",
       "31                              CONGO    POINT (1457936.98 -107754.095)   CG   \n",
       "32   DEMOCRATIC REPUBLIC OF THE CONGO   POINT (2261167.581 -366628.064)   CD   \n",
       "35                           CAMEROON    POINT (1217073.791 728109.574)   CM   \n",
       "36                            COMOROS  POINT (4141456.507 -1522508.183)   KM   \n",
       "40           CENTRAL AFRICAN REPUBLIC    POINT (1955334.566 842556.246)   CF   \n",
       "42                         CAPE VERDE   POINT (-2253645.032 2039142.15)   CV   \n",
       "45                           DJIBOUTI   POINT (4038310.824 1504267.133)   DJ   \n",
       "48                              EGYPT   POINT (2718439.633 3332479.727)   EG   \n",
       "50                  EQUATORIAL GUINEA     POINT (990547.829 219959.765)   GQ   \n",
       "53                           ETHIOPIA     POINT (3773637.19 1103137.24)   ET   \n",
       "58                             GAMBIA  POINT (-1454854.032 1720505.309)   GM   \n",
       "59                              GABON    POINT (1130001.189 -75876.847)   GA   \n",
       "61                              GHANA   POINT (-115119.235 1020017.928)   GH   \n",
       "66                             GUINEA  POINT (-1039447.767 1336788.107)   GN   \n",
       "77                        IVORY COAST    POINT (-529901.069 978299.389)   CI   \n",
       "82                              KENYA     POINT (3625433.652 67979.349)   KE   \n",
       "91                            LIBERIA    POINT (-888812.255 827345.635)   LR   \n",
       "92                            LESOTHO  POINT (2536936.865 -3713971.261)   LS   \n",
       "94                              LIBYA   POINT (1639509.421 3396552.514)   LY   \n",
       "95                         MADAGASCAR  POINT (4353978.836 -2455573.483)   MG   \n",
       "98                             MALAWI  POINT (3244109.685 -1688214.547)   MW   \n",
       "100                              MALI   POINT (-333325.798 2202010.698)   ML   \n",
       "101                           MOROCCO   POINT (-566301.085 3981611.079)   MA   \n",
       "102                         MAURITIUS  POINT (5381009.514 -2574687.655)   MU   \n",
       "103                        MAURITANIA   POINT (-961769.628 2566844.341)   MR   \n",
       "110                        MOZAMBIQUE  POINT (3334644.699 -2186645.366)   MZ   \n",
       "111                             NIGER    POINT (876563.601 2215267.673)   NE   \n",
       "112                           NIGERIA    POINT (770395.209 1227428.411)   NG   \n",
       "126                     GUINEA-BISSAU  POINT (-1418565.086 1540132.491)   GW   \n",
       "131                            RWANDA   POINT (2865254.985 -256663.893)   RW   \n",
       "133                        SEYCHELLES   POINT (4990182.932 -813886.324)   SC   \n",
       "134                           SENEGAL  POINT (-1365032.305 1835384.009)   SN   \n",
       "136                      SIERRA LEONE  POINT (-1123653.411 1097624.236)   SL   \n",
       "140                             SUDAN   POINT (2813680.083 2035116.459)   SD   \n",
       "147                              TOGO     POINT (93079.159 1093863.123)   TG   \n",
       "148             SAO TOME AND PRINCIPE      POINT (645335.055 58704.829)   ST   \n",
       "149                           TUNISIA    POINT (840436.781 4244177.598)   TN   \n",
       "152                          TANZANIA   POINT (3324178.466 -802705.339)   TZ   \n",
       "153                            UGANDA    POINT (3101762.705 164331.143)   UG   \n",
       "157                      BURKINA FASO   POINT (-165329.439 1570663.435)   BF   \n",
       "162                           NAMIBIA   POINT (1590170.751 -2796299.12)  NaN   \n",
       "164                          ESWATINI   POINT (2865273.36 -3350438.621)   SZ   \n",
       "166                            ZAMBIA  POINT (2629786.953 -1717186.669)   ZM   \n",
       "167                          ZIMBABWE  POINT (2787117.299 -2416308.277)   ZW   \n",
       "168                       SOUTH SUDAN    POINT (2891304.613 934969.388)   SS   \n",
       "\n",
       "    iso3  region  fragility        co2    sq_km  num_airports  population  \\\n",
       "2    DZA  AFRICA       75.4  151633000  2381740            95    47022473   \n",
       "6    AGO  AFRICA       87.8   19362000  1246700           107    37202061   \n",
       "12   BWA  AFRICA       59.5    5965000   581730           122     2450668   \n",
       "19   BEN  AFRICA       73.6    6903000   112622            10    14697052   \n",
       "26   BDI  AFRICA       98.2     715000    27830             6    13590102   \n",
       "29   TCD  AFRICA      108.5    1771000  1284000            44    19093595   \n",
       "31   COG  AFRICA       92.5    4523000   342000            56     6097665   \n",
       "32   COD  AFRICA      110.2    2653000  2344858           273   115403027   \n",
       "35   CMR  AFRICA       97.0    7105000   475440            37    30966105   \n",
       "36   COM  AFRICA       81.7     326000     2235             3      900141   \n",
       "40   CAF  AFRICA      108.9     285000   622984            43     5650957   \n",
       "42   CPV  AFRICA       66.6    1002000     4033            10      611014   \n",
       "45   DJI  AFRICA       85.1     610000    23200            10      994974   \n",
       "48   EGY  AFRICA       88.4  235137000  1001450            73   111247248   \n",
       "50   GNQ  AFRICA       82.6    4528000    28051             7     1795834   \n",
       "53   ETH  AFRICA       94.2   16798000  1104300            58   118550298   \n",
       "58   GMB  AFRICA       83.9     606000    11300             1     2523327   \n",
       "59   GAB  AFRICA       70.5    2651000   267667            42     2455105   \n",
       "61   GHA  AFRICA       65.9   18093000   238533            11    34589092   \n",
       "66   GIN  AFRICA       99.4    2981000   245857            16    13986179   \n",
       "77   CIV  AFRICA       92.1   11880000   322463            29    29981758   \n",
       "82   KEN  AFRICA       93.5   17709000   580367           368    58246378   \n",
       "91   LBR  AFRICA       90.2    1346000   111369            19     5437249   \n",
       "92   LSO  AFRICA       79.7     736000    30355            34     2227548   \n",
       "94   LBY  AFRICA       92.2   38297000  1759540            75     7361263   \n",
       "95   MDG  AFRICA       80.9    4218000   587041            93    29452714   \n",
       "98   MWI  AFRICA       83.3    1542000   118484            27    21763309   \n",
       "100  MLI  AFRICA       94.5    5679000  1240192            30    21990607   \n",
       "101  MAR  AFRICA       73.0   60200000   716550            48    37387585   \n",
       "102  MUS  AFRICA       38.9    7191000     2040             5     1310504   \n",
       "103  MRT  AFRICA       90.1    4041000  1030700            25     4328040   \n",
       "110  MOZ  AFRICA       88.7    7753000   799380            92    33350954   \n",
       "111  NER  AFRICA       96.2    2374000  1267000            26    26342784   \n",
       "112  NGA  AFRICA       98.5  104494000   923768            50   236747130   \n",
       "126  GNB  AFRICA       95.5     342000    36125             7     2132325   \n",
       "131  RWA  AFRICA       87.5    1189000    26338             8    13623302   \n",
       "133  SYC  AFRICA       55.2    1156000      455            16       98187   \n",
       "134  SEN  AFRICA       77.2   10696000   196722            20    18847519   \n",
       "136  SLE  AFRICA       86.8     899000    71740             8     9121049   \n",
       "140  SDN  AFRICA      108.0   17319000  1861484            45    50467278   \n",
       "147  TGO  AFRICA       87.4    2244000    56785             7     8917994   \n",
       "148  STP  AFRICA       71.1     173000      964             2      223561   \n",
       "149  TUN  AFRICA       70.1   23692000   163610            14    12048847   \n",
       "152  TZA  AFRICA       80.1   11491000   947300           206    67462121   \n",
       "153  UGA  AFRICA       95.3    5841000   241038            39    49283041   \n",
       "157  BFA  AFRICA       83.9    4444000   274200            49    23042199   \n",
       "162  NAM  AFRICA       66.4    3831000   824292           259     2803660   \n",
       "164  SWZ  AFRICA       85.3    1224000    17364            16     1138089   \n",
       "166  ZMB  AFRICA       85.7    6798000   752618           120    20799116   \n",
       "167  ZWE  AFRICA       99.5    7902000   390757           144    17150352   \n",
       "168  SSD  AFRICA      112.2    1778000   644329            89    12703714   \n",
       "\n",
       "       mobiles        size  population_outlier  \n",
       "2     51500000   68.572934                   0  \n",
       "6     25700000   60.993492                   0  \n",
       "12     4440000   15.654610                   0  \n",
       "19    16400000   38.336734                   0  \n",
       "26     8650000   36.864756                   0  \n",
       "29    12100000   43.696218                   0  \n",
       "31     5870000   24.693451                   0  \n",
       "32    49800000  107.425801                   1  \n",
       "35    26200000   55.647197                   0  \n",
       "36      934000    9.487576                   0  \n",
       "40     1830000   23.771742                   0  \n",
       "42      590000    7.816738                   0  \n",
       "45      574000    9.974838                   0  \n",
       "48   106000000  105.473811                   1  \n",
       "50      893000   13.400873                   0  \n",
       "53    71400000  108.880805                   1  \n",
       "58     2680000   15.884983                   0  \n",
       "59     3000000   15.668775                   0  \n",
       "61    33400000   58.812492                   0  \n",
       "66    13800000   37.398100                   0  \n",
       "77    53600000   54.755601                   0  \n",
       "82    66700000   76.319315                   0  \n",
       "91     1650000   23.317909                   0  \n",
       "92     1600000   14.924972                   0  \n",
       "94    13900000   27.131648                   0  \n",
       "95    25400000   54.270355                   0  \n",
       "98    12900000   46.651162                   0  \n",
       "100   25900000   46.894144                   0  \n",
       "101   55900000   61.145388                   0  \n",
       "102    2100000   11.447725                   0  \n",
       "103    5360000   20.803942                   0  \n",
       "110   15000000   57.750285                   0  \n",
       "111   14200000   51.325222                   0  \n",
       "112  224000000  153.865893                   1  \n",
       "126    2760000   14.602483                   0  \n",
       "131   12800000   36.909758                   0  \n",
       "133     165000    3.133480                   0  \n",
       "134   22400000   43.413729                   0  \n",
       "136    8230000   30.201074                   0  \n",
       "140   34700000   71.040325                   0  \n",
       "147    7050000   29.863011                   0  \n",
       "148     152000    4.728224                   0  \n",
       "149   16400000   34.711449                   0  \n",
       "152   70200000   82.135328                   0  \n",
       "153   42100000   70.201881                   0  \n",
       "157   24700000   48.002291                   0  \n",
       "162    2600000   16.744133                   0  \n",
       "164    1520000   10.668125                   0  \n",
       "166   21200000   45.606048                   0  \n",
       "167   15000000   41.412983                   0  \n",
       "168    6170000   35.642270                   0  "
      ]
     },
     "execution_count": 232,
     "metadata": {},
     "output_type": "execute_result"
    }
   ],
   "source": [
    "Africa_8857_centroids['population_outlier']=Africa_8857_centroids.population.isin(outliers)*1\n",
    "\n",
    "## see\n",
    "Africa_8857_centroids"
   ]
  },
  {
   "cell_type": "markdown",
   "metadata": {},
   "source": [
    "We can use that like this:"
   ]
  },
  {
   "cell_type": "code",
   "execution_count": 233,
   "metadata": {},
   "outputs": [
    {
     "data": {
      "text/plain": [
       "<Axes: >"
      ]
     },
     "execution_count": 233,
     "metadata": {},
     "output_type": "execute_result"
    },
    {
     "data": {
      "image/png": "[encoded data removed]",
      "text/plain": [
       "<Figure size 1000x1000 with 1 Axes>"
      ]
     },
     "metadata": {},
     "output_type": "display_data"
    }
   ],
   "source": [
    "base = Africa_8857.plot(color='white', edgecolor='black', figsize=(10,10))\n",
    "\n",
    "# Define your color map\n",
    "mapcolor = {1: 'black', 0: 'lightgrey'}\n",
    "\n",
    "# Plot the centroids on top\n",
    "Africa_8857_centroids.plot(\n",
    "    ax=base,\n",
    "    markersize=Africa_8857_centroids['size'],\n",
    "    color=Africa_8857_centroids['population_outlier'].map(mapcolor)\n",
    ")"
   ]
  },
  {
   "cell_type": "markdown",
   "metadata": {},
   "source": [
    "Here, we do a good job for outliers, but it is difficult to interprete the other ones. We could use some redundancy, but more work is needed:\n",
    "1. Create two maps of centroids:"
   ]
  },
  {
   "cell_type": "code",
   "execution_count": 235,
   "metadata": {},
   "outputs": [],
   "source": [
    "Africa_8857_centroids_out=Africa_8857_centroids[Africa_8857_centroids.population.isin(outliers)]\n",
    "Africa_8857_centroids_no_out=Africa_8857_centroids[~Africa_8857_centroids.population.isin(outliers)]"
   ]
  },
  {
   "cell_type": "markdown",
   "metadata": {},
   "source": [
    "2. Compute sizes in each:"
   ]
  },
  {
   "cell_type": "code",
   "execution_count": 236,
   "metadata": {},
   "outputs": [
    {
     "name": "stderr",
     "output_type": "stream",
     "text": [
      "/opt/anaconda3/envs/spatial_311py/lib/python3.11/site-packages/geopandas/geodataframe.py:1968: SettingWithCopyWarning: \n",
      "A value is trying to be set on a copy of a slice from a DataFrame.\n",
      "Try using .loc[row_indexer,col_indexer] = value instead\n",
      "\n",
      "See the caveats in the documentation: https://pandas.pydata.org/pandas-docs/stable/user_guide/indexing.html#returning-a-view-versus-a-copy\n",
      "  super().__setitem__(key, value)\n"
     ]
    }
   ],
   "source": [
    "Africa_8857_centroids_out['size'] = Africa_8857_centroids_out['population'].apply(lambda x: x**0.5/ 50)\n",
    "Africa_8857_centroids_no_out['size'] = Africa_8857_centroids_no_out['population'].apply(lambda x: x**0.5/ 50)"
   ]
  },
  {
   "cell_type": "markdown",
   "metadata": {},
   "source": [
    "Now, plot the three layers, using some color gradient for the non-outliers:"
   ]
  },
  {
   "cell_type": "code",
   "execution_count": 237,
   "metadata": {},
   "outputs": [
    {
     "data": {
      "text/plain": [
       "<Axes: >"
      ]
     },
     "execution_count": 237,
     "metadata": {},
     "output_type": "execute_result"
    },
    {
     "data": {
      "image/png": "[encoded data removed]",
      "text/plain": [
       "<Figure size 1000x1000 with 1 Axes>"
      ]
     },
     "metadata": {},
     "output_type": "display_data"
    }
   ],
   "source": [
    "base=Africa_8857.plot(color='white', edgecolor='grey',figsize=(10,10)) \n",
    "\n",
    "Africa_8857_centroids_no_out.plot(\n",
    "    ax=base,\n",
    "    markersize=Africa_8857_centroids_no_out['size'],\n",
    "    edgecolor='grey',\n",
    "    c=Africa_8857_centroids_no_out['size'],\n",
    "    cmap='Blues_r'\n",
    ")\n",
    "Africa_8857_centroids_out.plot(\n",
    "    ax=base,\n",
    "    markersize=Africa_8857_centroids_out['size'],\n",
    "    color='orange'\n",
    ")"
   ]
  },
  {
   "cell_type": "markdown",
   "metadata": {
    "id": "mZicl2ut911H"
   },
   "source": [
    "# Choropleths\n",
    "\n",
    "## Transformation of data values\n",
    "\n",
    "### Re Scaling\n",
    "\n",
    "We should plan how to color the polygons based on some variable, let me check our variables of interest:"
   ]
  },
  {
   "cell_type": "code",
   "execution_count": null,
   "metadata": {
    "id": "4KpqfrRB911H"
   },
   "outputs": [],
   "source": [
    "DataNames=['fragility', 'co2', 'ForestRev_gdp']"
   ]
  },
  {
   "cell_type": "code",
   "execution_count": null,
   "metadata": {
    "id": "owx8zLXQ911I"
   },
   "outputs": [],
   "source": [
    "\n",
    "pd.melt(theMapAndData[DataNames])"
   ]
  },
  {
   "cell_type": "code",
   "execution_count": null,
   "metadata": {
    "id": "hCvWgr63911I"
   },
   "outputs": [],
   "source": [
    "import seaborn as sns\n",
    "import matplotlib.pyplot as plt\n",
    "\n",
    "sns.displot(pd.melt(theMapAndData[DataNames]),\n",
    "            x=\"value\", hue=\"variable\",kind=\"kde\",\n",
    "            log_scale=(False,False))"
   ]
  },
  {
   "cell_type": "markdown",
   "metadata": {
    "id": "P3hCupcF911I"
   },
   "source": [
    "The variables are in different units, we should try a data rescaling strategy:"
   ]
  },
  {
   "cell_type": "code",
   "execution_count": null,
   "metadata": {
    "id": "_Vo-RpYT911I"
   },
   "outputs": [],
   "source": [
    "# !pip install -U scikit-learn"
   ]
  },
  {
   "cell_type": "markdown",
   "metadata": {
    "id": "tftzIdbg911I"
   },
   "source": [
    "* **StandardScaler**:"
   ]
  },
  {
   "cell_type": "code",
   "execution_count": null,
   "metadata": {
    "id": "IAf2hGcY911I"
   },
   "outputs": [],
   "source": [
    "from sklearn.preprocessing import StandardScaler\n",
    "\n",
    "scaler = StandardScaler()\n",
    "normalized_data = scaler.fit_transform(theMapAndData[DataNames])\n",
    "sns.displot(pd.melt(pd.DataFrame(normalized_data,columns=DataNames)),\n",
    "            x=\"value\", hue=\"variable\",kind=\"kde\",\n",
    "            log_scale=(False,False))"
   ]
  },
  {
   "cell_type": "markdown",
   "metadata": {
    "id": "ixk2GsQ8911I"
   },
   "source": [
    "* **MinMaxScaler**:"
   ]
  },
  {
   "cell_type": "code",
   "execution_count": null,
   "metadata": {
    "id": "EycFhq7i911J"
   },
   "outputs": [],
   "source": [
    "from sklearn.preprocessing import MinMaxScaler\n",
    "\n",
    "scaler = MinMaxScaler(feature_range=(0, 1))\n",
    "scaled_data=scaler.fit_transform(theMapAndData[DataNames])\n",
    "\n",
    "sns.displot(pd.melt(pd.DataFrame(scaled_data,columns=DataNames)),\n",
    "            x=\"value\", hue=\"variable\",kind=\"kde\",\n",
    "            log_scale=(False,False))"
   ]
  },
  {
   "cell_type": "markdown",
   "metadata": {
    "id": "hdV_cuuY911J"
   },
   "source": [
    "* **RobustScaler**:"
   ]
  },
  {
   "cell_type": "code",
   "execution_count": null,
   "metadata": {
    "id": "eyVByKu4911J"
   },
   "outputs": [],
   "source": [
    "from sklearn.preprocessing import RobustScaler\n",
    "scaler = RobustScaler()\n",
    "robScaled_data = scaler.fit_transform(theMapAndData[DataNames])\n",
    "\n",
    "sns.displot(pd.melt(pd.DataFrame(robScaled_data,columns=DataNames)),\n",
    "            x=\"value\", hue=\"variable\",kind=\"kde\",\n",
    "            log_scale=(False,False))"
   ]
  },
  {
   "cell_type": "markdown",
   "metadata": {
    "id": "MlIt2ggd911J"
   },
   "source": [
    "* **QuantileTransformer**:"
   ]
  },
  {
   "cell_type": "code",
   "execution_count": null,
   "metadata": {
    "id": "0r0hi-BE911J"
   },
   "outputs": [],
   "source": [
    "from sklearn.preprocessing import QuantileTransformer\n",
    "scaler = QuantileTransformer(n_quantiles=99, random_state=0,output_distribution='normal') #or 'uniform'\n",
    "QtScaled_data = scaler.fit_transform(theMapAndData[DataNames])\n",
    "\n",
    "sns.displot(pd.melt(pd.DataFrame(QtScaled_data,columns=DataNames)),\n",
    "            x=\"value\", hue=\"variable\",kind=\"kde\",\n",
    "            log_scale=(False,False))"
   ]
  },
  {
   "cell_type": "markdown",
   "metadata": {
    "id": "la4Wko9duich"
   },
   "source": [
    "Let's keep the last one:"
   ]
  },
  {
   "cell_type": "code",
   "execution_count": null,
   "metadata": {
    "id": "bM1DZOXx911J"
   },
   "outputs": [],
   "source": [
    "theMapAndData['fragility_Qt']=QtScaled_data[:,0]"
   ]
  },
  {
   "cell_type": "markdown",
   "metadata": {
    "id": "Mvu1FQMh911J"
   },
   "source": [
    "### Discretizing"
   ]
  },
  {
   "cell_type": "markdown",
   "metadata": {
    "id": "UHh74IeT911J"
   },
   "source": [
    "I will keep the _data_Qt_ data frame. Now, I want cut the data.\n",
    "Please install [**numba**](https://numba.readthedocs.io/en/stable/user/installing.html) before runing the next code; also make sure you have **pysal**, **mapclassify** and **numpy** installed:"
   ]
  },
  {
   "cell_type": "code",
   "execution_count": null,
   "metadata": {
    "id": "pSSN_XDv911K"
   },
   "outputs": [],
   "source": [
    "! pip show numba mapclassify numpy"
   ]
  },
  {
   "cell_type": "code",
   "execution_count": null,
   "metadata": {
    "id": "nBBm8XmEuicm"
   },
   "outputs": [],
   "source": [
    "# !pip install mapclassify"
   ]
  },
  {
   "cell_type": "markdown",
   "metadata": {
    "id": "XifM5dIB911K"
   },
   "source": [
    "Let me discretize **fragility_Qt**:"
   ]
  },
  {
   "cell_type": "code",
   "execution_count": null,
   "metadata": {
    "id": "CvipvzA1911K"
   },
   "outputs": [],
   "source": [
    "import mapclassify\n",
    "import numpy as np\n",
    "\n",
    "np.random.seed(12345) # so we all get the same results!\n",
    "\n",
    "# let's try 5 intervals\n",
    "K=5\n",
    "theVar=theMapAndData.fragility_Qt\n",
    "# same interval width, easy interpretation\n",
    "ei5 = mapclassify.EqualInterval(theVar, k=K)\n",
    "# same interval width based on standard deviation, easy - but not as the previous one, poor when high skewness\n",
    "msd = mapclassify.StdMean(theVar)\n",
    "# interval width varies, counts per interval are close, not easy to grasp, repeated values complicate cuts\n",
    "q5=mapclassify.Quantiles(theVar,k=K)\n",
    "\n",
    "# based on similarity, good for multimodal data\n",
    "mb5 = mapclassify.MaximumBreaks(theVar, k=K)\n",
    "# based on similarity, good for skewed data\n",
    "ht = mapclassify.HeadTailBreaks(theVar) # no K needed\n",
    "# based on similarity, optimizer\n",
    "fj5 = mapclassify.FisherJenks(theVar, k=K)\n",
    "# based on similarity, optimizer\n",
    "jc5 = mapclassify.JenksCaspall(theVar, k=K)\n",
    "# based on similarity, optimizer\n",
    "mp5 = mapclassify.MaxP(theVar, k=K)"
   ]
  },
  {
   "cell_type": "markdown",
   "metadata": {
    "id": "jMjS1bE0911K"
   },
   "source": [
    "How can we select the right classification?\n",
    "Let me use the the Absolute deviation around class median (ADCM) to make the comparisson:"
   ]
  },
  {
   "cell_type": "code",
   "execution_count": null,
   "metadata": {
    "id": "bKvo0_cQ911K"
   },
   "outputs": [],
   "source": [
    "class5 = ei5,msd, q5,mb5,  ht, fj5, jc5, mp5\n",
    "# Collect ADCM for each classifier\n",
    "fits = np.array([ c.adcm for c in class5])\n",
    "# Convert ADCM scores to a DataFrame\n",
    "adcms = pd.DataFrame(fits)\n",
    "# Add classifier names\n",
    "adcms['classifier'] = [c.name for c in class5]\n",
    "# Add column names to the ADCM\n",
    "adcms.columns = ['ADCM', 'Classifier']"
   ]
  },
  {
   "cell_type": "markdown",
   "metadata": {
    "id": "anEyZGV6911L"
   },
   "source": [
    "Now, plot the **adcms**:"
   ]
  },
  {
   "cell_type": "code",
   "execution_count": null,
   "metadata": {
    "id": "TnYEkaJf911L"
   },
   "outputs": [],
   "source": [
    "adcms.sort_values('ADCM').plot.barh(x='Classifier')"
   ]
  },
  {
   "cell_type": "markdown",
   "metadata": {
    "id": "v22izWrv911L"
   },
   "source": [
    "Let's save the best strategy:"
   ]
  },
  {
   "cell_type": "code",
   "execution_count": null,
   "metadata": {
    "id": "QVab2hAl911L"
   },
   "outputs": [],
   "source": [
    "theMapAndData['fragility_Qt_jc5'] = jc5.yb"
   ]
  },
  {
   "cell_type": "code",
   "execution_count": null,
   "metadata": {
    "id": "NlOeXrph911L"
   },
   "outputs": [],
   "source": [
    "# there you are\n",
    "theMapAndData[['fragility_Qt','fragility_Qt_jc5']].head()"
   ]
  },
  {
   "cell_type": "markdown",
   "metadata": {
    "id": "6tBZSYFY911L"
   },
   "source": [
    "Let's check the mean of 'fragility_Qt' by the labels of the columns created (from '0' to '4')"
   ]
  },
  {
   "cell_type": "code",
   "execution_count": null,
   "metadata": {
    "id": "z0hBWL1d911L"
   },
   "outputs": [],
   "source": [
    "indexList=['fragility_Qt_jc5'] # add more?\n",
    "aggregator={'fragility_Qt': ['mean']}\n",
    "\n",
    "pd.concat([theMapAndData[['fragility_Qt',col]].groupby(col,as_index=False).agg(aggregator) for col in indexList],axis=1)"
   ]
  },
  {
   "cell_type": "markdown",
   "metadata": {
    "id": "eZdX-5M4911L"
   },
   "source": [
    "We could create a new column:"
   ]
  },
  {
   "cell_type": "code",
   "execution_count": null,
   "metadata": {
    "id": "5GT4XA4C911P"
   },
   "outputs": [],
   "source": [
    "# renaming\n",
    "newLabelsForLevels={0:\"0_Great\", 1:\"1_Good\", 2:\"2_Middle\", 3:\"3_Bad\", 4:\"4_Poor\"}\n",
    "\n",
    "theMapAndData['fragility_Qt_jc5_cat']=theMapAndData.loc[:,'fragility_Qt_jc5'].replace(newLabelsForLevels)\n",
    "\n",
    "# we have\n",
    "theMapAndData[['fragility_Qt','fragility_Qt_jc5','fragility_Qt_jc5_cat']].head(20)"
   ]
  },
  {
   "cell_type": "markdown",
   "metadata": {
    "id": "WMBgSJUw911P"
   },
   "source": [
    "We are ready for a choropleth:"
   ]
  },
  {
   "cell_type": "code",
   "execution_count": null,
   "metadata": {
    "id": "0BIR7WUe911P"
   },
   "outputs": [],
   "source": [
    "import matplotlib.pyplot as plt\n",
    "\n",
    "f, ax = plt.subplots(1, figsize=(10, 10))\n",
    "theMapAndData.plot(column='fragility_Qt_jc5_cat', # variable to plot\n",
    "                   cmap='viridis', # set of colors\n",
    "                   categorical=True, # can be interpreted as category\n",
    "                   edgecolor='white', # border color\n",
    "                   linewidth=0., # width of border\n",
    "                   alpha=1, # level of transparency (0 is invisible)\n",
    "                   legend=True, # need a legend?\n",
    "                   # location of legend: 'best', 'upper right', 'upper left', 'lower left',\n",
    "                   # 'lower right', 'right', 'center left', 'center right',\n",
    "                   # 'lower center', 'upper center', 'center'\n",
    "                   legend_kwds={'loc':\"lower left\"},\n",
    "        ax=ax\n",
    "       )\n",
    "\n",
    "ax.set_axis_off()"
   ]
  },
  {
   "cell_type": "markdown",
   "metadata": {
    "id": "x-qr4wOk911P"
   },
   "source": [
    "However, once you know the ADCM, you can request the choropleth without creating a variable:"
   ]
  },
  {
   "cell_type": "code",
   "execution_count": null,
   "metadata": {
    "id": "F_IIJHYb911Q"
   },
   "outputs": [],
   "source": [
    "import matplotlib.pyplot as plt\n",
    "\n",
    "f, ax = plt.subplots(1, figsize=(10, 10))\n",
    "theMapAndData.plot(column='fragility_Qt',\n",
    "                   cmap='OrRd',\n",
    "                   scheme=\"jenkscaspall\",k=5,\n",
    "        edgecolor='grey',\n",
    "        linewidth=0.5,\n",
    "        alpha=1,\n",
    "        legend=True,\n",
    "        legend_kwds={'loc':3},\n",
    "        ax=ax\n",
    "       )\n",
    "\n",
    "ax.set_axis_off()"
   ]
  },
  {
   "cell_type": "code",
   "execution_count": null,
   "metadata": {
    "id": "w-7bSegs911Q"
   },
   "outputs": [],
   "source": [
    "# finally\n",
    "\n",
    "theMapAndData.to_file(os.path.join(\"maps\",\"worldMaps.gpkg\"), layer='indicators', driver=\"GPKG\")"
   ]
  }
 ],
 "metadata": {
  "anaconda-cloud": {
   "attach-environment": true,
   "summary": "test"
  },
  "colab": {
   "provenance": []
  },
  "hide_input": false,
  "kernelspec": {
   "display_name": "Python 3 (ipykernel)",
   "language": "python",
   "name": "python3"
  },
  "language_info": {
   "codemirror_mode": {
    "name": "ipython",
    "version": 3
   },
   "file_extension": ".py",
   "mimetype": "text/x-python",
   "name": "python",
   "nbconvert_exporter": "python",
   "pygments_lexer": "ipython3",
   "version": "3.11.13"
  },
  "toc-autonumbering": false
 },
 "nbformat": 4,
 "nbformat_minor": 4
}
